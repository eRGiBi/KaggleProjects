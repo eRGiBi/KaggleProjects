{
 "cells": [
  {
   "cell_type": "markdown",
   "id": "b260f5b3bb829a73",
   "metadata": {},
   "source": [
    "\n",
    "# ISIC 2024 - Skin Cancer Detection with 3D-TBP\n",
    "\n",
    "Nicholas Kurtansky, Veronica Rotemberg, Maura Gillis, Kivanc Kose, Walter Reade, Ashley Chow. (2024). ISIC 2024 - Skin Cancer Detection with 3D-TBP. Kaggle. \n",
    "\n",
    "https://kaggle.com/competitions/isic-2024-challenge\n",
    "\n",
    "Currently heavily in development."
   ]
  },
  {
   "cell_type": "code",
   "execution_count": 2,
   "id": "2c1f0d5502d23b8d",
   "metadata": {
    "jupyter": {
     "is_executing": true
    }
   },
   "outputs": [
    {
     "name": "stderr",
     "output_type": "stream",
     "text": [
      "2024-10-14 23:04:54.203976: I tensorflow/core/platform/cpu_feature_guard.cc:182] This TensorFlow binary is optimized to use available CPU instructions in performance-critical operations.\n",
      "To enable the following instructions: SSE4.1 SSE4.2 AVX AVX2 FMA, in other operations, rebuild TensorFlow with the appropriate compiler flags.\n"
     ]
    }
   ],
   "source": [
    "import os\n",
    "import os.path as path\n",
    "import gc\n",
    "import cv2\n",
    "import math\n",
    "import copy\n",
    "import time\n",
    "import random\n",
    "import glob\n",
    "import warnings\n",
    "\n",
    "import h5py\n",
    "\n",
    "from matplotlib import pyplot as plt\n",
    "import seaborn as sns\n",
    "\n",
    "from functools import partial\n",
    "\n",
    "import numpy as np\n",
    "import pandas as pd\n",
    "\n",
    "# Pytorch\n",
    "# import torch\n",
    "# import torch.nn as nn\n",
    "# import torch.optim as optim\n",
    "# import torch.nn.functional as F\n",
    "# from torch.optim import lr_scheduler\n",
    "# from torch.utils.data import Dataset, DataLoader\n",
    "# from torch.cuda import amp\n",
    "# import torchvision\n",
    "# from torcheval.metrics.functional import binary_auroc\n",
    "\n",
    "# Tensorflow \n",
    "import tensorflow as tf\n",
    "import keras\n",
    "\n",
    "# Sklearn \n",
    "from sklearn.preprocessing import LabelEncoder\n",
    "from sklearn.model_selection import StratifiedKFold, StratifiedGroupKFold \n",
    "\n",
    "# import timm\n",
    "\n",
    "# Albumentations\n",
    "import albumentations as A\n",
    "# from albumentations.pytorch import ToTensorV2"
   ]
  },
  {
   "cell_type": "code",
   "execution_count": 3,
   "id": "e2a6a118b6308d31",
   "metadata": {},
   "outputs": [
    {
     "name": "stdout",
     "output_type": "stream",
     "text": [
      "Using device: CPU\n"
     ]
    }
   ],
   "source": [
    "env_cfg = {\n",
    "    \"seed\": 42,\n",
    "    # \"device\": nn.device(\"cuda:0\" if nn.cuda. else \"cpu\"),\n",
    "    \"device\" : \"GPU\" if tf.config.list_physical_devices('GPU') else \"CPU\",\n",
    "    \"verbosity\": '3',\n",
    "}\n",
    "CONFIG = {\n",
    "    \"seed\": 42,\n",
    "    \"epochs\": 50,\n",
    "    \"img_size\": 384,\n",
    "    \"model_name\": \"\",\n",
    "    \"checkpoint_path\" : \"/ISIC2024_SkinCancerDetection/saved_models\",\n",
    "    \"train_batch_size\": 32,\n",
    "    \n",
    "    \"valid_batch_size\": 64,\n",
    "    \"learning_rate\": 1e-4,\n",
    "    \n",
    "    \"scheduler\": 'CosineAnnealingLR',\n",
    "    \"min_lr\": 1e-6,\n",
    "    \"T_max\": 500,\n",
    "}\n",
    "\n",
    "print(f\"Using device: {env_cfg['device']}\")"
   ]
  },
  {
   "cell_type": "code",
   "execution_count": 4,
   "id": "3818397e011fe631",
   "metadata": {},
   "outputs": [],
   "source": [
    "warnings.filterwarnings(\"ignore\")\n",
    "\n",
    "# For descriptive error messages\n",
    "os.environ['CUDA_LAUNCH_BLOCKING'] = env_cfg[\"verbosity\"]\n",
    "os.environ['TF_CPP_MIN_LOG_LEVEL'] = env_cfg[\"verbosity\"]"
   ]
  },
  {
   "cell_type": "code",
   "execution_count": 5,
   "id": "fcc4d3503a76c82b",
   "metadata": {},
   "outputs": [],
   "source": [
    "AUTOTUNE = tf.data.experimental.AUTOTUNE"
   ]
  },
  {
   "cell_type": "code",
   "execution_count": 6,
   "id": "e9800f6d5fd076a6",
   "metadata": {},
   "outputs": [],
   "source": [
    "def set_seed(seed=42):\n",
    "\n",
    "    os.environ['PYTHONHASHSEED'] = str(seed)\n",
    "    random.seed(seed)\n",
    "    np.random.seed(seed)\n",
    "    \n",
    "    tf.random.set_seed(seed)\n",
    "    \n",
    "    os.environ['TF_DETERMINISTIC_OPS'] = '1'\n",
    "    os.environ['TF_CUDNN_DETERMINISTIC'] = '1'\n",
    "    \n",
    "    tf.config.threading.set_inter_op_parallelism_threads(1)\n",
    "    tf.config.threading.set_intra_op_parallelism_threads(1)\n",
    "    \n",
    "    # torch.manual_seed(seed)\n",
    "    # torch.cuda.manual_seed(seed)\n",
    "  \n",
    "    # When running on the CuDNN backend, two further options must be set\n",
    "    # torch.backends.cudnn.deterministic = True\n",
    "    # torch.backends.cudnn.benchmark = False\n",
    "    \n",
    "set_seed()"
   ]
  },
  {
   "cell_type": "code",
   "execution_count": 18,
   "id": "cbc6df94436a8e14",
   "metadata": {},
   "outputs": [
    {
     "name": "stdout",
     "output_type": "stream",
     "text": [
      "data\n",
      "data/train-image/image/\n",
      "Number of train_images: 401059\n"
     ]
    }
   ],
   "source": [
    "# https://www.kaggle.com/code/motono0223/isic-pytorch-training-baseline-image-only#Training-Function\n",
    "\n",
    "ROOT_DIR = path.normpath(\"./data/\")\n",
    "TRAIN_DIR = f'{ROOT_DIR}/train-image/image/'\n",
    "\n",
    "train_images = sorted(glob.glob(f\"{TRAIN_DIR}/*.jpg\"))\n",
    "print(ROOT_DIR)\n",
    "print(TRAIN_DIR)\n",
    "print(\"Number of train_images:\", len(train_images))"
   ]
  },
  {
   "cell_type": "code",
   "execution_count": 19,
   "id": "34a0135258a81a2a",
   "metadata": {},
   "outputs": [
    {
     "data": {
      "text/plain": [
       "['data/train-image/image/ISIC_0015670.jpg',\n",
       " 'data/train-image/image/ISIC_0015845.jpg',\n",
       " 'data/train-image/image/ISIC_0015864.jpg',\n",
       " 'data/train-image/image/ISIC_0015902.jpg',\n",
       " 'data/train-image/image/ISIC_0024200.jpg']"
      ]
     },
     "execution_count": 19,
     "metadata": {},
     "output_type": "execute_result"
    }
   ],
   "source": [
    "train_images[:5]"
   ]
  },
  {
   "cell_type": "code",
   "execution_count": 20,
   "id": "702e6a1c7ceec21d",
   "metadata": {},
   "outputs": [
    {
     "name": "stdout",
     "output_type": "stream",
     "text": [
      "data/train-image/image//ISIC_0015864.jpg\n"
     ]
    },
    {
     "data": {
      "text/plain": [
       "<matplotlib.image.AxesImage at 0x7296beed3910>"
      ]
     },
     "execution_count": 20,
     "metadata": {},
     "output_type": "execute_result"
    },
    {
     "data": {
      "image/png": "[encoded data removed]",
      "text/plain": [
       "<Figure size 640x480 with 1 Axes>"
      ]
     },
     "metadata": {},
     "output_type": "display_data"
    }
   ],
   "source": [
    "def get_train_file_path(image_id):\n",
    "    return f\"{TRAIN_DIR}/{image_id}.jpg\"\n",
    "\n",
    "print(get_train_file_path(\"ISIC_0015864\"))\n",
    "img = cv2.imread(get_train_file_path(\"ISIC_0015864\"))\n",
    "\n",
    "plt.imshow(img)"
   ]
  },
  {
   "cell_type": "code",
   "execution_count": null,
   "id": "8f29376d58197683",
   "metadata": {},
   "outputs": [],
   "source": []
  },
  {
   "cell_type": "code",
   "execution_count": 21,
   "id": "cbd67d11fb95b117",
   "metadata": {},
   "outputs": [
    {
     "name": "stdout",
     "output_type": "stream",
     "text": [
      "(401059, 55) 393 (1042,)\n"
     ]
    },
    {
     "data": {
      "text/html": [
       "<div>\n",
       "<style scoped>\n",
       "    .dataframe tbody tr th:only-of-type {\n",
       "        vertical-align: middle;\n",
       "    }\n",
       "\n",
       "    .dataframe tbody tr th {\n",
       "        vertical-align: top;\n",
       "    }\n",
       "\n",
       "    .dataframe thead th {\n",
       "        text-align: right;\n",
       "    }\n",
       "</style>\n",
       "<table border=\"1\" class=\"dataframe\">\n",
       "  <thead>\n",
       "    <tr style=\"text-align: right;\">\n",
       "      <th></th>\n",
       "      <th>isic_id</th>\n",
       "      <th>target</th>\n",
       "      <th>patient_id</th>\n",
       "      <th>age_approx</th>\n",
       "      <th>sex</th>\n",
       "      <th>anatom_site_general</th>\n",
       "      <th>clin_size_long_diam_mm</th>\n",
       "      <th>image_type</th>\n",
       "      <th>tbp_tile_type</th>\n",
       "      <th>tbp_lv_A</th>\n",
       "      <th>...</th>\n",
       "      <th>iddx_full</th>\n",
       "      <th>iddx_1</th>\n",
       "      <th>iddx_2</th>\n",
       "      <th>iddx_3</th>\n",
       "      <th>iddx_4</th>\n",
       "      <th>iddx_5</th>\n",
       "      <th>mel_mitotic_index</th>\n",
       "      <th>mel_thick_mm</th>\n",
       "      <th>tbp_lv_dnn_lesion_confidence</th>\n",
       "      <th>file_path</th>\n",
       "    </tr>\n",
       "  </thead>\n",
       "  <tbody>\n",
       "    <tr>\n",
       "      <th>0</th>\n",
       "      <td>ISIC_0015670</td>\n",
       "      <td>0</td>\n",
       "      <td>IP_1235828</td>\n",
       "      <td>60.0</td>\n",
       "      <td>male</td>\n",
       "      <td>lower extremity</td>\n",
       "      <td>3.04</td>\n",
       "      <td>TBP tile: close-up</td>\n",
       "      <td>3D: white</td>\n",
       "      <td>20.244422</td>\n",
       "      <td>...</td>\n",
       "      <td>Benign</td>\n",
       "      <td>Benign</td>\n",
       "      <td>NaN</td>\n",
       "      <td>NaN</td>\n",
       "      <td>NaN</td>\n",
       "      <td>NaN</td>\n",
       "      <td>NaN</td>\n",
       "      <td>NaN</td>\n",
       "      <td>97.517282</td>\n",
       "      <td>data/train-image/image//ISIC_0015670.jpg</td>\n",
       "    </tr>\n",
       "    <tr>\n",
       "      <th>1</th>\n",
       "      <td>ISIC_0015845</td>\n",
       "      <td>0</td>\n",
       "      <td>IP_8170065</td>\n",
       "      <td>60.0</td>\n",
       "      <td>male</td>\n",
       "      <td>head/neck</td>\n",
       "      <td>1.10</td>\n",
       "      <td>TBP tile: close-up</td>\n",
       "      <td>3D: white</td>\n",
       "      <td>31.712570</td>\n",
       "      <td>...</td>\n",
       "      <td>Benign</td>\n",
       "      <td>Benign</td>\n",
       "      <td>NaN</td>\n",
       "      <td>NaN</td>\n",
       "      <td>NaN</td>\n",
       "      <td>NaN</td>\n",
       "      <td>NaN</td>\n",
       "      <td>NaN</td>\n",
       "      <td>3.141455</td>\n",
       "      <td>data/train-image/image//ISIC_0015845.jpg</td>\n",
       "    </tr>\n",
       "    <tr>\n",
       "      <th>2</th>\n",
       "      <td>ISIC_0015864</td>\n",
       "      <td>0</td>\n",
       "      <td>IP_6724798</td>\n",
       "      <td>60.0</td>\n",
       "      <td>male</td>\n",
       "      <td>posterior torso</td>\n",
       "      <td>3.40</td>\n",
       "      <td>TBP tile: close-up</td>\n",
       "      <td>3D: XP</td>\n",
       "      <td>22.575830</td>\n",
       "      <td>...</td>\n",
       "      <td>Benign</td>\n",
       "      <td>Benign</td>\n",
       "      <td>NaN</td>\n",
       "      <td>NaN</td>\n",
       "      <td>NaN</td>\n",
       "      <td>NaN</td>\n",
       "      <td>NaN</td>\n",
       "      <td>NaN</td>\n",
       "      <td>99.804040</td>\n",
       "      <td>data/train-image/image//ISIC_0015864.jpg</td>\n",
       "    </tr>\n",
       "    <tr>\n",
       "      <th>3</th>\n",
       "      <td>ISIC_0015902</td>\n",
       "      <td>0</td>\n",
       "      <td>IP_4111386</td>\n",
       "      <td>65.0</td>\n",
       "      <td>male</td>\n",
       "      <td>anterior torso</td>\n",
       "      <td>3.22</td>\n",
       "      <td>TBP tile: close-up</td>\n",
       "      <td>3D: XP</td>\n",
       "      <td>14.242329</td>\n",
       "      <td>...</td>\n",
       "      <td>Benign</td>\n",
       "      <td>Benign</td>\n",
       "      <td>NaN</td>\n",
       "      <td>NaN</td>\n",
       "      <td>NaN</td>\n",
       "      <td>NaN</td>\n",
       "      <td>NaN</td>\n",
       "      <td>NaN</td>\n",
       "      <td>99.989998</td>\n",
       "      <td>data/train-image/image//ISIC_0015902.jpg</td>\n",
       "    </tr>\n",
       "    <tr>\n",
       "      <th>4</th>\n",
       "      <td>ISIC_0024200</td>\n",
       "      <td>0</td>\n",
       "      <td>IP_8313778</td>\n",
       "      <td>55.0</td>\n",
       "      <td>male</td>\n",
       "      <td>anterior torso</td>\n",
       "      <td>2.73</td>\n",
       "      <td>TBP tile: close-up</td>\n",
       "      <td>3D: white</td>\n",
       "      <td>24.725520</td>\n",
       "      <td>...</td>\n",
       "      <td>Benign</td>\n",
       "      <td>Benign</td>\n",
       "      <td>NaN</td>\n",
       "      <td>NaN</td>\n",
       "      <td>NaN</td>\n",
       "      <td>NaN</td>\n",
       "      <td>NaN</td>\n",
       "      <td>NaN</td>\n",
       "      <td>70.442510</td>\n",
       "      <td>data/train-image/image//ISIC_0024200.jpg</td>\n",
       "    </tr>\n",
       "  </tbody>\n",
       "</table>\n",
       "<p>5 rows × 56 columns</p>\n",
       "</div>"
      ],
      "text/plain": [
       "        isic_id  target  patient_id  age_approx   sex anatom_site_general  \\\n",
       "0  ISIC_0015670       0  IP_1235828        60.0  male     lower extremity   \n",
       "1  ISIC_0015845       0  IP_8170065        60.0  male           head/neck   \n",
       "2  ISIC_0015864       0  IP_6724798        60.0  male     posterior torso   \n",
       "3  ISIC_0015902       0  IP_4111386        65.0  male      anterior torso   \n",
       "4  ISIC_0024200       0  IP_8313778        55.0  male      anterior torso   \n",
       "\n",
       "   clin_size_long_diam_mm          image_type tbp_tile_type   tbp_lv_A  ...  \\\n",
       "0                    3.04  TBP tile: close-up     3D: white  20.244422  ...   \n",
       "1                    1.10  TBP tile: close-up     3D: white  31.712570  ...   \n",
       "2                    3.40  TBP tile: close-up        3D: XP  22.575830  ...   \n",
       "3                    3.22  TBP tile: close-up        3D: XP  14.242329  ...   \n",
       "4                    2.73  TBP tile: close-up     3D: white  24.725520  ...   \n",
       "\n",
       "   iddx_full  iddx_1  iddx_2  iddx_3  iddx_4  iddx_5  mel_mitotic_index  \\\n",
       "0     Benign  Benign     NaN     NaN     NaN     NaN                NaN   \n",
       "1     Benign  Benign     NaN     NaN     NaN     NaN                NaN   \n",
       "2     Benign  Benign     NaN     NaN     NaN     NaN                NaN   \n",
       "3     Benign  Benign     NaN     NaN     NaN     NaN                NaN   \n",
       "4     Benign  Benign     NaN     NaN     NaN     NaN                NaN   \n",
       "\n",
       "   mel_thick_mm  tbp_lv_dnn_lesion_confidence  \\\n",
       "0           NaN                     97.517282   \n",
       "1           NaN                      3.141455   \n",
       "2           NaN                     99.804040   \n",
       "3           NaN                     99.989998   \n",
       "4           NaN                     70.442510   \n",
       "\n",
       "                                  file_path  \n",
       "0  data/train-image/image//ISIC_0015670.jpg  \n",
       "1  data/train-image/image//ISIC_0015845.jpg  \n",
       "2  data/train-image/image//ISIC_0015864.jpg  \n",
       "3  data/train-image/image//ISIC_0015902.jpg  \n",
       "4  data/train-image/image//ISIC_0024200.jpg  \n",
       "\n",
       "[5 rows x 56 columns]"
      ]
     },
     "execution_count": 21,
     "metadata": {},
     "output_type": "execute_result"
    }
   ],
   "source": [
    "df = pd.read_csv(f\"{ROOT_DIR}/train-metadata.csv\")\n",
    "\n",
    "print(df.shape, df.target.sum(), df[\"patient_id\"].unique().shape)\n",
    "\n",
    "df_positive = df[df[\"target\"] == 1].reset_index(drop=True)\n",
    "df_negative = df[df[\"target\"] == 0].reset_index(drop=True)\n",
    "\n",
    "# Potential imbalanced dataset\n",
    "# df = pd.concat([df_positive, df_negative.iloc[:df_positive.shape[0]*20, :]])  # positive:negative = 1:20\n",
    "# print(\"filtered\", df.shape, df.target.sum(), df[\"patient_id\"].unique().shape)\n",
    "\n",
    "df['file_path'] = df['isic_id'].apply(get_train_file_path)\n",
    "# df = df[ df[\"file_path\"].isin(train_images) ].reset_index(drop=True)\n",
    "df.head()"
   ]
  },
  {
   "cell_type": "code",
   "execution_count": 22,
   "id": "d6080202dd229c21",
   "metadata": {},
   "outputs": [
    {
     "name": "stdout",
     "output_type": "stream",
     "text": [
      "Number of unique patients:  1042\n"
     ]
    }
   ],
   "source": [
    "# Data exploration ...\n",
    "\n",
    "print(\"Number of unique patients: \", df[\"patient_id\"].nunique())"
   ]
  },
  {
   "cell_type": "code",
   "execution_count": 23,
   "id": "3b78a46923850c84",
   "metadata": {},
   "outputs": [
    {
     "data": {
      "image/png": "[encoded data removed]",
      "text/plain": [
       "<Figure size 500x500 with 1 Axes>"
      ]
     },
     "metadata": {},
     "output_type": "display_data"
    },
    {
     "name": "stdout",
     "output_type": "stream",
     "text": [
      "(400666, 55) (393, 55)\n"
     ]
    }
   ],
   "source": [
    "name = ['Benign', 'Malignant']\n",
    "\n",
    "plt.figure(figsize = (5, 5))\n",
    "plt.pie(df.target.value_counts(normalize = True), autopct = '%1.1f%%', startangle = 90, wedgeprops = dict(width = 0.3), \n",
    "        labeldistance = 1.2, radius = 1)\n",
    "plt.title(f'Total Target Distribution', color = 'black', fontsize = 15)\n",
    "plt.legend(name,)\n",
    "\n",
    "plt.show()\n",
    "\n",
    "print(df_negative.shape, df_positive.shape)"
   ]
  },
  {
   "cell_type": "code",
   "execution_count": null,
   "id": "a21d8c1738cc0ed5",
   "metadata": {},
   "outputs": [],
   "source": [
    "missing_values_count = df.isnull().sum()\n",
    "print(sorted(missing_values_count, reverse=True))"
   ]
  },
  {
   "cell_type": "code",
   "execution_count": null,
   "id": "6bdd5fd56cd32b5c",
   "metadata": {},
   "outputs": [],
   "source": []
  },
  {
   "cell_type": "code",
   "execution_count": null,
   "id": "94ffde481aa18f52",
   "metadata": {},
   "outputs": [],
   "source": [
    "sgkf = StratifiedGroupKFold(n_splits=CONFIG['n_fold'])\n",
    "\n",
    "for fold, ( _, val_) in enumerate(sgkf.split(df, df.target,df.patient_id)):\n",
    "      df.loc[val_ , \"kfold\"] = int(fold)"
   ]
  },
  {
   "cell_type": "code",
   "execution_count": null,
   "id": "130379fe7f968017",
   "metadata": {},
   "outputs": [],
   "source": []
  },
  {
   "cell_type": "code",
   "execution_count": null,
   "id": "8e3891b8a888b9d",
   "metadata": {},
   "outputs": [],
   "source": [
    "data_transforms = {\n",
    "    \"train\": A.Compose([\n",
    "        A.Resize(CONFIG['img_size'], CONFIG['img_size']),\n",
    "        A.RandomRotate90(p=0.5),\n",
    "        A.Flip(p=0.5),\n",
    "        A.Downscale(p=0.25),\n",
    "        A.ShiftScaleRotate(shift_limit=0.1, \n",
    "                           scale_limit=0.15, \n",
    "                           rotate_limit=60, \n",
    "                           p=0.5),\n",
    "        A.HueSaturationValue(\n",
    "                hue_shift_limit=0.2, \n",
    "                sat_shift_limit=0.2, \n",
    "                val_shift_limit=0.2, \n",
    "                p=0.5\n",
    "            ),\n",
    "        A.RandomBrightnessContrast(\n",
    "                brightness_limit=(-0.1,0.1), \n",
    "                contrast_limit=(-0.1, 0.1), \n",
    "                p=0.5\n",
    "            ),\n",
    "        A.Normalize(\n",
    "                mean=[0.485, 0.456, 0.406], \n",
    "                std=[0.229, 0.224, 0.225], \n",
    "                max_pixel_value=255.0, \n",
    "                p=1.0\n",
    "            ),\n",
    "        # ToTensorV2()\n",
    "    ], p=1.),\n",
    "    \n",
    "    \"valid\": A.Compose([\n",
    "        A.Resize(CONFIG['img_size'], CONFIG['img_size']),\n",
    "        A.Normalize(\n",
    "                mean=[0.485, 0.456, 0.406], \n",
    "                std=[0.229, 0.224, 0.225], \n",
    "                max_pixel_value=255.0, \n",
    "                p=1.0\n",
    "            ),\n",
    "        # ToTensorV2()\n",
    "    ], p=1.)\n",
    "}\n"
   ]
  },
  {
   "cell_type": "code",
   "execution_count": null,
   "id": "11d67e408bea3fb7",
   "metadata": {},
   "outputs": [],
   "source": [
    "def aug_fn(image, img_size, train):\n",
    "    data = {\"image\":image}\n",
    "    aug_data = data_transforms(**data[\"train\" if train else \"valid\"])\n",
    "    aug_img = aug_data[\"image\"]\n",
    "    aug_img = tf.cast(aug_img/255.0, tf.float32)\n",
    "    return tf.image.resize(aug_img, size=[img_size, img_size])"
   ]
  },
  {
   "cell_type": "code",
   "execution_count": null,
   "id": "933c0d89859578ad",
   "metadata": {},
   "outputs": [],
   "source": [
    "def process_data(image, img_size):\n",
    "    aug_img = tf.numpy_function(func=aug_fn, inp=[image, img_size], Tout=tf.float32)\n",
    "    return aug_img"
   ]
  },
  {
   "cell_type": "code",
   "execution_count": null,
   "id": "e0b7d313b0149442",
   "metadata": {},
   "outputs": [],
   "source": []
  },
  {
   "cell_type": "code",
   "execution_count": null,
   "id": "a560f9b8fec8ba7f",
   "metadata": {},
   "outputs": [],
   "source": []
  },
  {
   "cell_type": "code",
   "execution_count": null,
   "id": "fd5a77be29d925ac",
   "metadata": {},
   "outputs": [],
   "source": [
    "# Loading images, too slow\n",
    "# x_train = []\n",
    "# y_train = []\n",
    "# with h5py.File('ISIC2024_SkinCancerDetection/data/train-image.hdf5', 'r') as f:\n",
    "#        keys = list(f.keys())\n",
    "#        for key in keys:\n",
    "#            data = f[key]\n",
    "#            x_train.append(data[()].decode('latin-1'))\n",
    "#            \n",
    "#            # x_train.append(f[key][:]) \n",
    "#            y_train.append(key)\n",
    "#               \n",
    "# print(len(x_train), len(y_train))\n",
    "# print(x_train[:5], y_train[:5])"
   ]
  },
  {
   "cell_type": "code",
   "execution_count": null,
   "id": "d1609973c79f29c",
   "metadata": {},
   "outputs": [],
   "source": [
    "training_validation_hdf5 = h5py.File(f\"{ROOT_DIR}/train-image.hdf5\", 'r')\n",
    "testing_hdf5 = h5py.File(f\"{ROOT_DIR}/test-image.hdf5\", 'r')"
   ]
  },
  {
   "cell_type": "code",
   "execution_count": null,
   "id": "98588b5f4a13f7b2",
   "metadata": {},
   "outputs": [],
   "source": [
    "isic_id = df.isic_id.iloc[0]\n",
    "\n",
    "byte_string = training_validation_hdf5[isic_id][()]\n",
    "print(f\"Byte String: {byte_string[:20]}....\")\n",
    "\n",
    "nparr = np.frombuffer(byte_string, np.uint8)\n",
    "\n",
    "image = cv2.imdecode(nparr, cv2.IMREAD_COLOR)[...,::-1] # reverse last axis for bgr -> rgb\n",
    "print(f\"Image: {image}\")\n",
    "plt.imshow(image);"
   ]
  },
  {
   "cell_type": "code",
   "execution_count": null,
   "id": "ee95d87dcf594d05",
   "metadata": {},
   "outputs": [],
   "source": [
    "data_ids = df.isic_id.values\n",
    "\n",
    "images = [None]*len(data_ids)\n",
    "for i, isic_id in enumerate(data_ids):\n",
    "    images[i] = training_validation_hdf5[isic_id][()]\n",
    "\n",
    "print(f\"Loaded {len(images)} images\")\n",
    "print(f\"First image shape: {cv2.imdecode(np.frombuffer(images[0], np.uint8), cv2.IMREAD_COLOR).shape}\")"
   ]
  },
  {
   "cell_type": "code",
   "execution_count": null,
   "id": "4ef05ab2db516421",
   "metadata": {},
   "outputs": [],
   "source": [
    "hist = [cv2.calcHist([cv2.imdecode(np.frombuffer(img, np.uint8), cv2.IMREAD_COLOR)], [0], None, [256], [0, 256]) for img in images]\n",
    "hist = np.array(hist).squeeze()\n",
    "plt.plot(hist[0], label=\"Blue\")"
   ]
  },
  {
   "cell_type": "code",
   "execution_count": null,
   "id": "3c586dcb09715b40",
   "metadata": {},
   "outputs": [],
   "source": [
    "# Based on https://www.kaggle.com/code/awsaf49/isic2024-kerascv-starter\n",
    "\n",
    "def decoder(only_image=False, with_labels=True, target_size=(256, 256)):\n",
    "    \n",
    "    def decode_only_image(file_bytes, label):\n",
    "        \n",
    "        image = tf.io.decode_jpeg(file_bytes)\n",
    "        \n",
    "        image = tf.image.resize(image, size=target_size, method=\"area\")\n",
    "        \n",
    "        image = tf.cast(image, tf.float32)\n",
    "        image /= 255.0\n",
    "  \n",
    "        image = tf.reshape(image, [*target_size, 3])\n",
    "        \n",
    "        return image, label\n",
    "    \n",
    "    def decode_image(inp):\n",
    "        \n",
    "        file_bytes = inp[\"images\"]\n",
    "        image = tf.io.decode_jpeg(file_bytes)\n",
    "        \n",
    "        image = tf.image.resize(image, size=target_size, method=\"area\")\n",
    "        \n",
    "        image = tf.cast(image, tf.float32)\n",
    "        image /= 255.0\n",
    "  \n",
    "        image = tf.reshape(image, [*target_size, 3])\n",
    "        \n",
    "        inp[\"images\"] = image\n",
    "        return inp\n",
    "    \n",
    "    \n",
    "    def decode_label(label, num_classes):\n",
    "        label = tf.cast(label, tf.float32)\n",
    "        label = tf.reshape(label, [num_classes])\n",
    "        return label\n",
    "    \n",
    "  \n",
    "    def decode_with_labels(inp, label=None):\n",
    "        inp = decode_image(inp)\n",
    "        label = decode_label(label, 1)\n",
    "        return inp, label\n",
    "    \n",
    "    if only_image:\n",
    "        return decode_only_image\n",
    "    return decode_with_labels if with_labels else decode_image\n",
    "\n",
    "multi_decoder = decoder(with_labels=False, target_size=(CONFIG[\"img_size\"], CONFIG[\"img_size\"]))\n",
    "image_decoder = decoder(only_image=True, with_labels=False, target_size=(CONFIG[\"img_size\"], CONFIG[\"img_size\"]))"
   ]
  },
  {
   "cell_type": "code",
   "execution_count": null,
   "id": "376689eb06cd0c2a",
   "metadata": {},
   "outputs": [],
   "source": [
    "# Too slow\n",
    "# decoded_images = [cv2.imdecode(np.frombuffer(img, np.uint8), cv2.IMREAD_COLOR)[...,::-1] for img in images]"
   ]
  },
  {
   "cell_type": "code",
   "execution_count": null,
   "id": "e267213acbd77be3",
   "metadata": {},
   "outputs": [],
   "source": [
    "# Multimodal dataset\n",
    "\n",
    "inp = {\n",
    "    \"images\": images, \n",
    "#     # \"features\": features\n",
    "       }\n",
    "\n",
    "slices = (inp, df.target.values)\n",
    "\n",
    "# ds = tf.data.Dataset.from_tensor_slices(slices)\n",
    " \n",
    "ds = tf.data.Dataset.from_tensor_slices(images, df.target.values)\n",
    "ds = ds.cache()\n",
    "ds = ds.map(decoder, num_parallel_calls=AUTOTUNE)\n",
    "\n",
    "# ds = ds.shuffle(1024, seed=seed)\n",
    "# opt = tf.data.Options()\n",
    "# opt.deterministic = False\n",
    "# ds = ds.with_options(opt)\n",
    "\n",
    "ds = ds.batch(CONFIG['train_batch_size'], drop_remainder=True)\n",
    "\n",
    "# ds = ds.map(augment_fn, num_parallel_calls=AUTOTUNE)\n",
    "ds = ds.prefetch(AUTOTUNE)"
   ]
  },
  {
   "cell_type": "code",
   "execution_count": null,
   "id": "c9a6a1dd5c09741",
   "metadata": {},
   "outputs": [],
   "source": [
    "ds.cardinality()"
   ]
  },
  {
   "cell_type": "code",
   "execution_count": null,
   "id": "df9cceac943f4b1e",
   "metadata": {},
   "outputs": [],
   "source": [
    "# Too slow\n",
    "\n",
    "# decoded_images = []\n",
    "# target_size=(CONFIG[\"img_size\"], CONFIG[\"img_size\"])\n",
    "# \n",
    "# for file_bytes in images:\n",
    "#     with tf.device(\"/CPU:0\"):\n",
    "#         image = tf.io.decode_jpeg(file_bytes)\n",
    "# \n",
    "#         image = tf.image.resize(image, size=target_size, method=\"area\")\n",
    "# \n",
    "#         image = tf.cast(image, tf.float32)\n",
    "#         image /= 255.0\n",
    "# \n",
    "#         image = tf.reshape(image, [*target_size, 3])\n",
    "# \n",
    "#         decoded_images.append(image)\n",
    "# \n",
    "# decoded_images = tf.stack(decoded_images)\n",
    "# \n",
    "# decoded_images_np = decoded_images.numpy()\n",
    "# \n",
    "# \n",
    "# print(decoded_images_np.shape)"
   ]
  },
  {
   "cell_type": "code",
   "execution_count": null,
   "id": "6950269280284ac8",
   "metadata": {},
   "outputs": [],
   "source": [
    "print(df.target.values)"
   ]
  },
  {
   "cell_type": "code",
   "execution_count": null,
   "id": "67d799dfd9b551a8",
   "metadata": {},
   "outputs": [],
   "source": [
    "# Hyperparameters\n",
    "activation_func = 'gelu'\n",
    "# activation_func = 'relu'\n",
    "# activation_func = 'mish'\n",
    "batch_size = 256\n",
    "num_epochs = 3\n",
    "learning_rate = 7.5e-3\n",
    "criterion = tf.keras.losses.MeanSquaredError()\n",
    "# criterion = tf.keras.losses.MeanAbsoluteError()\n",
    "optimizer = tf.keras.optimizers.Adam(learning_rate=learning_rate, epsilon=1e-5)"
   ]
  },
  {
   "cell_type": "code",
   "execution_count": null,
   "id": "1052ea6f99df5034",
   "metadata": {},
   "outputs": [],
   "source": [
    "# Single image dataset\n",
    "\n",
    "ds = tf.data.Dataset.from_tensor_slices((images, df.target.values))\n",
    "ds = ds.cache()\n",
    "ds = ds.map(image_decoder, num_parallel_calls=AUTOTUNE)\n",
    "\n",
    "ds = ds.batch(batch_size=batch_size, drop_remainder=True)\n",
    "\n",
    "# ds = ds.map(augment_fn, num_parallel_calls=AUTOTUNE)\n",
    "\n",
    "ds = ds.prefetch()\n",
    "\n",
    "# ds.shuffle(1024, seed=42)\n",
    "\n",
    "ds.cardinality()"
   ]
  },
  {
   "cell_type": "code",
   "execution_count": null,
   "id": "e078c30f2b7e8845",
   "metadata": {},
   "outputs": [],
   "source": [
    "tf.data.experimental.AUTOTUNE"
   ]
  },
  {
   "cell_type": "code",
   "execution_count": null,
   "id": "1d47f9bb1e358751",
   "metadata": {},
   "outputs": [],
   "source": [
    "for batch in ds.take(1):\n",
    "    images, labels = batch\n",
    "    print(f\"Images shape: {images.shape}\")\n",
    "    print(f\"Labels shape: {labels.shape}\")"
   ]
  },
  {
   "cell_type": "code",
   "execution_count": null,
   "id": "1ae9871e0c0080de",
   "metadata": {},
   "outputs": [],
   "source": [
    "ds_size = ds.cardinality().numpy()\n",
    "\n",
    "train_size = int(0.8 * ds_size)\n",
    "\n",
    "train_ds = ds.take(train_size)\n",
    "valid_ds = ds.skip(train_size)"
   ]
  },
  {
   "cell_type": "code",
   "execution_count": null,
   "id": "a0a5fb2a97ee4237",
   "metadata": {},
   "outputs": [],
   "source": [
    "# train_dataset = tf.data.Dataset.from_tensor_slices((tf.convert_to_tensor(train_ds, dtype=tf.float32),\n",
    "#                                                     tf.convert_to_tensor(y_train, dtype=tf.float32)))\n",
    "# val_dataset = tf.data.Dataset.from_tensor_slices((tf.convert_to_tensor(x_valid, dtype=tf.float32),\n",
    "#                                                   tf.convert_to_tensor(y_valid, dtype=tf.float32)))\n",
    "# \n",
    "# train_loader = train_dataset.shuffle(buffer_size=len(x_train)).batch(batch_size, drop_remainder=True)\n",
    "# val_loader = val_dataset.shuffle(buffer_size=len(val_dataset)).batch(batch_size, drop_remainder=True)"
   ]
  },
  {
   "cell_type": "code",
   "execution_count": null,
   "id": "3cea73867746421f",
   "metadata": {},
   "outputs": [],
   "source": []
  },
  {
   "cell_type": "code",
   "execution_count": null,
   "id": "66f66a3312c72691",
   "metadata": {},
   "outputs": [],
   "source": [
    "class Net(tf.keras.Model):\n",
    "    def __init__(self):\n",
    "        super(Net, self).__init__()\n",
    "        \n",
    "        # self.flatten_layer = keras.layers.Flatten(name=\"flatten\")\n",
    "        # \n",
    "        self.input_layer = tf.keras.layers.Conv2D((batch_size, 384, 384, 3), activation=activation_func)\n",
    "\n",
    "\n",
    "        # self.feature_extractor = []\n",
    "        # for i in range(5):\n",
    "        #     self.hidden_layers.append(tf.keras.layers.Dense(2048, activation=activation_func))\n",
    "        #     self.hidden_layers.append(tf.keras.layers.Dropout(0.2))\n",
    "\n",
    "        self.hidden_layers = []\n",
    "        for i in range(7):\n",
    "            self.hidden_layers.append(tf.keras.layers.Dense(1024, activation=activation_func))\n",
    "            self.hidden_layers.append(tf.keras.layers.Dropout(0.2))\n",
    "            self.hidden_layers.append(tf.keras.layers.BatchNormalization())\n",
    "\n",
    "\n",
    "        self.additional_layers = []\n",
    "        for i in range(2):\n",
    "            self.additional_layers.append(tf.keras.layers.Dense(512, activation=activation_func))\n",
    "            self.additional_layers.append(tf.keras.layers.Dropout(0.2))\n",
    "\n",
    "        self.output_layer = tf.keras.layers.Dense(1)\n",
    "\n",
    "    def call(self, x):\n",
    "        # print(\"x\", x)\n",
    "        # print(\"x[images]\", x[\"images\"])\n",
    "        # print(x[\"images\"][0])\n",
    "        # x = self.input_layer(x[\"images\"][0])\n",
    "        x = self.flatten_layer(x)\n",
    "        # for layer in self.feature_extractor:\n",
    "        #     x = layer(x)\n",
    "        for layer in self.hidden_layers:\n",
    "            x = layer(x)\n",
    "        for layer in self.additional_layers:\n",
    "            x = layer(x)\n",
    "\n",
    "        return self.output_layer(x)\n",
    "\n",
    "model = Net()"
   ]
  },
  {
   "cell_type": "code",
   "execution_count": null,
   "id": "5cfc0b73745ec707",
   "metadata": {},
   "outputs": [],
   "source": [
    "model.compile(optimizer=optimizer, loss=criterion, metrics=['accuracy'])"
   ]
  },
  {
   "cell_type": "code",
   "execution_count": null,
   "id": "cd89fedaed8016b3",
   "metadata": {},
   "outputs": [],
   "source": [
    "next(iter(train_ds.take(1).as_numpy_iterator()))"
   ]
  },
  {
   "cell_type": "code",
   "execution_count": null,
   "id": "ec21a0858b9e1f64",
   "metadata": {},
   "outputs": [],
   "source": [
    "model.fit(train_ds, epochs=num_epochs, validation_data=valid_ds)"
   ]
  },
  {
   "cell_type": "code",
   "execution_count": null,
   "id": "9cc53dd86cba149e",
   "metadata": {},
   "outputs": [],
   "source": [
    "train_loader = train_ds\n",
    "val_loader = valid_ds\n",
    "\n",
    "train_losses = []\n",
    "val_losses = []\n",
    "val_accuracies = []\n",
    "\n",
    "for epoch in range(10):\n",
    "    print(f\"Epoch {epoch + 1}/{num_epochs}\")\n",
    "\n",
    "    train_loss = 0\n",
    "    for step, (batch_x, batch_y) in enumerate(train_loader):\n",
    "        with tf.GradientTape() as tape:\n",
    "            outputs = model(batch_x, training=True)\n",
    "            loss = criterion(batch_y, tf.squeeze(outputs))\n",
    "\n",
    "        grads = tape.gradient(loss, model.trainable_weights)\n",
    "        optimizer.apply_gradients(zip(grads, model.trainable_weights))\n",
    "\n",
    "        train_loss += loss.numpy()\n",
    "\n",
    "    train_losses.append(train_loss / len(train_loader))\n",
    "\n",
    "    # Validation loop\n",
    "    val_loss = 0\n",
    "    for batch_x, batch_y in val_loader:\n",
    "        outputs = model(batch_x, training=False)\n",
    "        loss = criterion(batch_y, tf.squeeze(outputs))\n",
    "        val_loss += loss.numpy()\n",
    "\n",
    "    val_losses.append(val_loss / len(val_loader))\n",
    "\n",
    "    print(\n",
    "        f\"Epoch {epoch + 1}/{num_epochs}, \"\n",
    "        f\"Train Loss: {train_loss / len(train_loader):.4f}, \"\n",
    "        f\"Validation Loss: {val_loss / len(val_loader):.4f}\"\n",
    "    )"
   ]
  },
  {
   "cell_type": "code",
   "execution_count": null,
   "id": "feca4cc3f5ea2bb6",
   "metadata": {},
   "outputs": [],
   "source": [
    "\n",
    "train_losses = np.array(train_losses)\n",
    "val_losses = np.array(val_losses)"
   ]
  },
  {
   "cell_type": "code",
   "execution_count": null,
   "id": "c0a2d496d458f0f0",
   "metadata": {},
   "outputs": [],
   "source": [
    "\n",
    "# Set model to inference mode (not strictly necessary in TensorFlow as it handles this automatically)\n",
    "# Making predictions on training and testing data\n",
    "x_train_tensor = tf.convert_to_tensor(x_train, dtype=tf.float32)\n",
    "x_test_tensor = tf.convert_to_tensor(x_test, dtype=tf.float32)\n",
    "\n",
    "y_train_pred = model(x_train_tensor, training=False).numpy()\n",
    "y_test_pred = model(x_test_tensor, training=False).numpy()"
   ]
  },
  {
   "cell_type": "code",
   "execution_count": null,
   "id": "97484a6d21da814a",
   "metadata": {},
   "outputs": [],
   "source": [
    "\n",
    "from sklearn.metrics import r2_score, mean_squared_error, mean_absolute_error\n",
    "\n",
    "train_r2 = r2_score(y_train, y_train_pred)\n",
    "test_r2 = r2_score(y_test, y_test_pred)\n",
    "test_mse = mean_squared_error(y_test, y_test_pred)\n",
    "test_rmse = np.sqrt(test_mse)\n",
    "test_mae = mean_absolute_error(y_test, y_test_pred)\n",
    "\n",
    "print(f'Train R-squared: {train_r2 * 100:.2f}%')\n",
    "print(f'Test R-squared: {test_r2 * 100:.2f}%')\n",
    "print(f'Test Mean Squared Error (MSE): {test_mse:.2f}')\n",
    "print(f'Test Root Mean Squared Error (RMSE): {test_rmse:.2f}')\n",
    "print(f'Test Mean Absolute Error (MAE): {test_mae:.2f}')\n",
    "\n",
    "plt.figure(figsize=(10, 5))\n",
    "plt.plot(y_test, label='Actual', marker='o', linestyle='None')\n",
    "plt.plot(y_test_pred, label='Predicted', marker='x', linestyle='None')\n",
    "plt.legend()\n",
    "plt.xlabel('Sample index')\n",
    "plt.ylabel('Value')\n",
    "plt.title('Actual vs Predicted Values')\n",
    "plt.show()\n",
    "\n",
    "plt.figure(figsize=(10, 5))\n",
    "plt.plot(train_losses, label='Training Loss')\n",
    "plt.plot(val_losses, label='Validation Loss')\n",
    "plt.legend()\n",
    "plt.xlabel('Epoch')\n",
    "plt.ylabel('Loss')\n",
    "plt.title('Training and Validation Loss')\n",
    "plt.show()\n",
    "\n",
    "print(model.summary())\n",
    "print(model.get_config())\n",
    "print(optimizer.get_config())\n",
    "print(model.loss)"
   ]
  },
  {
   "cell_type": "code",
   "execution_count": null,
   "id": "3e1d78cbea36b968",
   "metadata": {},
   "outputs": [],
   "source": []
  },
  {
   "cell_type": "code",
   "execution_count": null,
   "id": "18ee31852327fef4",
   "metadata": {},
   "outputs": [],
   "source": [
    "# Transfer Learning [freeze all layers of feature extractor]: Functional API\n",
    "\n",
    "base_model = keras.applications.ResNet50(include_top=False, input_shape=(CONFIG[\"img_size\"], CONFIG[\"img_size\"], 3), weights=\"imagenet\")\n",
    "base_model.trainable = False\n",
    "\n",
    "class MyModel(keras.Model):\n",
    "    def __init__(self, base_model):\n",
    "        super(MyModel, self).__init__()\n",
    "        self.base = base_model\n",
    "        self.layer_1 = keras.layers.Flatten()\n",
    "        self.layer_2 = keras.layers.Dense(64, activation='relu')\n",
    "        self.layer_3 = keras.layers.Dense(1, activation='softmax')\n",
    "\n",
    "    @tf.function\n",
    "    def call(self, xb):\n",
    "        x = self.base(xb)\n",
    "        x = self.layer_1(x)\n",
    "        x = self.layer_2(x)\n",
    "        return self.layer_3(x)\n",
    "\n",
    "\n",
    "model = MyModel(base_model=base_model)\n",
    "\n",
    "model.compile(optimizer='adam', loss='sparse_categorical_crossentropy', metrics='accuracy')\n",
    "\n",
    "model.fit(train_data, epochs=2)"
   ]
  }
 ],
 "metadata": {
  "kernelspec": {
   "display_name": "KagglePro",
   "language": "python",
   "name": "python3"
  },
  "language_info": {
   "codemirror_mode": {
    "name": "ipython",
    "version": 3
   },
   "file_extension": ".py",
   "mimetype": "text/x-python",
   "name": "python",
   "nbconvert_exporter": "python",
   "pygments_lexer": "ipython3",
   "version": "3.10.14"
  }
 },
 "nbformat": 4,
 "nbformat_minor": 5
}
