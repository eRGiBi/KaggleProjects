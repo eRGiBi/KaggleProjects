{
 "cells": [
  {
   "cell_type": "markdown",
   "id": "b260f5b3bb829a73",
   "metadata": {},
   "source": [
    "\n",
    "# ISIC 2024 - Skin Cancer Detection with 3D-TBP\n",
    "\n",
    "Nicholas Kurtansky, Veronica Rotemberg, Maura Gillis, Kivanc Kose, Walter Reade, Ashley Chow. (2024). ISIC 2024 - Skin Cancer Detection with 3D-TBP. Kaggle. \n",
    "\n",
    "https://kaggle.com/competitions/isic-2024-challenge\n",
    "\n",
    "Currently heavily in development."
   ]
  },
  {
   "cell_type": "code",
   "execution_count": 82,
   "id": "2c1f0d5502d23b8d",
   "metadata": {
    "ExecuteTime": {
     "end_time": "2024-10-23T18:47:16.240683Z",
     "start_time": "2024-10-23T18:47:10.289684Z"
    }
   },
   "outputs": [],
   "source": [
    "import os\n",
    "import os.path as path\n",
    "import gc\n",
    "import cv2\n",
    "import math\n",
    "import copy\n",
    "import time\n",
    "import random\n",
    "import glob\n",
    "import warnings\n",
    "\n",
    "import h5py\n",
    "\n",
    "import matplotlib as mpl\n",
    "from matplotlib import pyplot as plt\n",
    "import seaborn as sns\n",
    "\n",
    "from functools import partial\n",
    "\n",
    "import numpy as np\n",
    "import pandas as pd\n",
    "\n",
    "# import torch\n",
    "# import torch.nn as nn\n",
    "# import torch.optim as optim\n",
    "# import torch.nn.functional as F\n",
    "# from torch.optim import lr_scheduler\n",
    "# from torch.utils.data import Dataset, DataLoader\n",
    "# from torch.cuda import amp\n",
    "# import torchvision\n",
    "# from torcheval.metrics.functional import binary_auroc\n",
    " \n",
    "import tensorflow as tf\n",
    "from tensorflow.keras import backend as K\n",
    "\n",
    "from sklearn.preprocessing import LabelEncoder\n",
    "from sklearn.model_selection import StratifiedKFold, StratifiedGroupKFold \n",
    "import sklearn\n",
    "from sklearn.metrics import confusion_matrix\n",
    "from sklearn.model_selection import train_test_split\n",
    "from sklearn.preprocessing import StandardScaler\n",
    "\n",
    "# import timm\n",
    "\n",
    "import albumentations as A\n",
    "# from albumentations.pytorch import ToTensorV2"
   ]
  },
  {
   "cell_type": "code",
   "execution_count": 2,
   "id": "e2a6a118b6308d31",
   "metadata": {
    "ExecuteTime": {
     "end_time": "2024-10-23T18:47:16.428682Z",
     "start_time": "2024-10-23T18:47:16.242682Z"
    }
   },
   "outputs": [
    {
     "name": "stdout",
     "output_type": "stream",
     "text": [
      "Using device: CPU\n"
     ]
    }
   ],
   "source": [
    "seed = 476\n",
    "\n",
    "env_cfg = {\n",
    "    \"seed\": seed,\n",
    "    # \"device\": nn.device(\"cuda:0\" if nn.cuda. else \"cpu\"),\n",
    "    \"device\" : \"GPU\" if tf.config.list_physical_devices('GPU') else \"CPU\",\n",
    "    \"verbosity\": '3',\n",
    "}\n",
    "CONFIG = {\n",
    "    \"seed\": seed, \n",
    "    \"img_size\": 384,\n",
    "    \"model_name\": \"\",\n",
    "    \"checkpoint_path\" : \"/ISIC2024_SkinCancerDetection/saved_models\",\n",
    "    \n",
    "}\n",
    "\n",
    "print(f\"Using device: {env_cfg['device']}\")"
   ]
  },
  {
   "cell_type": "code",
   "execution_count": 3,
   "id": "3818397e011fe631",
   "metadata": {
    "ExecuteTime": {
     "end_time": "2024-10-23T18:47:16.444682Z",
     "start_time": "2024-10-23T18:47:16.430682Z"
    }
   },
   "outputs": [],
   "source": [
    "warnings.filterwarnings(\"ignore\")\n",
    "\n",
    "# For descriptive error messages\n",
    "os.environ['CUDA_LAUNCH_BLOCKING'] = env_cfg[\"verbosity\"]\n",
    "os.environ['TF_CPP_MIN_LOG_LEVEL'] = env_cfg[\"verbosity\"]\n",
    "\n",
    "mpl.rcParams['figure.figsize'] = (12, 10)\n",
    "colors = plt.rcParams['axes.prop_cycle'].by_key()['color']"
   ]
  },
  {
   "cell_type": "code",
   "execution_count": 4,
   "id": "fa199a14",
   "metadata": {
    "ExecuteTime": {
     "end_time": "2024-10-23T18:47:16.459683Z",
     "start_time": "2024-10-23T18:47:16.446683Z"
    }
   },
   "outputs": [],
   "source": [
    "# os.environ[\"XLA_PYTHON_CLIENT_PREALLOCATE\"]=\"false\"\n",
    "# os.environ[\"XLA_PYTHON_CLIENT_MEM_FRACTION\"]=\".XX\"\n",
    "# os.environ[\"XLA_PYTHON_CLIENT_ALLOCATOR\"]=\"platform\"\n",
    "\n",
    "tf.debugging.set_log_device_placement(False)"
   ]
  },
  {
   "cell_type": "code",
   "execution_count": 5,
   "id": "fcc4d3503a76c82b",
   "metadata": {
    "ExecuteTime": {
     "end_time": "2024-10-23T18:47:16.475683Z",
     "start_time": "2024-10-23T18:47:16.460683Z"
    }
   },
   "outputs": [],
   "source": [
    "AUTOTUNE = tf.data.experimental.AUTOTUNE"
   ]
  },
  {
   "cell_type": "code",
   "execution_count": 6,
   "id": "e9800f6d5fd076a6",
   "metadata": {
    "ExecuteTime": {
     "end_time": "2024-10-23T18:47:16.490682Z",
     "start_time": "2024-10-23T18:47:16.477685Z"
    }
   },
   "outputs": [],
   "source": [
    "def set_seed(seed=42):\n",
    "\n",
    "    os.environ['PYTHONHASHSEED'] = str(seed)\n",
    "    random.seed(seed)\n",
    "    np.random.seed(seed)\n",
    "    \n",
    "    tf.random.set_seed(seed)\n",
    "    \n",
    "    os.environ['TF_DETERMINISTIC_OPS'] = '1'\n",
    "    os.environ['TF_CUDNN_DETERMINISTIC'] = '1'\n",
    "    \n",
    "    tf.config.threading.set_inter_op_parallelism_threads(1)\n",
    "    tf.config.threading.set_intra_op_parallelism_threads(1)\n",
    "    \n",
    "    # torch.manual_seed(seed)\n",
    "    # torch.cuda.manual_seed(seed)\n",
    "  \n",
    "    # torch.backends.cudnn.deterministic = True\n",
    "    # torch.backends.cudnn.benchmark = False\n",
    "    \n",
    "set_seed(seed)"
   ]
  },
  {
   "cell_type": "code",
   "execution_count": 7,
   "id": "cbc6df94436a8e14",
   "metadata": {
    "ExecuteTime": {
     "end_time": "2024-10-23T18:47:25.661227Z",
     "start_time": "2024-10-23T18:47:16.492683Z"
    }
   },
   "outputs": [
    {
     "name": "stdout",
     "output_type": "stream",
     "text": [
      "data/train-image/image/\n",
      "Number of train_images: 401059\n"
     ]
    }
   ],
   "source": [
    "# https://www.kaggle.com/code/motono0223/isic-pytorch-training-baseline-image-only#Training-Function\n",
    "\n",
    "ROOT_DIR = path.normpath(\"./data/\")\n",
    "TRAIN_DIR = f'{ROOT_DIR}/train-image/image/'\n",
    "\n",
    "train_images = sorted(glob.glob(f\"{TRAIN_DIR}/*.jpg\"))\n",
    "print(TRAIN_DIR)\n",
    "print(\"Number of train_images:\", len(train_images))"
   ]
  },
  {
   "cell_type": "code",
   "execution_count": 8,
   "id": "34a0135258a81a2a",
   "metadata": {
    "ExecuteTime": {
     "end_time": "2024-10-23T18:47:25.677232Z",
     "start_time": "2024-10-23T18:47:25.663227Z"
    }
   },
   "outputs": [
    {
     "data": {
      "text/plain": [
       "['data/train-image/image\\\\ISIC_0015670.jpg',\n",
       " 'data/train-image/image\\\\ISIC_0015845.jpg',\n",
       " 'data/train-image/image\\\\ISIC_0015864.jpg',\n",
       " 'data/train-image/image\\\\ISIC_0015902.jpg',\n",
       " 'data/train-image/image\\\\ISIC_0024200.jpg']"
      ]
     },
     "execution_count": 8,
     "metadata": {},
     "output_type": "execute_result"
    }
   ],
   "source": [
    "train_images[:5]"
   ]
  },
  {
   "cell_type": "code",
   "execution_count": 9,
   "id": "702e6a1c7ceec21d",
   "metadata": {
    "ExecuteTime": {
     "end_time": "2024-10-23T18:47:26.100230Z",
     "start_time": "2024-10-23T18:47:25.679227Z"
    }
   },
   "outputs": [
    {
     "name": "stdout",
     "output_type": "stream",
     "text": [
      "data/train-image/image//ISIC_0015864.jpg\n"
     ]
    },
    {
     "data": {
      "text/plain": [
       "<matplotlib.image.AxesImage at 0x1549be8c950>"
      ]
     },
     "execution_count": 9,
     "metadata": {},
     "output_type": "execute_result"
    },
    {
     "data": {
      "image/png": "[encoded data removed]",
      "text/plain": [
       "<Figure size 1200x1000 with 1 Axes>"
      ]
     },
     "metadata": {},
     "output_type": "display_data"
    }
   ],
   "source": [
    "def get_train_file_path(image_id):\n",
    "    return f\"{TRAIN_DIR}/{image_id}.jpg\"\n",
    "\n",
    "print(get_train_file_path(\"ISIC_0015864\"))\n",
    "img = cv2.imread(get_train_file_path(\"ISIC_0015864\"))\n",
    "\n",
    "plt.imshow(img)"
   ]
  },
  {
   "cell_type": "code",
   "execution_count": 10,
   "id": "8f29376d58197683",
   "metadata": {
    "ExecuteTime": {
     "end_time": "2024-10-23T18:47:29.103226Z",
     "start_time": "2024-10-23T18:47:26.104230Z"
    }
   },
   "outputs": [
    {
     "name": "stdout",
     "output_type": "stream",
     "text": [
      "<class 'pandas.core.frame.DataFrame'>\n",
      "RangeIndex: 401059 entries, 0 to 401058\n",
      "Data columns (total 55 columns):\n",
      " #   Column                        Non-Null Count   Dtype  \n",
      "---  ------                        --------------   -----  \n",
      " 0   isic_id                       401059 non-null  object \n",
      " 1   target                        401059 non-null  int64  \n",
      " 2   patient_id                    401059 non-null  object \n",
      " 3   age_approx                    398261 non-null  float64\n",
      " 4   sex                           389542 non-null  object \n",
      " 5   anatom_site_general           395303 non-null  object \n",
      " 6   clin_size_long_diam_mm        401059 non-null  float64\n",
      " 7   image_type                    401059 non-null  object \n",
      " 8   tbp_tile_type                 401059 non-null  object \n",
      " 9   tbp_lv_A                      401059 non-null  float64\n",
      " 10  tbp_lv_Aext                   401059 non-null  float64\n",
      " 11  tbp_lv_B                      401059 non-null  float64\n",
      " 12  tbp_lv_Bext                   401059 non-null  float64\n",
      " 13  tbp_lv_C                      401059 non-null  float64\n",
      " 14  tbp_lv_Cext                   401059 non-null  float64\n",
      " 15  tbp_lv_H                      401059 non-null  float64\n",
      " 16  tbp_lv_Hext                   401059 non-null  float64\n",
      " 17  tbp_lv_L                      401059 non-null  float64\n",
      " 18  tbp_lv_Lext                   401059 non-null  float64\n",
      " 19  tbp_lv_areaMM2                401059 non-null  float64\n",
      " 20  tbp_lv_area_perim_ratio       401059 non-null  float64\n",
      " 21  tbp_lv_color_std_mean         401059 non-null  float64\n",
      " 22  tbp_lv_deltaA                 401059 non-null  float64\n",
      " 23  tbp_lv_deltaB                 401059 non-null  float64\n",
      " 24  tbp_lv_deltaL                 401059 non-null  float64\n",
      " 25  tbp_lv_deltaLB                401059 non-null  float64\n",
      " 26  tbp_lv_deltaLBnorm            401059 non-null  float64\n",
      " 27  tbp_lv_eccentricity           401059 non-null  float64\n",
      " 28  tbp_lv_location               401059 non-null  object \n",
      " 29  tbp_lv_location_simple        401059 non-null  object \n",
      " 30  tbp_lv_minorAxisMM            401059 non-null  float64\n",
      " 31  tbp_lv_nevi_confidence        401059 non-null  float64\n",
      " 32  tbp_lv_norm_border            401059 non-null  float64\n",
      " 33  tbp_lv_norm_color             401059 non-null  float64\n",
      " 34  tbp_lv_perimeterMM            401059 non-null  float64\n",
      " 35  tbp_lv_radial_color_std_max   401059 non-null  float64\n",
      " 36  tbp_lv_stdL                   401059 non-null  float64\n",
      " 37  tbp_lv_stdLExt                401059 non-null  float64\n",
      " 38  tbp_lv_symm_2axis             401059 non-null  float64\n",
      " 39  tbp_lv_symm_2axis_angle       401059 non-null  int64  \n",
      " 40  tbp_lv_x                      401059 non-null  float64\n",
      " 41  tbp_lv_y                      401059 non-null  float64\n",
      " 42  tbp_lv_z                      401059 non-null  float64\n",
      " 43  attribution                   401059 non-null  object \n",
      " 44  copyright_license             401059 non-null  object \n",
      " 45  lesion_id                     22058 non-null   object \n",
      " 46  iddx_full                     401059 non-null  object \n",
      " 47  iddx_1                        401059 non-null  object \n",
      " 48  iddx_2                        1068 non-null    object \n",
      " 49  iddx_3                        1065 non-null    object \n",
      " 50  iddx_4                        551 non-null     object \n",
      " 51  iddx_5                        1 non-null       object \n",
      " 52  mel_mitotic_index             53 non-null      object \n",
      " 53  mel_thick_mm                  63 non-null      float64\n",
      " 54  tbp_lv_dnn_lesion_confidence  401059 non-null  float64\n",
      "dtypes: float64(35), int64(2), object(18)\n",
      "memory usage: 168.3+ MB\n"
     ]
    }
   ],
   "source": [
    "df = pd.read_csv(f\"{ROOT_DIR}/train-metadata.csv\")\n",
    "\n",
    "df.info()"
   ]
  },
  {
   "cell_type": "code",
   "execution_count": 11,
   "id": "1435e240",
   "metadata": {
    "ExecuteTime": {
     "end_time": "2024-10-23T18:47:30.206230Z",
     "start_time": "2024-10-23T18:47:29.105229Z"
    }
   },
   "outputs": [
    {
     "data": {
      "text/html": [
       "<div>\n",
       "<style scoped>\n",
       "    .dataframe tbody tr th:only-of-type {\n",
       "        vertical-align: middle;\n",
       "    }\n",
       "\n",
       "    .dataframe tbody tr th {\n",
       "        vertical-align: top;\n",
       "    }\n",
       "\n",
       "    .dataframe thead th {\n",
       "        text-align: right;\n",
       "    }\n",
       "</style>\n",
       "<table border=\"1\" class=\"dataframe\">\n",
       "  <thead>\n",
       "    <tr style=\"text-align: right;\">\n",
       "      <th></th>\n",
       "      <th>count</th>\n",
       "      <th>unique</th>\n",
       "      <th>top</th>\n",
       "      <th>freq</th>\n",
       "      <th>mean</th>\n",
       "      <th>std</th>\n",
       "      <th>min</th>\n",
       "      <th>25%</th>\n",
       "      <th>50%</th>\n",
       "      <th>75%</th>\n",
       "      <th>max</th>\n",
       "    </tr>\n",
       "  </thead>\n",
       "  <tbody>\n",
       "    <tr>\n",
       "      <th>isic_id</th>\n",
       "      <td>401059</td>\n",
       "      <td>401059</td>\n",
       "      <td>ISIC_0015670</td>\n",
       "      <td>1</td>\n",
       "      <td>NaN</td>\n",
       "      <td>NaN</td>\n",
       "      <td>NaN</td>\n",
       "      <td>NaN</td>\n",
       "      <td>NaN</td>\n",
       "      <td>NaN</td>\n",
       "      <td>NaN</td>\n",
       "    </tr>\n",
       "    <tr>\n",
       "      <th>target</th>\n",
       "      <td>401059.0</td>\n",
       "      <td>NaN</td>\n",
       "      <td>NaN</td>\n",
       "      <td>NaN</td>\n",
       "      <td>0.00098</td>\n",
       "      <td>0.031288</td>\n",
       "      <td>0.0</td>\n",
       "      <td>0.0</td>\n",
       "      <td>0.0</td>\n",
       "      <td>0.0</td>\n",
       "      <td>1.0</td>\n",
       "    </tr>\n",
       "    <tr>\n",
       "      <th>patient_id</th>\n",
       "      <td>401059</td>\n",
       "      <td>1042</td>\n",
       "      <td>IP_1117889</td>\n",
       "      <td>9184</td>\n",
       "      <td>NaN</td>\n",
       "      <td>NaN</td>\n",
       "      <td>NaN</td>\n",
       "      <td>NaN</td>\n",
       "      <td>NaN</td>\n",
       "      <td>NaN</td>\n",
       "      <td>NaN</td>\n",
       "    </tr>\n",
       "    <tr>\n",
       "      <th>age_approx</th>\n",
       "      <td>398261.0</td>\n",
       "      <td>NaN</td>\n",
       "      <td>NaN</td>\n",
       "      <td>NaN</td>\n",
       "      <td>58.012986</td>\n",
       "      <td>13.596165</td>\n",
       "      <td>5.0</td>\n",
       "      <td>50.0</td>\n",
       "      <td>60.0</td>\n",
       "      <td>70.0</td>\n",
       "      <td>85.0</td>\n",
       "    </tr>\n",
       "    <tr>\n",
       "      <th>sex</th>\n",
       "      <td>389542</td>\n",
       "      <td>2</td>\n",
       "      <td>male</td>\n",
       "      <td>265546</td>\n",
       "      <td>NaN</td>\n",
       "      <td>NaN</td>\n",
       "      <td>NaN</td>\n",
       "      <td>NaN</td>\n",
       "      <td>NaN</td>\n",
       "      <td>NaN</td>\n",
       "      <td>NaN</td>\n",
       "    </tr>\n",
       "    <tr>\n",
       "      <th>anatom_site_general</th>\n",
       "      <td>395303</td>\n",
       "      <td>5</td>\n",
       "      <td>posterior torso</td>\n",
       "      <td>121902</td>\n",
       "      <td>NaN</td>\n",
       "      <td>NaN</td>\n",
       "      <td>NaN</td>\n",
       "      <td>NaN</td>\n",
       "      <td>NaN</td>\n",
       "      <td>NaN</td>\n",
       "      <td>NaN</td>\n",
       "    </tr>\n",
       "    <tr>\n",
       "      <th>clin_size_long_diam_mm</th>\n",
       "      <td>401059.0</td>\n",
       "      <td>NaN</td>\n",
       "      <td>NaN</td>\n",
       "      <td>NaN</td>\n",
       "      <td>3.930827</td>\n",
       "      <td>1.743068</td>\n",
       "      <td>1.0</td>\n",
       "      <td>2.84</td>\n",
       "      <td>3.37</td>\n",
       "      <td>4.38</td>\n",
       "      <td>28.4</td>\n",
       "    </tr>\n",
       "    <tr>\n",
       "      <th>image_type</th>\n",
       "      <td>401059</td>\n",
       "      <td>1</td>\n",
       "      <td>TBP tile: close-up</td>\n",
       "      <td>401059</td>\n",
       "      <td>NaN</td>\n",
       "      <td>NaN</td>\n",
       "      <td>NaN</td>\n",
       "      <td>NaN</td>\n",
       "      <td>NaN</td>\n",
       "      <td>NaN</td>\n",
       "      <td>NaN</td>\n",
       "    </tr>\n",
       "    <tr>\n",
       "      <th>tbp_tile_type</th>\n",
       "      <td>401059</td>\n",
       "      <td>2</td>\n",
       "      <td>3D: XP</td>\n",
       "      <td>285903</td>\n",
       "      <td>NaN</td>\n",
       "      <td>NaN</td>\n",
       "      <td>NaN</td>\n",
       "      <td>NaN</td>\n",
       "      <td>NaN</td>\n",
       "      <td>NaN</td>\n",
       "      <td>NaN</td>\n",
       "    </tr>\n",
       "    <tr>\n",
       "      <th>tbp_lv_A</th>\n",
       "      <td>401059.0</td>\n",
       "      <td>NaN</td>\n",
       "      <td>NaN</td>\n",
       "      <td>NaN</td>\n",
       "      <td>19.974007</td>\n",
       "      <td>3.999489</td>\n",
       "      <td>-2.487115</td>\n",
       "      <td>17.330821</td>\n",
       "      <td>19.80191</td>\n",
       "      <td>22.304628</td>\n",
       "      <td>48.18961</td>\n",
       "    </tr>\n",
       "    <tr>\n",
       "      <th>tbp_lv_Aext</th>\n",
       "      <td>401059.0</td>\n",
       "      <td>NaN</td>\n",
       "      <td>NaN</td>\n",
       "      <td>NaN</td>\n",
       "      <td>14.919247</td>\n",
       "      <td>3.529384</td>\n",
       "      <td>-9.080269</td>\n",
       "      <td>12.46974</td>\n",
       "      <td>14.71393</td>\n",
       "      <td>17.137175</td>\n",
       "      <td>37.02168</td>\n",
       "    </tr>\n",
       "    <tr>\n",
       "      <th>tbp_lv_B</th>\n",
       "      <td>401059.0</td>\n",
       "      <td>NaN</td>\n",
       "      <td>NaN</td>\n",
       "      <td>NaN</td>\n",
       "      <td>28.281706</td>\n",
       "      <td>5.278676</td>\n",
       "      <td>-0.730989</td>\n",
       "      <td>24.704372</td>\n",
       "      <td>28.17157</td>\n",
       "      <td>31.637429</td>\n",
       "      <td>54.3069</td>\n",
       "    </tr>\n",
       "    <tr>\n",
       "      <th>tbp_lv_Bext</th>\n",
       "      <td>401059.0</td>\n",
       "      <td>NaN</td>\n",
       "      <td>NaN</td>\n",
       "      <td>NaN</td>\n",
       "      <td>26.913015</td>\n",
       "      <td>4.482994</td>\n",
       "      <td>9.237066</td>\n",
       "      <td>23.848125</td>\n",
       "      <td>26.701704</td>\n",
       "      <td>29.679913</td>\n",
       "      <td>48.3727</td>\n",
       "    </tr>\n",
       "    <tr>\n",
       "      <th>tbp_lv_C</th>\n",
       "      <td>401059.0</td>\n",
       "      <td>NaN</td>\n",
       "      <td>NaN</td>\n",
       "      <td>NaN</td>\n",
       "      <td>34.786341</td>\n",
       "      <td>5.708469</td>\n",
       "      <td>3.054228</td>\n",
       "      <td>31.003148</td>\n",
       "      <td>34.82258</td>\n",
       "      <td>38.430298</td>\n",
       "      <td>58.76517</td>\n",
       "    </tr>\n",
       "    <tr>\n",
       "      <th>tbp_lv_Cext</th>\n",
       "      <td>401059.0</td>\n",
       "      <td>NaN</td>\n",
       "      <td>NaN</td>\n",
       "      <td>NaN</td>\n",
       "      <td>30.921279</td>\n",
       "      <td>4.829345</td>\n",
       "      <td>11.84652</td>\n",
       "      <td>27.658285</td>\n",
       "      <td>30.804893</td>\n",
       "      <td>33.963868</td>\n",
       "      <td>54.30529</td>\n",
       "    </tr>\n",
       "    <tr>\n",
       "      <th>tbp_lv_H</th>\n",
       "      <td>401059.0</td>\n",
       "      <td>NaN</td>\n",
       "      <td>NaN</td>\n",
       "      <td>NaN</td>\n",
       "      <td>54.653689</td>\n",
       "      <td>5.520849</td>\n",
       "      <td>-1.574164</td>\n",
       "      <td>51.566273</td>\n",
       "      <td>55.035632</td>\n",
       "      <td>58.298184</td>\n",
       "      <td>105.875784</td>\n",
       "    </tr>\n",
       "    <tr>\n",
       "      <th>tbp_lv_Hext</th>\n",
       "      <td>401059.0</td>\n",
       "      <td>NaN</td>\n",
       "      <td>NaN</td>\n",
       "      <td>NaN</td>\n",
       "      <td>60.996869</td>\n",
       "      <td>5.631909</td>\n",
       "      <td>28.43649</td>\n",
       "      <td>57.29763</td>\n",
       "      <td>61.109173</td>\n",
       "      <td>64.905025</td>\n",
       "      <td>130.9833</td>\n",
       "    </tr>\n",
       "    <tr>\n",
       "      <th>tbp_lv_L</th>\n",
       "      <td>401059.0</td>\n",
       "      <td>NaN</td>\n",
       "      <td>NaN</td>\n",
       "      <td>NaN</td>\n",
       "      <td>42.289976</td>\n",
       "      <td>10.864572</td>\n",
       "      <td>4.223007</td>\n",
       "      <td>34.303345</td>\n",
       "      <td>42.34377</td>\n",
       "      <td>50.405051</td>\n",
       "      <td>87.548888</td>\n",
       "    </tr>\n",
       "    <tr>\n",
       "      <th>tbp_lv_Lext</th>\n",
       "      <td>401059.0</td>\n",
       "      <td>NaN</td>\n",
       "      <td>NaN</td>\n",
       "      <td>NaN</td>\n",
       "      <td>51.199529</td>\n",
       "      <td>12.100527</td>\n",
       "      <td>17.70226</td>\n",
       "      <td>42.274506</td>\n",
       "      <td>51.425557</td>\n",
       "      <td>60.495607</td>\n",
       "      <td>98.58825</td>\n",
       "    </tr>\n",
       "    <tr>\n",
       "      <th>tbp_lv_areaMM2</th>\n",
       "      <td>401059.0</td>\n",
       "      <td>NaN</td>\n",
       "      <td>NaN</td>\n",
       "      <td>NaN</td>\n",
       "      <td>8.539975</td>\n",
       "      <td>9.679312</td>\n",
       "      <td>0.431601</td>\n",
       "      <td>4.109589</td>\n",
       "      <td>5.68587</td>\n",
       "      <td>9.11991</td>\n",
       "      <td>334.1527</td>\n",
       "    </tr>\n",
       "    <tr>\n",
       "      <th>tbp_lv_area_perim_ratio</th>\n",
       "      <td>401059.0</td>\n",
       "      <td>NaN</td>\n",
       "      <td>NaN</td>\n",
       "      <td>NaN</td>\n",
       "      <td>19.084517</td>\n",
       "      <td>5.357863</td>\n",
       "      <td>10.761634</td>\n",
       "      <td>15.426205</td>\n",
       "      <td>17.42395</td>\n",
       "      <td>21.01134</td>\n",
       "      <td>87.20534</td>\n",
       "    </tr>\n",
       "    <tr>\n",
       "      <th>tbp_lv_color_std_mean</th>\n",
       "      <td>401059.0</td>\n",
       "      <td>NaN</td>\n",
       "      <td>NaN</td>\n",
       "      <td>NaN</td>\n",
       "      <td>1.070408</td>\n",
       "      <td>0.762918</td>\n",
       "      <td>0.0</td>\n",
       "      <td>0.574909</td>\n",
       "      <td>0.931402</td>\n",
       "      <td>1.412154</td>\n",
       "      <td>9.952932</td>\n",
       "    </tr>\n",
       "    <tr>\n",
       "      <th>tbp_lv_deltaA</th>\n",
       "      <td>401059.0</td>\n",
       "      <td>NaN</td>\n",
       "      <td>NaN</td>\n",
       "      <td>NaN</td>\n",
       "      <td>5.05476</td>\n",
       "      <td>2.642928</td>\n",
       "      <td>-13.81985</td>\n",
       "      <td>3.413108</td>\n",
       "      <td>4.643926</td>\n",
       "      <td>6.274246</td>\n",
       "      <td>32.13759</td>\n",
       "    </tr>\n",
       "    <tr>\n",
       "      <th>tbp_lv_deltaB</th>\n",
       "      <td>401059.0</td>\n",
       "      <td>NaN</td>\n",
       "      <td>NaN</td>\n",
       "      <td>NaN</td>\n",
       "      <td>1.368691</td>\n",
       "      <td>2.215871</td>\n",
       "      <td>-18.088106</td>\n",
       "      <td>0.11103</td>\n",
       "      <td>1.593945</td>\n",
       "      <td>2.850638</td>\n",
       "      <td>12.64393</td>\n",
       "    </tr>\n",
       "    <tr>\n",
       "      <th>tbp_lv_deltaL</th>\n",
       "      <td>401059.0</td>\n",
       "      <td>NaN</td>\n",
       "      <td>NaN</td>\n",
       "      <td>NaN</td>\n",
       "      <td>-8.909552</td>\n",
       "      <td>3.463362</td>\n",
       "      <td>-38.75614</td>\n",
       "      <td>-10.67547</td>\n",
       "      <td>-8.132223</td>\n",
       "      <td>-6.397103</td>\n",
       "      <td>-1.590631</td>\n",
       "    </tr>\n",
       "    <tr>\n",
       "      <th>tbp_lv_deltaLB</th>\n",
       "      <td>401059.0</td>\n",
       "      <td>NaN</td>\n",
       "      <td>NaN</td>\n",
       "      <td>NaN</td>\n",
       "      <td>9.455766</td>\n",
       "      <td>3.466703</td>\n",
       "      <td>2.952675</td>\n",
       "      <td>6.952377</td>\n",
       "      <td>8.699932</td>\n",
       "      <td>11.243486</td>\n",
       "      <td>39.19772</td>\n",
       "    </tr>\n",
       "    <tr>\n",
       "      <th>tbp_lv_deltaLBnorm</th>\n",
       "      <td>401059.0</td>\n",
       "      <td>NaN</td>\n",
       "      <td>NaN</td>\n",
       "      <td>NaN</td>\n",
       "      <td>7.538922</td>\n",
       "      <td>2.404951</td>\n",
       "      <td>3.001138</td>\n",
       "      <td>5.74816</td>\n",
       "      <td>6.94632</td>\n",
       "      <td>8.748403</td>\n",
       "      <td>30.487456</td>\n",
       "    </tr>\n",
       "    <tr>\n",
       "      <th>tbp_lv_eccentricity</th>\n",
       "      <td>401059.0</td>\n",
       "      <td>NaN</td>\n",
       "      <td>NaN</td>\n",
       "      <td>NaN</td>\n",
       "      <td>0.741238</td>\n",
       "      <td>0.143857</td>\n",
       "      <td>0.027667</td>\n",
       "      <td>0.656627</td>\n",
       "      <td>0.768215</td>\n",
       "      <td>0.853175</td>\n",
       "      <td>0.97496</td>\n",
       "    </tr>\n",
       "    <tr>\n",
       "      <th>tbp_lv_location</th>\n",
       "      <td>401059</td>\n",
       "      <td>21</td>\n",
       "      <td>Torso Back Top Third</td>\n",
       "      <td>71112</td>\n",
       "      <td>NaN</td>\n",
       "      <td>NaN</td>\n",
       "      <td>NaN</td>\n",
       "      <td>NaN</td>\n",
       "      <td>NaN</td>\n",
       "      <td>NaN</td>\n",
       "      <td>NaN</td>\n",
       "    </tr>\n",
       "    <tr>\n",
       "      <th>tbp_lv_location_simple</th>\n",
       "      <td>401059</td>\n",
       "      <td>8</td>\n",
       "      <td>Torso Back</td>\n",
       "      <td>121902</td>\n",
       "      <td>NaN</td>\n",
       "      <td>NaN</td>\n",
       "      <td>NaN</td>\n",
       "      <td>NaN</td>\n",
       "      <td>NaN</td>\n",
       "      <td>NaN</td>\n",
       "      <td>NaN</td>\n",
       "    </tr>\n",
       "    <tr>\n",
       "      <th>tbp_lv_minorAxisMM</th>\n",
       "      <td>401059.0</td>\n",
       "      <td>NaN</td>\n",
       "      <td>NaN</td>\n",
       "      <td>NaN</td>\n",
       "      <td>2.539773</td>\n",
       "      <td>1.173169</td>\n",
       "      <td>0.273973</td>\n",
       "      <td>1.812707</td>\n",
       "      <td>2.265201</td>\n",
       "      <td>2.905918</td>\n",
       "      <td>18.3879</td>\n",
       "    </tr>\n",
       "    <tr>\n",
       "      <th>tbp_lv_nevi_confidence</th>\n",
       "      <td>401059.0</td>\n",
       "      <td>NaN</td>\n",
       "      <td>NaN</td>\n",
       "      <td>NaN</td>\n",
       "      <td>38.520265</td>\n",
       "      <td>41.480936</td>\n",
       "      <td>0.0</td>\n",
       "      <td>0.109819</td>\n",
       "      <td>14.408514</td>\n",
       "      <td>87.791395</td>\n",
       "      <td>100.0</td>\n",
       "    </tr>\n",
       "    <tr>\n",
       "      <th>tbp_lv_norm_border</th>\n",
       "      <td>401059.0</td>\n",
       "      <td>NaN</td>\n",
       "      <td>NaN</td>\n",
       "      <td>NaN</td>\n",
       "      <td>3.451523</td>\n",
       "      <td>1.724557</td>\n",
       "      <td>0.589426</td>\n",
       "      <td>2.143836</td>\n",
       "      <td>2.996933</td>\n",
       "      <td>4.358399</td>\n",
       "      <td>10.0</td>\n",
       "    </tr>\n",
       "    <tr>\n",
       "      <th>tbp_lv_norm_color</th>\n",
       "      <td>401059.0</td>\n",
       "      <td>NaN</td>\n",
       "      <td>NaN</td>\n",
       "      <td>NaN</td>\n",
       "      <td>3.09159</td>\n",
       "      <td>2.044813</td>\n",
       "      <td>0.0</td>\n",
       "      <td>1.728774</td>\n",
       "      <td>2.764664</td>\n",
       "      <td>4.120246</td>\n",
       "      <td>10.0</td>\n",
       "    </tr>\n",
       "    <tr>\n",
       "      <th>tbp_lv_perimeterMM</th>\n",
       "      <td>401059.0</td>\n",
       "      <td>NaN</td>\n",
       "      <td>NaN</td>\n",
       "      <td>NaN</td>\n",
       "      <td>11.878891</td>\n",
       "      <td>5.919302</td>\n",
       "      <td>2.579237</td>\n",
       "      <td>8.338364</td>\n",
       "      <td>10.01544</td>\n",
       "      <td>13.2091</td>\n",
       "      <td>102.4939</td>\n",
       "    </tr>\n",
       "    <tr>\n",
       "      <th>tbp_lv_radial_color_std_max</th>\n",
       "      <td>401059.0</td>\n",
       "      <td>NaN</td>\n",
       "      <td>NaN</td>\n",
       "      <td>NaN</td>\n",
       "      <td>1.016459</td>\n",
       "      <td>0.734631</td>\n",
       "      <td>0.0</td>\n",
       "      <td>0.563891</td>\n",
       "      <td>0.902281</td>\n",
       "      <td>1.334523</td>\n",
       "      <td>11.49114</td>\n",
       "    </tr>\n",
       "    <tr>\n",
       "      <th>tbp_lv_stdL</th>\n",
       "      <td>401059.0</td>\n",
       "      <td>NaN</td>\n",
       "      <td>NaN</td>\n",
       "      <td>NaN</td>\n",
       "      <td>2.71519</td>\n",
       "      <td>1.738165</td>\n",
       "      <td>0.26816</td>\n",
       "      <td>1.45657</td>\n",
       "      <td>2.186693</td>\n",
       "      <td>3.474565</td>\n",
       "      <td>17.56365</td>\n",
       "    </tr>\n",
       "    <tr>\n",
       "      <th>tbp_lv_stdLExt</th>\n",
       "      <td>401059.0</td>\n",
       "      <td>NaN</td>\n",
       "      <td>NaN</td>\n",
       "      <td>NaN</td>\n",
       "      <td>2.238605</td>\n",
       "      <td>0.623884</td>\n",
       "      <td>0.636247</td>\n",
       "      <td>1.834745</td>\n",
       "      <td>2.149758</td>\n",
       "      <td>2.531443</td>\n",
       "      <td>25.534791</td>\n",
       "    </tr>\n",
       "    <tr>\n",
       "      <th>tbp_lv_symm_2axis</th>\n",
       "      <td>401059.0</td>\n",
       "      <td>NaN</td>\n",
       "      <td>NaN</td>\n",
       "      <td>NaN</td>\n",
       "      <td>0.306823</td>\n",
       "      <td>0.125038</td>\n",
       "      <td>0.052034</td>\n",
       "      <td>0.211429</td>\n",
       "      <td>0.282297</td>\n",
       "      <td>0.382022</td>\n",
       "      <td>0.977055</td>\n",
       "    </tr>\n",
       "    <tr>\n",
       "      <th>tbp_lv_symm_2axis_angle</th>\n",
       "      <td>401059.0</td>\n",
       "      <td>NaN</td>\n",
       "      <td>NaN</td>\n",
       "      <td>NaN</td>\n",
       "      <td>86.332073</td>\n",
       "      <td>52.559511</td>\n",
       "      <td>0.0</td>\n",
       "      <td>40.0</td>\n",
       "      <td>90.0</td>\n",
       "      <td>130.0</td>\n",
       "      <td>175.0</td>\n",
       "    </tr>\n",
       "    <tr>\n",
       "      <th>tbp_lv_x</th>\n",
       "      <td>401059.0</td>\n",
       "      <td>NaN</td>\n",
       "      <td>NaN</td>\n",
       "      <td>NaN</td>\n",
       "      <td>-3.091862</td>\n",
       "      <td>197.257995</td>\n",
       "      <td>-624.870728</td>\n",
       "      <td>-147.022125</td>\n",
       "      <td>-5.747253</td>\n",
       "      <td>140.474835</td>\n",
       "      <td>614.4717</td>\n",
       "    </tr>\n",
       "    <tr>\n",
       "      <th>tbp_lv_y</th>\n",
       "      <td>401059.0</td>\n",
       "      <td>NaN</td>\n",
       "      <td>NaN</td>\n",
       "      <td>NaN</td>\n",
       "      <td>1039.598221</td>\n",
       "      <td>409.819653</td>\n",
       "      <td>-1052.134</td>\n",
       "      <td>746.519673</td>\n",
       "      <td>1172.803</td>\n",
       "      <td>1342.13154</td>\n",
       "      <td>1887.766846</td>\n",
       "    </tr>\n",
       "    <tr>\n",
       "      <th>tbp_lv_z</th>\n",
       "      <td>401059.0</td>\n",
       "      <td>NaN</td>\n",
       "      <td>NaN</td>\n",
       "      <td>NaN</td>\n",
       "      <td>55.823389</td>\n",
       "      <td>87.968245</td>\n",
       "      <td>-291.890442</td>\n",
       "      <td>-8.962647</td>\n",
       "      <td>67.957947</td>\n",
       "      <td>126.611567</td>\n",
       "      <td>319.407</td>\n",
       "    </tr>\n",
       "    <tr>\n",
       "      <th>attribution</th>\n",
       "      <td>401059</td>\n",
       "      <td>7</td>\n",
       "      <td>Memorial Sloan Kettering Cancer Center</td>\n",
       "      <td>129068</td>\n",
       "      <td>NaN</td>\n",
       "      <td>NaN</td>\n",
       "      <td>NaN</td>\n",
       "      <td>NaN</td>\n",
       "      <td>NaN</td>\n",
       "      <td>NaN</td>\n",
       "      <td>NaN</td>\n",
       "    </tr>\n",
       "    <tr>\n",
       "      <th>copyright_license</th>\n",
       "      <td>401059</td>\n",
       "      <td>3</td>\n",
       "      <td>CC-BY</td>\n",
       "      <td>188812</td>\n",
       "      <td>NaN</td>\n",
       "      <td>NaN</td>\n",
       "      <td>NaN</td>\n",
       "      <td>NaN</td>\n",
       "      <td>NaN</td>\n",
       "      <td>NaN</td>\n",
       "      <td>NaN</td>\n",
       "    </tr>\n",
       "    <tr>\n",
       "      <th>lesion_id</th>\n",
       "      <td>22058</td>\n",
       "      <td>22058</td>\n",
       "      <td>IL_6727506</td>\n",
       "      <td>1</td>\n",
       "      <td>NaN</td>\n",
       "      <td>NaN</td>\n",
       "      <td>NaN</td>\n",
       "      <td>NaN</td>\n",
       "      <td>NaN</td>\n",
       "      <td>NaN</td>\n",
       "      <td>NaN</td>\n",
       "    </tr>\n",
       "    <tr>\n",
       "      <th>iddx_full</th>\n",
       "      <td>401059</td>\n",
       "      <td>52</td>\n",
       "      <td>Benign</td>\n",
       "      <td>399991</td>\n",
       "      <td>NaN</td>\n",
       "      <td>NaN</td>\n",
       "      <td>NaN</td>\n",
       "      <td>NaN</td>\n",
       "      <td>NaN</td>\n",
       "      <td>NaN</td>\n",
       "      <td>NaN</td>\n",
       "    </tr>\n",
       "    <tr>\n",
       "      <th>iddx_1</th>\n",
       "      <td>401059</td>\n",
       "      <td>3</td>\n",
       "      <td>Benign</td>\n",
       "      <td>400552</td>\n",
       "      <td>NaN</td>\n",
       "      <td>NaN</td>\n",
       "      <td>NaN</td>\n",
       "      <td>NaN</td>\n",
       "      <td>NaN</td>\n",
       "      <td>NaN</td>\n",
       "      <td>NaN</td>\n",
       "    </tr>\n",
       "    <tr>\n",
       "      <th>iddx_2</th>\n",
       "      <td>1068</td>\n",
       "      <td>14</td>\n",
       "      <td>Benign melanocytic proliferations</td>\n",
       "      <td>443</td>\n",
       "      <td>NaN</td>\n",
       "      <td>NaN</td>\n",
       "      <td>NaN</td>\n",
       "      <td>NaN</td>\n",
       "      <td>NaN</td>\n",
       "      <td>NaN</td>\n",
       "      <td>NaN</td>\n",
       "    </tr>\n",
       "    <tr>\n",
       "      <th>iddx_3</th>\n",
       "      <td>1065</td>\n",
       "      <td>25</td>\n",
       "      <td>Nevus</td>\n",
       "      <td>443</td>\n",
       "      <td>NaN</td>\n",
       "      <td>NaN</td>\n",
       "      <td>NaN</td>\n",
       "      <td>NaN</td>\n",
       "      <td>NaN</td>\n",
       "      <td>NaN</td>\n",
       "      <td>NaN</td>\n",
       "    </tr>\n",
       "    <tr>\n",
       "      <th>iddx_4</th>\n",
       "      <td>551</td>\n",
       "      <td>26</td>\n",
       "      <td>Nevus, Atypical, Dysplastic, or Clark</td>\n",
       "      <td>228</td>\n",
       "      <td>NaN</td>\n",
       "      <td>NaN</td>\n",
       "      <td>NaN</td>\n",
       "      <td>NaN</td>\n",
       "      <td>NaN</td>\n",
       "      <td>NaN</td>\n",
       "      <td>NaN</td>\n",
       "    </tr>\n",
       "    <tr>\n",
       "      <th>iddx_5</th>\n",
       "      <td>1</td>\n",
       "      <td>1</td>\n",
       "      <td>Blue nevus, Cellular</td>\n",
       "      <td>1</td>\n",
       "      <td>NaN</td>\n",
       "      <td>NaN</td>\n",
       "      <td>NaN</td>\n",
       "      <td>NaN</td>\n",
       "      <td>NaN</td>\n",
       "      <td>NaN</td>\n",
       "      <td>NaN</td>\n",
       "    </tr>\n",
       "    <tr>\n",
       "      <th>mel_mitotic_index</th>\n",
       "      <td>53</td>\n",
       "      <td>7</td>\n",
       "      <td>0/mm^2</td>\n",
       "      <td>22</td>\n",
       "      <td>NaN</td>\n",
       "      <td>NaN</td>\n",
       "      <td>NaN</td>\n",
       "      <td>NaN</td>\n",
       "      <td>NaN</td>\n",
       "      <td>NaN</td>\n",
       "      <td>NaN</td>\n",
       "    </tr>\n",
       "    <tr>\n",
       "      <th>mel_thick_mm</th>\n",
       "      <td>63.0</td>\n",
       "      <td>NaN</td>\n",
       "      <td>NaN</td>\n",
       "      <td>NaN</td>\n",
       "      <td>0.670952</td>\n",
       "      <td>0.792798</td>\n",
       "      <td>0.2</td>\n",
       "      <td>0.3</td>\n",
       "      <td>0.4</td>\n",
       "      <td>0.6</td>\n",
       "      <td>5.0</td>\n",
       "    </tr>\n",
       "    <tr>\n",
       "      <th>tbp_lv_dnn_lesion_confidence</th>\n",
       "      <td>401059.0</td>\n",
       "      <td>NaN</td>\n",
       "      <td>NaN</td>\n",
       "      <td>NaN</td>\n",
       "      <td>97.162204</td>\n",
       "      <td>8.995782</td>\n",
       "      <td>0.0</td>\n",
       "      <td>99.668824</td>\n",
       "      <td>99.994588</td>\n",
       "      <td>99.99996</td>\n",
       "      <td>100.0</td>\n",
       "    </tr>\n",
       "  </tbody>\n",
       "</table>\n",
       "</div>"
      ],
      "text/plain": [
       "                                 count  unique  \\\n",
       "isic_id                         401059  401059   \n",
       "target                        401059.0     NaN   \n",
       "patient_id                      401059    1042   \n",
       "age_approx                    398261.0     NaN   \n",
       "sex                             389542       2   \n",
       "anatom_site_general             395303       5   \n",
       "clin_size_long_diam_mm        401059.0     NaN   \n",
       "image_type                      401059       1   \n",
       "tbp_tile_type                   401059       2   \n",
       "tbp_lv_A                      401059.0     NaN   \n",
       "tbp_lv_Aext                   401059.0     NaN   \n",
       "tbp_lv_B                      401059.0     NaN   \n",
       "tbp_lv_Bext                   401059.0     NaN   \n",
       "tbp_lv_C                      401059.0     NaN   \n",
       "tbp_lv_Cext                   401059.0     NaN   \n",
       "tbp_lv_H                      401059.0     NaN   \n",
       "tbp_lv_Hext                   401059.0     NaN   \n",
       "tbp_lv_L                      401059.0     NaN   \n",
       "tbp_lv_Lext                   401059.0     NaN   \n",
       "tbp_lv_areaMM2                401059.0     NaN   \n",
       "tbp_lv_area_perim_ratio       401059.0     NaN   \n",
       "tbp_lv_color_std_mean         401059.0     NaN   \n",
       "tbp_lv_deltaA                 401059.0     NaN   \n",
       "tbp_lv_deltaB                 401059.0     NaN   \n",
       "tbp_lv_deltaL                 401059.0     NaN   \n",
       "tbp_lv_deltaLB                401059.0     NaN   \n",
       "tbp_lv_deltaLBnorm            401059.0     NaN   \n",
       "tbp_lv_eccentricity           401059.0     NaN   \n",
       "tbp_lv_location                 401059      21   \n",
       "tbp_lv_location_simple          401059       8   \n",
       "tbp_lv_minorAxisMM            401059.0     NaN   \n",
       "tbp_lv_nevi_confidence        401059.0     NaN   \n",
       "tbp_lv_norm_border            401059.0     NaN   \n",
       "tbp_lv_norm_color             401059.0     NaN   \n",
       "tbp_lv_perimeterMM            401059.0     NaN   \n",
       "tbp_lv_radial_color_std_max   401059.0     NaN   \n",
       "tbp_lv_stdL                   401059.0     NaN   \n",
       "tbp_lv_stdLExt                401059.0     NaN   \n",
       "tbp_lv_symm_2axis             401059.0     NaN   \n",
       "tbp_lv_symm_2axis_angle       401059.0     NaN   \n",
       "tbp_lv_x                      401059.0     NaN   \n",
       "tbp_lv_y                      401059.0     NaN   \n",
       "tbp_lv_z                      401059.0     NaN   \n",
       "attribution                     401059       7   \n",
       "copyright_license               401059       3   \n",
       "lesion_id                        22058   22058   \n",
       "iddx_full                       401059      52   \n",
       "iddx_1                          401059       3   \n",
       "iddx_2                            1068      14   \n",
       "iddx_3                            1065      25   \n",
       "iddx_4                             551      26   \n",
       "iddx_5                               1       1   \n",
       "mel_mitotic_index                   53       7   \n",
       "mel_thick_mm                      63.0     NaN   \n",
       "tbp_lv_dnn_lesion_confidence  401059.0     NaN   \n",
       "\n",
       "                                                                 top    freq  \\\n",
       "isic_id                                                 ISIC_0015670       1   \n",
       "target                                                           NaN     NaN   \n",
       "patient_id                                                IP_1117889    9184   \n",
       "age_approx                                                       NaN     NaN   \n",
       "sex                                                             male  265546   \n",
       "anatom_site_general                                  posterior torso  121902   \n",
       "clin_size_long_diam_mm                                           NaN     NaN   \n",
       "image_type                                        TBP tile: close-up  401059   \n",
       "tbp_tile_type                                                 3D: XP  285903   \n",
       "tbp_lv_A                                                         NaN     NaN   \n",
       "tbp_lv_Aext                                                      NaN     NaN   \n",
       "tbp_lv_B                                                         NaN     NaN   \n",
       "tbp_lv_Bext                                                      NaN     NaN   \n",
       "tbp_lv_C                                                         NaN     NaN   \n",
       "tbp_lv_Cext                                                      NaN     NaN   \n",
       "tbp_lv_H                                                         NaN     NaN   \n",
       "tbp_lv_Hext                                                      NaN     NaN   \n",
       "tbp_lv_L                                                         NaN     NaN   \n",
       "tbp_lv_Lext                                                      NaN     NaN   \n",
       "tbp_lv_areaMM2                                                   NaN     NaN   \n",
       "tbp_lv_area_perim_ratio                                          NaN     NaN   \n",
       "tbp_lv_color_std_mean                                            NaN     NaN   \n",
       "tbp_lv_deltaA                                                    NaN     NaN   \n",
       "tbp_lv_deltaB                                                    NaN     NaN   \n",
       "tbp_lv_deltaL                                                    NaN     NaN   \n",
       "tbp_lv_deltaLB                                                   NaN     NaN   \n",
       "tbp_lv_deltaLBnorm                                               NaN     NaN   \n",
       "tbp_lv_eccentricity                                              NaN     NaN   \n",
       "tbp_lv_location                                 Torso Back Top Third   71112   \n",
       "tbp_lv_location_simple                                    Torso Back  121902   \n",
       "tbp_lv_minorAxisMM                                               NaN     NaN   \n",
       "tbp_lv_nevi_confidence                                           NaN     NaN   \n",
       "tbp_lv_norm_border                                               NaN     NaN   \n",
       "tbp_lv_norm_color                                                NaN     NaN   \n",
       "tbp_lv_perimeterMM                                               NaN     NaN   \n",
       "tbp_lv_radial_color_std_max                                      NaN     NaN   \n",
       "tbp_lv_stdL                                                      NaN     NaN   \n",
       "tbp_lv_stdLExt                                                   NaN     NaN   \n",
       "tbp_lv_symm_2axis                                                NaN     NaN   \n",
       "tbp_lv_symm_2axis_angle                                          NaN     NaN   \n",
       "tbp_lv_x                                                         NaN     NaN   \n",
       "tbp_lv_y                                                         NaN     NaN   \n",
       "tbp_lv_z                                                         NaN     NaN   \n",
       "attribution                   Memorial Sloan Kettering Cancer Center  129068   \n",
       "copyright_license                                              CC-BY  188812   \n",
       "lesion_id                                                 IL_6727506       1   \n",
       "iddx_full                                                     Benign  399991   \n",
       "iddx_1                                                        Benign  400552   \n",
       "iddx_2                             Benign melanocytic proliferations     443   \n",
       "iddx_3                                                         Nevus     443   \n",
       "iddx_4                         Nevus, Atypical, Dysplastic, or Clark     228   \n",
       "iddx_5                                          Blue nevus, Cellular       1   \n",
       "mel_mitotic_index                                             0/mm^2      22   \n",
       "mel_thick_mm                                                     NaN     NaN   \n",
       "tbp_lv_dnn_lesion_confidence                                     NaN     NaN   \n",
       "\n",
       "                                     mean         std         min         25%  \\\n",
       "isic_id                               NaN         NaN         NaN         NaN   \n",
       "target                            0.00098    0.031288         0.0         0.0   \n",
       "patient_id                            NaN         NaN         NaN         NaN   \n",
       "age_approx                      58.012986   13.596165         5.0        50.0   \n",
       "sex                                   NaN         NaN         NaN         NaN   \n",
       "anatom_site_general                   NaN         NaN         NaN         NaN   \n",
       "clin_size_long_diam_mm           3.930827    1.743068         1.0        2.84   \n",
       "image_type                            NaN         NaN         NaN         NaN   \n",
       "tbp_tile_type                         NaN         NaN         NaN         NaN   \n",
       "tbp_lv_A                        19.974007    3.999489   -2.487115   17.330821   \n",
       "tbp_lv_Aext                     14.919247    3.529384   -9.080269    12.46974   \n",
       "tbp_lv_B                        28.281706    5.278676   -0.730989   24.704372   \n",
       "tbp_lv_Bext                     26.913015    4.482994    9.237066   23.848125   \n",
       "tbp_lv_C                        34.786341    5.708469    3.054228   31.003148   \n",
       "tbp_lv_Cext                     30.921279    4.829345    11.84652   27.658285   \n",
       "tbp_lv_H                        54.653689    5.520849   -1.574164   51.566273   \n",
       "tbp_lv_Hext                     60.996869    5.631909    28.43649    57.29763   \n",
       "tbp_lv_L                        42.289976   10.864572    4.223007   34.303345   \n",
       "tbp_lv_Lext                     51.199529   12.100527    17.70226   42.274506   \n",
       "tbp_lv_areaMM2                   8.539975    9.679312    0.431601    4.109589   \n",
       "tbp_lv_area_perim_ratio         19.084517    5.357863   10.761634   15.426205   \n",
       "tbp_lv_color_std_mean            1.070408    0.762918         0.0    0.574909   \n",
       "tbp_lv_deltaA                     5.05476    2.642928   -13.81985    3.413108   \n",
       "tbp_lv_deltaB                    1.368691    2.215871  -18.088106     0.11103   \n",
       "tbp_lv_deltaL                   -8.909552    3.463362   -38.75614   -10.67547   \n",
       "tbp_lv_deltaLB                   9.455766    3.466703    2.952675    6.952377   \n",
       "tbp_lv_deltaLBnorm               7.538922    2.404951    3.001138     5.74816   \n",
       "tbp_lv_eccentricity              0.741238    0.143857    0.027667    0.656627   \n",
       "tbp_lv_location                       NaN         NaN         NaN         NaN   \n",
       "tbp_lv_location_simple                NaN         NaN         NaN         NaN   \n",
       "tbp_lv_minorAxisMM               2.539773    1.173169    0.273973    1.812707   \n",
       "tbp_lv_nevi_confidence          38.520265   41.480936         0.0    0.109819   \n",
       "tbp_lv_norm_border               3.451523    1.724557    0.589426    2.143836   \n",
       "tbp_lv_norm_color                 3.09159    2.044813         0.0    1.728774   \n",
       "tbp_lv_perimeterMM              11.878891    5.919302    2.579237    8.338364   \n",
       "tbp_lv_radial_color_std_max      1.016459    0.734631         0.0    0.563891   \n",
       "tbp_lv_stdL                       2.71519    1.738165     0.26816     1.45657   \n",
       "tbp_lv_stdLExt                   2.238605    0.623884    0.636247    1.834745   \n",
       "tbp_lv_symm_2axis                0.306823    0.125038    0.052034    0.211429   \n",
       "tbp_lv_symm_2axis_angle         86.332073   52.559511         0.0        40.0   \n",
       "tbp_lv_x                        -3.091862  197.257995 -624.870728 -147.022125   \n",
       "tbp_lv_y                      1039.598221  409.819653   -1052.134  746.519673   \n",
       "tbp_lv_z                        55.823389   87.968245 -291.890442   -8.962647   \n",
       "attribution                           NaN         NaN         NaN         NaN   \n",
       "copyright_license                     NaN         NaN         NaN         NaN   \n",
       "lesion_id                             NaN         NaN         NaN         NaN   \n",
       "iddx_full                             NaN         NaN         NaN         NaN   \n",
       "iddx_1                                NaN         NaN         NaN         NaN   \n",
       "iddx_2                                NaN         NaN         NaN         NaN   \n",
       "iddx_3                                NaN         NaN         NaN         NaN   \n",
       "iddx_4                                NaN         NaN         NaN         NaN   \n",
       "iddx_5                                NaN         NaN         NaN         NaN   \n",
       "mel_mitotic_index                     NaN         NaN         NaN         NaN   \n",
       "mel_thick_mm                     0.670952    0.792798         0.2         0.3   \n",
       "tbp_lv_dnn_lesion_confidence    97.162204    8.995782         0.0   99.668824   \n",
       "\n",
       "                                    50%         75%          max  \n",
       "isic_id                             NaN         NaN          NaN  \n",
       "target                              0.0         0.0          1.0  \n",
       "patient_id                          NaN         NaN          NaN  \n",
       "age_approx                         60.0        70.0         85.0  \n",
       "sex                                 NaN         NaN          NaN  \n",
       "anatom_site_general                 NaN         NaN          NaN  \n",
       "clin_size_long_diam_mm             3.37        4.38         28.4  \n",
       "image_type                          NaN         NaN          NaN  \n",
       "tbp_tile_type                       NaN         NaN          NaN  \n",
       "tbp_lv_A                       19.80191   22.304628     48.18961  \n",
       "tbp_lv_Aext                    14.71393   17.137175     37.02168  \n",
       "tbp_lv_B                       28.17157   31.637429      54.3069  \n",
       "tbp_lv_Bext                   26.701704   29.679913      48.3727  \n",
       "tbp_lv_C                       34.82258   38.430298     58.76517  \n",
       "tbp_lv_Cext                   30.804893   33.963868     54.30529  \n",
       "tbp_lv_H                      55.035632   58.298184   105.875784  \n",
       "tbp_lv_Hext                   61.109173   64.905025     130.9833  \n",
       "tbp_lv_L                       42.34377   50.405051    87.548888  \n",
       "tbp_lv_Lext                   51.425557   60.495607     98.58825  \n",
       "tbp_lv_areaMM2                  5.68587     9.11991     334.1527  \n",
       "tbp_lv_area_perim_ratio        17.42395    21.01134     87.20534  \n",
       "tbp_lv_color_std_mean          0.931402    1.412154     9.952932  \n",
       "tbp_lv_deltaA                  4.643926    6.274246     32.13759  \n",
       "tbp_lv_deltaB                  1.593945    2.850638     12.64393  \n",
       "tbp_lv_deltaL                 -8.132223   -6.397103    -1.590631  \n",
       "tbp_lv_deltaLB                 8.699932   11.243486     39.19772  \n",
       "tbp_lv_deltaLBnorm              6.94632    8.748403    30.487456  \n",
       "tbp_lv_eccentricity            0.768215    0.853175      0.97496  \n",
       "tbp_lv_location                     NaN         NaN          NaN  \n",
       "tbp_lv_location_simple              NaN         NaN          NaN  \n",
       "tbp_lv_minorAxisMM             2.265201    2.905918      18.3879  \n",
       "tbp_lv_nevi_confidence        14.408514   87.791395        100.0  \n",
       "tbp_lv_norm_border             2.996933    4.358399         10.0  \n",
       "tbp_lv_norm_color              2.764664    4.120246         10.0  \n",
       "tbp_lv_perimeterMM             10.01544     13.2091     102.4939  \n",
       "tbp_lv_radial_color_std_max    0.902281    1.334523     11.49114  \n",
       "tbp_lv_stdL                    2.186693    3.474565     17.56365  \n",
       "tbp_lv_stdLExt                 2.149758    2.531443    25.534791  \n",
       "tbp_lv_symm_2axis              0.282297    0.382022     0.977055  \n",
       "tbp_lv_symm_2axis_angle            90.0       130.0        175.0  \n",
       "tbp_lv_x                      -5.747253  140.474835     614.4717  \n",
       "tbp_lv_y                       1172.803  1342.13154  1887.766846  \n",
       "tbp_lv_z                      67.957947  126.611567      319.407  \n",
       "attribution                         NaN         NaN          NaN  \n",
       "copyright_license                   NaN         NaN          NaN  \n",
       "lesion_id                           NaN         NaN          NaN  \n",
       "iddx_full                           NaN         NaN          NaN  \n",
       "iddx_1                              NaN         NaN          NaN  \n",
       "iddx_2                              NaN         NaN          NaN  \n",
       "iddx_3                              NaN         NaN          NaN  \n",
       "iddx_4                              NaN         NaN          NaN  \n",
       "iddx_5                              NaN         NaN          NaN  \n",
       "mel_mitotic_index                   NaN         NaN          NaN  \n",
       "mel_thick_mm                        0.4         0.6          5.0  \n",
       "tbp_lv_dnn_lesion_confidence  99.994588    99.99996        100.0  "
      ]
     },
     "execution_count": 11,
     "metadata": {},
     "output_type": "execute_result"
    }
   ],
   "source": [
    "df.describe(include=\"all\").T"
   ]
  },
  {
   "cell_type": "code",
   "execution_count": 12,
   "id": "eb0965b2",
   "metadata": {
    "ExecuteTime": {
     "end_time": "2024-10-23T18:47:30.899229Z",
     "start_time": "2024-10-23T18:47:30.207228Z"
    }
   },
   "outputs": [
    {
     "data": {
      "image/png": "[encoded data removed]",
      "text/plain": [
       "<Figure size 1000x600 with 1 Axes>"
      ]
     },
     "metadata": {},
     "output_type": "display_data"
    }
   ],
   "source": [
    "id_values = df[\"patient_id\"].value_counts()\n",
    "\n",
    "plt.figure(figsize=(10, 6))\n",
    "sns.histplot(id_values, bins=50, kde=False)\n",
    "plt.yscale('log')\n",
    "plt.title('Distribution of Number of Images per Patient')\n",
    "plt.xlabel('Number of Images')\n",
    "plt.ylabel('Frequency (log scale)')\n",
    "plt.show()"
   ]
  },
  {
   "cell_type": "code",
   "execution_count": 13,
   "id": "f9b43db1",
   "metadata": {
    "ExecuteTime": {
     "end_time": "2024-10-23T18:47:30.915230Z",
     "start_time": "2024-10-23T18:47:30.900230Z"
    }
   },
   "outputs": [
    {
     "name": "stdout",
     "output_type": "stream",
     "text": [
      "Patient ID with the most images: IP_1117889\n",
      "Number of images: 9184\n"
     ]
    }
   ],
   "source": [
    "patient_with_most_images = id_values.idxmax()\n",
    "most_images_count = id_values.max()\n",
    "\n",
    "print(f\"Patient ID with the most images: {patient_with_most_images}\")\n",
    "print(f\"Number of images: {most_images_count}\")"
   ]
  },
  {
   "cell_type": "code",
   "execution_count": 14,
   "id": "09fdaaa0",
   "metadata": {
    "ExecuteTime": {
     "end_time": "2024-10-23T18:47:30.979230Z",
     "start_time": "2024-10-23T18:47:30.917229Z"
    }
   },
   "outputs": [
    {
     "name": "stdout",
     "output_type": "stream",
     "text": [
      "             isic_id  target  patient_id  age_approx     sex  \\\n",
      "23      ISIC_0052122       0  IP_1117889        55.0  female   \n",
      "47      ISIC_0073261       0  IP_1117889        55.0  female   \n",
      "79      ISIC_0074118       0  IP_1117889        55.0  female   \n",
      "104     ISIC_0075822       0  IP_1117889        55.0  female   \n",
      "140     ISIC_0076635       0  IP_1117889        55.0  female   \n",
      "...              ...     ...         ...         ...     ...   \n",
      "400976  ISIC_9998037       0  IP_1117889        55.0  female   \n",
      "401043  ISIC_9999596       0  IP_1117889        55.0  female   \n",
      "401048  ISIC_9999779       0  IP_1117889        55.0  female   \n",
      "401049  ISIC_9999817       0  IP_1117889        55.0  female   \n",
      "401050  ISIC_9999852       0  IP_1117889        55.0  female   \n",
      "\n",
      "       anatom_site_general  clin_size_long_diam_mm          image_type  \\\n",
      "23          anterior torso                    2.60  TBP tile: close-up   \n",
      "47          anterior torso                    6.19  TBP tile: close-up   \n",
      "79         lower extremity                    7.23  TBP tile: close-up   \n",
      "104        upper extremity                    3.46  TBP tile: close-up   \n",
      "140        lower extremity                    2.85  TBP tile: close-up   \n",
      "...                    ...                     ...                 ...   \n",
      "400976     lower extremity                    5.61  TBP tile: close-up   \n",
      "401043     upper extremity                    4.86  TBP tile: close-up   \n",
      "401048     lower extremity                    4.36  TBP tile: close-up   \n",
      "401049      anterior torso                    3.02  TBP tile: close-up   \n",
      "401050     posterior torso                    3.56  TBP tile: close-up   \n",
      "\n",
      "       tbp_tile_type   tbp_lv_A  ...  lesion_id  iddx_full  iddx_1  iddx_2  \\\n",
      "23            3D: XP  23.082697  ...        NaN     Benign  Benign     NaN   \n",
      "47            3D: XP  21.028329  ...        NaN     Benign  Benign     NaN   \n",
      "79            3D: XP  20.048064  ...        NaN     Benign  Benign     NaN   \n",
      "104           3D: XP  20.096444  ...        NaN     Benign  Benign     NaN   \n",
      "140           3D: XP  20.384817  ...        NaN     Benign  Benign     NaN   \n",
      "...              ...        ...  ...        ...        ...     ...     ...   \n",
      "400976        3D: XP  18.877903  ...        NaN     Benign  Benign     NaN   \n",
      "401043        3D: XP  18.705245  ...        NaN     Benign  Benign     NaN   \n",
      "401048        3D: XP  19.441287  ...        NaN     Benign  Benign     NaN   \n",
      "401049        3D: XP  22.672866  ...        NaN     Benign  Benign     NaN   \n",
      "401050        3D: XP  16.400388  ...        NaN     Benign  Benign     NaN   \n",
      "\n",
      "        iddx_3  iddx_4  iddx_5  mel_mitotic_index  mel_thick_mm  \\\n",
      "23         NaN     NaN     NaN                NaN           NaN   \n",
      "47         NaN     NaN     NaN                NaN           NaN   \n",
      "79         NaN     NaN     NaN                NaN           NaN   \n",
      "104        NaN     NaN     NaN                NaN           NaN   \n",
      "140        NaN     NaN     NaN                NaN           NaN   \n",
      "...        ...     ...     ...                ...           ...   \n",
      "400976     NaN     NaN     NaN                NaN           NaN   \n",
      "401043     NaN     NaN     NaN                NaN           NaN   \n",
      "401048     NaN     NaN     NaN                NaN           NaN   \n",
      "401049     NaN     NaN     NaN                NaN           NaN   \n",
      "401050     NaN     NaN     NaN                NaN           NaN   \n",
      "\n",
      "        tbp_lv_dnn_lesion_confidence  \n",
      "23                         99.999821  \n",
      "47                         99.950111  \n",
      "79                         99.654669  \n",
      "104                        99.998319  \n",
      "140                        99.980837  \n",
      "...                              ...  \n",
      "400976                     70.844454  \n",
      "401043                     88.724822  \n",
      "401048                     99.995005  \n",
      "401049                     99.891865  \n",
      "401050                     99.283570  \n",
      "\n",
      "[9184 rows x 55 columns]\n"
     ]
    }
   ],
   "source": [
    "patient_with_most_images_entries = df[df.patient_id  == patient_with_most_images]\n",
    "print(patient_with_most_images_entries)"
   ]
  },
  {
   "cell_type": "code",
   "execution_count": null,
   "id": "361d2fcd",
   "metadata": {},
   "outputs": [],
   "source": []
  },
  {
   "cell_type": "code",
   "execution_count": 15,
   "id": "cbd67d11fb95b117",
   "metadata": {
    "ExecuteTime": {
     "end_time": "2024-10-23T18:47:31.169229Z",
     "start_time": "2024-10-23T18:47:30.980230Z"
    }
   },
   "outputs": [
    {
     "name": "stdout",
     "output_type": "stream",
     "text": [
      "Unique patients: 1042\n",
      "\n",
      "Positive patient images: 393\n",
      "Unique patients with positive images: 259\n",
      "\n",
      "Negative patient images: 400666\n",
      "Unique patients with negative images: 1041\n"
     ]
    }
   ],
   "source": [
    "df_positive = df[df[\"target\"] == 1].reset_index(drop=True)\n",
    "df_negative = df[df[\"target\"] == 0].reset_index(drop=True)\n",
    "\n",
    "print(\"Unique patients:\",  df[\"patient_id\"].unique().shape[0])\n",
    "print()\n",
    "\n",
    "print(\"Positive patient images:\", df_positive.shape[0])\n",
    "print(\"Unique patients with positive images:\",  df_positive[\"patient_id\"].unique().shape[0])\n",
    "print()\n",
    "\n",
    "print(\"Negative patient images:\", df_negative.shape[0])\n",
    "print(\"Unique patients with negative images:\",  df_negative[\"patient_id\"].unique().shape[0])"
   ]
  },
  {
   "cell_type": "code",
   "execution_count": 16,
   "id": "df418174",
   "metadata": {},
   "outputs": [
    {
     "name": "stdout",
     "output_type": "stream",
     "text": [
      "Examples:\n",
      "    Total: 401059\n",
      "    Positive: 393 (0.10% of total)\n",
      "\n"
     ]
    }
   ],
   "source": [
    "neg, pos = df[\"target\"].value_counts()\n",
    "total = neg + pos\n",
    "print('Examples:\\n    Total: {}\\n    Positive: {} ({:.2f}% of total)\\n'.format(\n",
    "    total, pos, 100 * pos / total)\n",
    "      )"
   ]
  },
  {
   "cell_type": "code",
   "execution_count": 17,
   "id": "890bcc0e",
   "metadata": {
    "ExecuteTime": {
     "end_time": "2024-10-23T18:47:31.215230Z",
     "start_time": "2024-10-23T18:47:31.170230Z"
    }
   },
   "outputs": [
    {
     "name": "stdout",
     "output_type": "stream",
     "text": [
      "Reduced dataset shape: (3144, 55) 393 (788,)\n"
     ]
    },
    {
     "data": {
      "text/html": [
       "<div>\n",
       "<style scoped>\n",
       "    .dataframe tbody tr th:only-of-type {\n",
       "        vertical-align: middle;\n",
       "    }\n",
       "\n",
       "    .dataframe tbody tr th {\n",
       "        vertical-align: top;\n",
       "    }\n",
       "\n",
       "    .dataframe thead th {\n",
       "        text-align: right;\n",
       "    }\n",
       "</style>\n",
       "<table border=\"1\" class=\"dataframe\">\n",
       "  <thead>\n",
       "    <tr style=\"text-align: right;\">\n",
       "      <th></th>\n",
       "      <th>isic_id</th>\n",
       "      <th>target</th>\n",
       "      <th>patient_id</th>\n",
       "      <th>age_approx</th>\n",
       "      <th>sex</th>\n",
       "      <th>anatom_site_general</th>\n",
       "      <th>clin_size_long_diam_mm</th>\n",
       "      <th>image_type</th>\n",
       "      <th>tbp_tile_type</th>\n",
       "      <th>tbp_lv_A</th>\n",
       "      <th>...</th>\n",
       "      <th>iddx_full</th>\n",
       "      <th>iddx_1</th>\n",
       "      <th>iddx_2</th>\n",
       "      <th>iddx_3</th>\n",
       "      <th>iddx_4</th>\n",
       "      <th>iddx_5</th>\n",
       "      <th>mel_mitotic_index</th>\n",
       "      <th>mel_thick_mm</th>\n",
       "      <th>tbp_lv_dnn_lesion_confidence</th>\n",
       "      <th>file_path</th>\n",
       "    </tr>\n",
       "  </thead>\n",
       "  <tbody>\n",
       "    <tr>\n",
       "      <th>0</th>\n",
       "      <td>ISIC_0082829</td>\n",
       "      <td>1</td>\n",
       "      <td>IP_3249371</td>\n",
       "      <td>80.0</td>\n",
       "      <td>female</td>\n",
       "      <td>anterior torso</td>\n",
       "      <td>9.27</td>\n",
       "      <td>TBP tile: close-up</td>\n",
       "      <td>3D: XP</td>\n",
       "      <td>18.093368</td>\n",
       "      <td>...</td>\n",
       "      <td>Malignant::Malignant epidermal proliferations:...</td>\n",
       "      <td>Malignant</td>\n",
       "      <td>Malignant epidermal proliferations</td>\n",
       "      <td>Squamous cell carcinoma in situ</td>\n",
       "      <td>NaN</td>\n",
       "      <td>NaN</td>\n",
       "      <td>NaN</td>\n",
       "      <td>NaN</td>\n",
       "      <td>72.211683</td>\n",
       "      <td>data/train-image/image//ISIC_0082829.jpg</td>\n",
       "    </tr>\n",
       "    <tr>\n",
       "      <th>1</th>\n",
       "      <td>ISIC_0096034</td>\n",
       "      <td>1</td>\n",
       "      <td>IP_6723298</td>\n",
       "      <td>75.0</td>\n",
       "      <td>male</td>\n",
       "      <td>head/neck</td>\n",
       "      <td>3.88</td>\n",
       "      <td>TBP tile: close-up</td>\n",
       "      <td>3D: white</td>\n",
       "      <td>26.187010</td>\n",
       "      <td>...</td>\n",
       "      <td>Malignant::Malignant adnexal epithelial prolif...</td>\n",
       "      <td>Malignant</td>\n",
       "      <td>Malignant adnexal epithelial proliferations - ...</td>\n",
       "      <td>Basal cell carcinoma</td>\n",
       "      <td>Basal cell carcinoma, Nodular</td>\n",
       "      <td>NaN</td>\n",
       "      <td>NaN</td>\n",
       "      <td>NaN</td>\n",
       "      <td>94.559590</td>\n",
       "      <td>data/train-image/image//ISIC_0096034.jpg</td>\n",
       "    </tr>\n",
       "    <tr>\n",
       "      <th>2</th>\n",
       "      <td>ISIC_0104229</td>\n",
       "      <td>1</td>\n",
       "      <td>IP_9057861</td>\n",
       "      <td>80.0</td>\n",
       "      <td>male</td>\n",
       "      <td>anterior torso</td>\n",
       "      <td>6.55</td>\n",
       "      <td>TBP tile: close-up</td>\n",
       "      <td>3D: white</td>\n",
       "      <td>33.480140</td>\n",
       "      <td>...</td>\n",
       "      <td>Malignant::Malignant adnexal epithelial prolif...</td>\n",
       "      <td>Malignant</td>\n",
       "      <td>Malignant adnexal epithelial proliferations - ...</td>\n",
       "      <td>Basal cell carcinoma</td>\n",
       "      <td>Basal cell carcinoma, Nodular</td>\n",
       "      <td>NaN</td>\n",
       "      <td>NaN</td>\n",
       "      <td>NaN</td>\n",
       "      <td>66.196170</td>\n",
       "      <td>data/train-image/image//ISIC_0104229.jpg</td>\n",
       "    </tr>\n",
       "    <tr>\n",
       "      <th>3</th>\n",
       "      <td>ISIC_0119495</td>\n",
       "      <td>1</td>\n",
       "      <td>IP_6856511</td>\n",
       "      <td>60.0</td>\n",
       "      <td>male</td>\n",
       "      <td>upper extremity</td>\n",
       "      <td>5.27</td>\n",
       "      <td>TBP tile: close-up</td>\n",
       "      <td>3D: white</td>\n",
       "      <td>25.872050</td>\n",
       "      <td>...</td>\n",
       "      <td>Malignant::Malignant epidermal proliferations:...</td>\n",
       "      <td>Malignant</td>\n",
       "      <td>Malignant epidermal proliferations</td>\n",
       "      <td>Squamous cell carcinoma, Invasive</td>\n",
       "      <td>NaN</td>\n",
       "      <td>NaN</td>\n",
       "      <td>NaN</td>\n",
       "      <td>NaN</td>\n",
       "      <td>99.991270</td>\n",
       "      <td>data/train-image/image//ISIC_0119495.jpg</td>\n",
       "    </tr>\n",
       "    <tr>\n",
       "      <th>4</th>\n",
       "      <td>ISIC_0157834</td>\n",
       "      <td>1</td>\n",
       "      <td>IP_3927284</td>\n",
       "      <td>55.0</td>\n",
       "      <td>male</td>\n",
       "      <td>posterior torso</td>\n",
       "      <td>5.29</td>\n",
       "      <td>TBP tile: close-up</td>\n",
       "      <td>3D: white</td>\n",
       "      <td>30.966662</td>\n",
       "      <td>...</td>\n",
       "      <td>Malignant::Malignant adnexal epithelial prolif...</td>\n",
       "      <td>Malignant</td>\n",
       "      <td>Malignant adnexal epithelial proliferations - ...</td>\n",
       "      <td>Basal cell carcinoma</td>\n",
       "      <td>Basal cell carcinoma, Superficial</td>\n",
       "      <td>NaN</td>\n",
       "      <td>NaN</td>\n",
       "      <td>NaN</td>\n",
       "      <td>99.960846</td>\n",
       "      <td>data/train-image/image//ISIC_0157834.jpg</td>\n",
       "    </tr>\n",
       "  </tbody>\n",
       "</table>\n",
       "<p>5 rows × 56 columns</p>\n",
       "</div>"
      ],
      "text/plain": [
       "        isic_id  target  patient_id  age_approx     sex anatom_site_general  \\\n",
       "0  ISIC_0082829       1  IP_3249371        80.0  female      anterior torso   \n",
       "1  ISIC_0096034       1  IP_6723298        75.0    male           head/neck   \n",
       "2  ISIC_0104229       1  IP_9057861        80.0    male      anterior torso   \n",
       "3  ISIC_0119495       1  IP_6856511        60.0    male     upper extremity   \n",
       "4  ISIC_0157834       1  IP_3927284        55.0    male     posterior torso   \n",
       "\n",
       "   clin_size_long_diam_mm          image_type tbp_tile_type   tbp_lv_A  ...  \\\n",
       "0                    9.27  TBP tile: close-up        3D: XP  18.093368  ...   \n",
       "1                    3.88  TBP tile: close-up     3D: white  26.187010  ...   \n",
       "2                    6.55  TBP tile: close-up     3D: white  33.480140  ...   \n",
       "3                    5.27  TBP tile: close-up     3D: white  25.872050  ...   \n",
       "4                    5.29  TBP tile: close-up     3D: white  30.966662  ...   \n",
       "\n",
       "                                           iddx_full     iddx_1  \\\n",
       "0  Malignant::Malignant epidermal proliferations:...  Malignant   \n",
       "1  Malignant::Malignant adnexal epithelial prolif...  Malignant   \n",
       "2  Malignant::Malignant adnexal epithelial prolif...  Malignant   \n",
       "3  Malignant::Malignant epidermal proliferations:...  Malignant   \n",
       "4  Malignant::Malignant adnexal epithelial prolif...  Malignant   \n",
       "\n",
       "                                              iddx_2  \\\n",
       "0                 Malignant epidermal proliferations   \n",
       "1  Malignant adnexal epithelial proliferations - ...   \n",
       "2  Malignant adnexal epithelial proliferations - ...   \n",
       "3                 Malignant epidermal proliferations   \n",
       "4  Malignant adnexal epithelial proliferations - ...   \n",
       "\n",
       "                              iddx_3                             iddx_4  \\\n",
       "0    Squamous cell carcinoma in situ                                NaN   \n",
       "1               Basal cell carcinoma      Basal cell carcinoma, Nodular   \n",
       "2               Basal cell carcinoma      Basal cell carcinoma, Nodular   \n",
       "3  Squamous cell carcinoma, Invasive                                NaN   \n",
       "4               Basal cell carcinoma  Basal cell carcinoma, Superficial   \n",
       "\n",
       "   iddx_5  mel_mitotic_index  mel_thick_mm  tbp_lv_dnn_lesion_confidence  \\\n",
       "0     NaN                NaN           NaN                     72.211683   \n",
       "1     NaN                NaN           NaN                     94.559590   \n",
       "2     NaN                NaN           NaN                     66.196170   \n",
       "3     NaN                NaN           NaN                     99.991270   \n",
       "4     NaN                NaN           NaN                     99.960846   \n",
       "\n",
       "                                  file_path  \n",
       "0  data/train-image/image//ISIC_0082829.jpg  \n",
       "1  data/train-image/image//ISIC_0096034.jpg  \n",
       "2  data/train-image/image//ISIC_0104229.jpg  \n",
       "3  data/train-image/image//ISIC_0119495.jpg  \n",
       "4  data/train-image/image//ISIC_0157834.jpg  \n",
       "\n",
       "[5 rows x 56 columns]"
      ]
     },
     "execution_count": 17,
     "metadata": {},
     "output_type": "execute_result"
    }
   ],
   "source": [
    "# Imbalanced dataset fix\n",
    "\n",
    "df = pd.concat([df_positive, df_negative.iloc[:df_positive.shape[0]*7, :]])  \n",
    "print(\"Reduced dataset shape:\", df.shape, df.target.sum(), df[\"patient_id\"].unique().shape)\n",
    "\n",
    "df['file_path'] = df['isic_id'].apply(get_train_file_path)\n",
    "\n",
    "# df = df[ df[\"file_path\"].isin(train_images) ].reset_index(drop=True)\n",
    "\n",
    "df.head()"
   ]
  },
  {
   "cell_type": "code",
   "execution_count": 18,
   "id": "d6080202dd229c21",
   "metadata": {
    "ExecuteTime": {
     "end_time": "2024-10-23T18:47:31.231226Z",
     "start_time": "2024-10-23T18:47:31.216229Z"
    }
   },
   "outputs": [
    {
     "name": "stdout",
     "output_type": "stream",
     "text": [
      "Number of unique patients after balancing:  788\n"
     ]
    }
   ],
   "source": [
    "print(\"Number of unique patients after balancing: \", df[\"patient_id\"].nunique())"
   ]
  },
  {
   "cell_type": "code",
   "execution_count": 19,
   "id": "3b78a46923850c84",
   "metadata": {
    "ExecuteTime": {
     "end_time": "2024-10-23T18:47:31.373229Z",
     "start_time": "2024-10-23T18:47:31.233230Z"
    }
   },
   "outputs": [
    {
     "data": {
      "image/png": "[encoded data removed]",
      "text/plain": [
       "<Figure size 500x500 with 1 Axes>"
      ]
     },
     "metadata": {},
     "output_type": "display_data"
    }
   ],
   "source": [
    "name = ['Benign', 'Malignant']\n",
    "\n",
    "plt.figure(figsize = (5, 5))\n",
    "plt.pie(df.target.value_counts(normalize = True), autopct = '%1.1f%%', startangle = 90, wedgeprops = dict(width = 0.3), \n",
    "        labeldistance = 1.2, radius = 1)\n",
    "plt.title(f'Total Target Distribution', color = 'black', fontsize = 15)\n",
    "plt.legend(name,)\n",
    "\n",
    "plt.show()"
   ]
  },
  {
   "cell_type": "code",
   "execution_count": 20,
   "id": "a21d8c1738cc0ed5",
   "metadata": {
    "ExecuteTime": {
     "end_time": "2024-10-23T18:47:31.389229Z",
     "start_time": "2024-10-23T18:47:31.375230Z"
    }
   },
   "outputs": [
    {
     "name": "stdout",
     "output_type": "stream",
     "text": [
      "[3144, 3091, 3081, 2901, 2745, 2745, 2591, 100, 25, 24, 0, 0, 0, 0, 0, 0, 0, 0, 0, 0, 0, 0, 0, 0, 0, 0, 0, 0, 0, 0, 0, 0, 0, 0, 0, 0, 0, 0, 0, 0, 0, 0, 0, 0, 0, 0, 0, 0, 0, 0, 0, 0, 0, 0, 0, 0]\n"
     ]
    }
   ],
   "source": [
    "missing_values_count = df.isnull().sum()\n",
    "print(sorted(missing_values_count, reverse=True))"
   ]
  },
  {
   "cell_type": "code",
   "execution_count": 21,
   "id": "8e3891b8a888b9d",
   "metadata": {
    "ExecuteTime": {
     "end_time": "2024-10-23T18:47:31.404230Z",
     "start_time": "2024-10-23T18:47:31.391229Z"
    }
   },
   "outputs": [],
   "source": [
    "data_transforms = {\n",
    "    \"train\": A.Compose([\n",
    "        A.Resize(CONFIG['img_size'], CONFIG['img_size']),\n",
    "        A.RandomRotate90(p=0.5),\n",
    "        A.Flip(p=0.5),\n",
    "        A.Downscale(p=0.25),\n",
    "        A.ShiftScaleRotate(shift_limit=0.1, \n",
    "                           scale_limit=0.15, \n",
    "                           rotate_limit=60, \n",
    "                           p=0.5),\n",
    "        A.HueSaturationValue(\n",
    "                hue_shift_limit=0.2, \n",
    "                sat_shift_limit=0.2, \n",
    "                val_shift_limit=0.2, \n",
    "                p=0.5\n",
    "            ),\n",
    "        A.RandomBrightnessContrast(\n",
    "                brightness_limit=(-0.1,0.1), \n",
    "                contrast_limit=(-0.1, 0.1), \n",
    "                p=0.5\n",
    "            ),\n",
    "        A.Normalize(\n",
    "                mean=[0.485, 0.456, 0.406], \n",
    "                std=[0.229, 0.224, 0.225], \n",
    "                max_pixel_value=255.0, \n",
    "                p=1.0\n",
    "            ),\n",
    "        # ToTensorV2()\n",
    "    ], p=1.),\n",
    "    \n",
    "    \"valid\": A.Compose([\n",
    "        A.Resize(CONFIG['img_size'], CONFIG['img_size']),\n",
    "        A.Normalize(\n",
    "                mean=[0.485, 0.456, 0.406], \n",
    "                std=[0.229, 0.224, 0.225], \n",
    "                max_pixel_value=255.0, \n",
    "                p=1.0\n",
    "            ),\n",
    "        # ToTensorV2()\n",
    "    ], p=1.)\n",
    "}\n"
   ]
  },
  {
   "cell_type": "code",
   "execution_count": 22,
   "id": "11d67e408bea3fb7",
   "metadata": {
    "ExecuteTime": {
     "end_time": "2024-10-23T18:47:31.420230Z",
     "start_time": "2024-10-23T18:47:31.406230Z"
    }
   },
   "outputs": [],
   "source": [
    "def aug_fn(image, img_size, train):\n",
    "    data = {\"image\":image}\n",
    "    aug_data = data_transforms(**data[\"train\" if train else \"valid\"])\n",
    "    aug_img = aug_data[\"image\"]\n",
    "    aug_img = tf.cast(aug_img/255.0, tf.float32)\n",
    "    return tf.image.resize(aug_img, size=[img_size, img_size])"
   ]
  },
  {
   "cell_type": "code",
   "execution_count": 23,
   "id": "933c0d89859578ad",
   "metadata": {
    "ExecuteTime": {
     "end_time": "2024-10-23T18:47:31.436229Z",
     "start_time": "2024-10-23T18:47:31.422230Z"
    }
   },
   "outputs": [],
   "source": [
    "def process_data(image, img_size):\n",
    "    aug_img = tf.numpy_function(func=aug_fn, inp=[image, img_size], Tout=tf.float32)\n",
    "    return aug_img"
   ]
  },
  {
   "cell_type": "code",
   "execution_count": 24,
   "id": "fd5a77be29d925ac",
   "metadata": {
    "ExecuteTime": {
     "end_time": "2024-10-23T18:47:31.452229Z",
     "start_time": "2024-10-23T18:47:31.439233Z"
    }
   },
   "outputs": [],
   "source": [
    "# Manual loading, too slow\n",
    "# x_train = []\n",
    "# y_train = []\n",
    "# with h5py.File('ISIC2024_SkinCancerDetection/data/train-image.hdf5', 'r') as f:\n",
    "#        keys = list(f.keys())\n",
    "#        for key in keys:\n",
    "#            data = f[key]\n",
    "#            x_train.append(data[()].decode('latin-1'))\n",
    "#            \n",
    "#            # x_train.append(f[key][:]) \n",
    "#            y_train.append(key)\n",
    "#               \n",
    "# print(len(x_train), len(y_train))\n",
    "# print(x_train[:5], y_train[:5])"
   ]
  },
  {
   "cell_type": "code",
   "execution_count": 25,
   "id": "d1609973c79f29c",
   "metadata": {
    "ExecuteTime": {
     "end_time": "2024-10-23T18:47:31.468227Z",
     "start_time": "2024-10-23T18:47:31.454231Z"
    }
   },
   "outputs": [],
   "source": [
    "training_validation_hdf5 = h5py.File(f\"{ROOT_DIR}/train-image.hdf5\", 'r')"
   ]
  },
  {
   "cell_type": "code",
   "execution_count": 26,
   "id": "98588b5f4a13f7b2",
   "metadata": {
    "ExecuteTime": {
     "end_time": "2024-10-23T18:47:31.785228Z",
     "start_time": "2024-10-23T18:47:31.470230Z"
    }
   },
   "outputs": [
    {
     "name": "stdout",
     "output_type": "stream",
     "text": [
      "First image shape: (129, 129, 3).\n"
     ]
    },
    {
     "data": {
      "image/png": "[encoded data removed]",
      "text/plain": [
       "<Figure size 1200x1000 with 1 Axes>"
      ]
     },
     "metadata": {},
     "output_type": "display_data"
    }
   ],
   "source": [
    "# Example\n",
    "\n",
    "isic_id = df.isic_id.iloc[10]\n",
    "\n",
    "byte_string = training_validation_hdf5[isic_id][()]\n",
    "# print(f\"Byte String: {byte_string[:20]}....\")\n",
    "\n",
    "nparr = np.frombuffer(byte_string, np.uint8)\n",
    "\n",
    "image = cv2.imdecode(nparr, cv2.IMREAD_COLOR)[...,::-1] # reverse last axis for bgr -> rgb\n",
    "#print(f\"Image: {image}\")\n",
    "\n",
    "plt.imshow(image);\n",
    "print(f\"First image shape: {image.shape}.\")"
   ]
  },
  {
   "cell_type": "code",
   "execution_count": 27,
   "id": "ee95d87dcf594d05",
   "metadata": {
    "ExecuteTime": {
     "end_time": "2024-10-23T18:47:32.556229Z",
     "start_time": "2024-10-23T18:47:31.787231Z"
    }
   },
   "outputs": [
    {
     "name": "stdout",
     "output_type": "stream",
     "text": [
      "Loaded 3144 images.\n"
     ]
    }
   ],
   "source": [
    "# Load all images\n",
    "\n",
    "data_ids = df.isic_id.values\n",
    "\n",
    "images = [None]*len(data_ids)\n",
    "for i, isic_id in enumerate(data_ids):\n",
    "    images[i] = training_validation_hdf5[isic_id][()]\n",
    "\n",
    "print(f\"Loaded {len(images)} images.\")"
   ]
  },
  {
   "cell_type": "code",
   "execution_count": 28,
   "id": "2e658777",
   "metadata": {
    "ExecuteTime": {
     "end_time": "2024-10-23T18:47:32.571230Z",
     "start_time": "2024-10-23T18:47:32.557230Z"
    }
   },
   "outputs": [],
   "source": [
    "mg = []\n",
    "\n",
    "# import concurrent.futures\n",
    "# from PIL import Image\n",
    "\n",
    "# def load_and_convert_image(image_path):\n",
    "#     # img = cv2.imread(image_path)\n",
    "#     # img = cv2.cvtColor(img, cv2.COLOR_BGR2RGB)\n",
    "#     # return img\n",
    "#     with Image.open(image_path) as img:\n",
    "#         img = img.convert('RGB')\n",
    "#         img = img.resize((CONFIG[\"img_size\"], CONFIG[\"img_size\"]))\n",
    "#         return np.array(img)\n",
    "\n",
    "# with concurrent.futures.ThreadPoolExecutor() as executor:\n",
    "#     mg = list(executor.map(load_and_convert_image, train_images))\n",
    "\n",
    "# print(f\"Loaded {len(mg)} images.\")\n",
    "# print(f\"First image shape: {mg[0].shape}.\")\n",
    "# print(f\"First image: {mg[0]}.\")"
   ]
  },
  {
   "cell_type": "code",
   "execution_count": 29,
   "id": "4ef05ab2db516421",
   "metadata": {
    "ExecuteTime": {
     "end_time": "2024-10-23T18:47:32.587228Z",
     "start_time": "2024-10-23T18:47:32.576228Z"
    }
   },
   "outputs": [],
   "source": [
    "# hist = [cv2.calcHist([cv2.imdecode(np.frombuffer(img, np.uint8), cv2.IMREAD_COLOR)], [0], None, [256], [0, 256]) for img in images]\n",
    "# hist = np.array(hist).squeeze()\n",
    "# plt.plot(hist[0], label=\"Blue\")"
   ]
  },
  {
   "cell_type": "code",
   "execution_count": 30,
   "id": "3c586dcb09715b40",
   "metadata": {
    "ExecuteTime": {
     "end_time": "2024-10-23T18:47:32.603226Z",
     "start_time": "2024-10-23T18:47:32.589230Z"
    }
   },
   "outputs": [],
   "source": [
    "# Based on https://www.kaggle.com/code/awsaf49/isic2024-kerascv-starter\n",
    "\n",
    "def decoder(only_image=False, with_labels=True, target_size=(256, 256)):\n",
    "    \n",
    "    def decode_only_image(file_bytes, label):\n",
    "        \n",
    "        image = tf.io.decode_jpeg(file_bytes)\n",
    "        \n",
    "        image = tf.image.resize(image, size=target_size, method=\"area\")\n",
    "        \n",
    "        image = tf.cast(image, tf.float32)\n",
    "        image /= 255.0\n",
    "  \n",
    "        image = tf.reshape(image, [*target_size, 3])\n",
    "        \n",
    "        return image, label\n",
    "    \n",
    "    def decode_image(inp):\n",
    "        \n",
    "        file_bytes = inp[\"images\"]\n",
    "        image = tf.io.decode_jpeg(file_bytes)\n",
    "        \n",
    "        image = tf.image.resize(image, size=target_size, method=\"area\")\n",
    "        \n",
    "        image = tf.cast(image, tf.float32)\n",
    "        image /= 255.0\n",
    "  \n",
    "        image = tf.reshape(image, [*target_size, 3])\n",
    "        \n",
    "        inp[\"images\"] = image\n",
    "        return inp\n",
    "    \n",
    "    \n",
    "    def decode_label(label, num_classes):\n",
    "        label = tf.cast(label, tf.float32)\n",
    "        label = tf.reshape(label, [num_classes])\n",
    "        return label\n",
    "    \n",
    "  \n",
    "    def decode_with_labels(inp, label=None):\n",
    "        inp = decode_image(inp)\n",
    "        label = decode_label(label, 1)\n",
    "        return inp, label\n",
    "    \n",
    "    if only_image:\n",
    "        return decode_only_image\n",
    "    return decode_with_labels if with_labels else decode_image\n",
    "\n",
    "multi_decoder = decoder(with_labels=False, target_size=(CONFIG[\"img_size\"], CONFIG[\"img_size\"]))\n",
    "image_decoder = decoder(only_image=True, with_labels=False, target_size=(CONFIG[\"img_size\"], CONFIG[\"img_size\"]))"
   ]
  },
  {
   "cell_type": "code",
   "execution_count": null,
   "id": "0e6aba03",
   "metadata": {},
   "outputs": [],
   "source": []
  },
  {
   "cell_type": "code",
   "execution_count": 31,
   "id": "376689eb06cd0c2a",
   "metadata": {
    "ExecuteTime": {
     "end_time": "2024-10-23T18:47:32.618227Z",
     "start_time": "2024-10-23T18:47:32.605230Z"
    }
   },
   "outputs": [],
   "source": [
    "# Too slow\n",
    "# decoded_images = [cv2.imdecode(np.frombuffer(img, np.uint8), cv2.IMREAD_COLOR)[...,::-1] for img in images]"
   ]
  },
  {
   "cell_type": "code",
   "execution_count": 32,
   "id": "e267213acbd77be3",
   "metadata": {
    "ExecuteTime": {
     "end_time": "2024-10-23T18:47:32.633230Z",
     "start_time": "2024-10-23T18:47:32.619230Z"
    }
   },
   "outputs": [],
   "source": [
    "# Multimodal dataset\n",
    "\n",
    "# inp = {\n",
    "#     \"images\": images, \n",
    "#     \"features\": features\n",
    "#        }\n",
    "\n",
    "# slices = (inp, df.target.values)\n",
    "\n",
    "# ds = tf.data.Dataset.from_tensor_slices(slices)\n",
    " \n",
    "# ds = tf.data.Dataset.from_tensor_slices(images, df.target.values)\n",
    "# ds = ds.cache()\n",
    "# ds = ds.map(decoder, num_parallel_calls=AUTOTUNE)\n",
    "\n",
    "# ds = ds.shuffle(1024, seed=seed)\n",
    "# opt = tf.data.Options()\n",
    "# opt.deterministic = False\n",
    "# ds = ds.with_options(opt)\n",
    "\n",
    "# ds = ds.batch(CONFIG['train_batch_size'], drop_remainder=True)\n",
    "\n",
    "# ds = ds.map(augment_fn, num_parallel_calls=AUTOTUNE)\n",
    "# ds = ds.prefetch(AUTOTUNE)"
   ]
  },
  {
   "cell_type": "code",
   "execution_count": 33,
   "id": "c9a6a1dd5c09741",
   "metadata": {
    "ExecuteTime": {
     "end_time": "2024-10-23T18:47:32.649229Z",
     "start_time": "2024-10-23T18:47:32.634229Z"
    }
   },
   "outputs": [],
   "source": [
    "# ds.cardinality()"
   ]
  },
  {
   "cell_type": "code",
   "execution_count": 34,
   "id": "df9cceac943f4b1e",
   "metadata": {
    "ExecuteTime": {
     "end_time": "2024-10-23T18:47:32.665230Z",
     "start_time": "2024-10-23T18:47:32.651230Z"
    }
   },
   "outputs": [],
   "source": [
    "# Manual decoding, too slow\n",
    "\n",
    "# decoded_images = []\n",
    "# target_size=(CONFIG[\"img_size\"], CONFIG[\"img_size\"])\n",
    "# \n",
    "# for file_bytes in images:\n",
    "#     with tf.device(\"/CPU:0\"):\n",
    "#         image = tf.io.decode_jpeg(file_bytes)\n",
    "# \n",
    "#         image = tf.image.resize(image, size=target_size, method=\"area\")\n",
    "# \n",
    "#         image = tf.cast(image, tf.float32)\n",
    "#         image /= 255.0\n",
    "# \n",
    "#         image = tf.reshape(image, [*target_size, 3])\n",
    "# \n",
    "#         decoded_images.append(image)\n",
    "# \n",
    "# decoded_images = tf.stack(decoded_images)\n",
    "# \n",
    "# decoded_images_np = decoded_images.numpy()\n",
    "# \n",
    "# \n",
    "# print(decoded_images_np.shape)"
   ]
  },
  {
   "cell_type": "code",
   "execution_count": 54,
   "id": "67d799dfd9b551a8",
   "metadata": {
    "ExecuteTime": {
     "end_time": "2024-10-23T18:47:32.681227Z",
     "start_time": "2024-10-23T18:47:32.667228Z"
    }
   },
   "outputs": [],
   "source": [
    "# Hyperparameters \n",
    "\n",
    "# activation_func = 'gelu'\n",
    "activation_func = 'relu'\n",
    "# activation_func = 'mish'\n",
    "batch_size = 16\n",
    "num_epochs = 20\n",
    "learning_rate = 3e-4\n",
    "criterion = tf.keras.losses.BinaryCrossentropy()\n",
    "# criterion = tf.keras.losses.MeanAbsoluteError()\n",
    "# criterion = tf.keras.losses.CategoricalCrossentropy(label_smoothing=0.1)\n",
    "\n",
    "optimizer = tf.keras.optimizers.Adam(learning_rate=learning_rate, epsilon=1e-5)\n",
    "\n",
    "initializer = tf.keras.initializers.GlorotUniform(seed=CONFIG[\"seed\"])"
   ]
  },
  {
   "cell_type": "code",
   "execution_count": 36,
   "id": "1052ea6f99df5034",
   "metadata": {
    "ExecuteTime": {
     "end_time": "2024-10-23T18:47:49.551321Z",
     "start_time": "2024-10-23T18:47:32.682229Z"
    }
   },
   "outputs": [
    {
     "name": "stdout",
     "output_type": "stream",
     "text": [
      "Training dataset size: 176\n",
      "Validation dataset size: 19\n"
     ]
    }
   ],
   "source": [
    "# Single image dataset\n",
    "\n",
    "dataset = tf.data.Dataset.from_tensor_slices((images, df.target.values))\n",
    "\n",
    "ds_size = dataset.cardinality().numpy()\n",
    "\n",
    "dataset = dataset.cache()\n",
    "\n",
    "dataset = dataset.map(image_decoder, num_parallel_calls=AUTOTUNE)\n",
    "\n",
    "# dataset = dataset.shuffle(buffer_size=ds_size)\n",
    "\n",
    "# Split the dataset into training and validation sets\n",
    "train_ds, valid_ds = tf.keras.utils.split_dataset(dataset, left_size=0.9, shuffle=True, seed=42)\n",
    "\n",
    "# train_size = int(0.8 * ds_size)\n",
    "# train_ds = dataset.take(train_size)\n",
    "# valid_ds = dataset.skip(train_size)\n",
    "\n",
    "# Apply batching\n",
    "train_ds = train_ds.batch(batch_size=batch_size, drop_remainder=True)\n",
    "valid_ds = valid_ds.batch(batch_size=batch_size, drop_remainder=True)\n",
    "\n",
    "# Apply augmentation\n",
    "# train_ds = train_ds.map(augment_fn, num_parallel_calls=AUTOTUNE)\n",
    "\n",
    "# Prefetch to improve performance\n",
    "train_ds = train_ds.prefetch(buffer_size=AUTOTUNE)\n",
    "valid_ds = valid_ds.prefetch(buffer_size=AUTOTUNE)\n",
    "\n",
    "print(f\"Training dataset size: {train_ds.cardinality().numpy()}\")\n",
    "print(f\"Validation dataset size: {valid_ds.cardinality().numpy()}\")"
   ]
  },
  {
   "cell_type": "code",
   "execution_count": 37,
   "id": "320fa42d",
   "metadata": {
    "ExecuteTime": {
     "end_time": "2024-10-23T18:47:49.553323Z",
     "start_time": "2024-10-23T18:47:49.553323Z"
    }
   },
   "outputs": [
    {
     "name": "stdout",
     "output_type": "stream",
     "text": [
      "Number of duplicates: 0\n"
     ]
    }
   ],
   "source": [
    "# Sanity check\n",
    "\n",
    "train_data_check, train_labels = [], []\n",
    "valid_data_check, valid_labels = [], []\n",
    "\n",
    "for img, label in train_ds.unbatch().as_numpy_iterator():\n",
    "    train_data_check.append(img)\n",
    "    train_labels.append(label)\n",
    "    \n",
    "for img, label in valid_ds.unbatch().as_numpy_iterator():\n",
    "    valid_data_check.append(img)\n",
    "    valid_labels.append(label)\n",
    "    \n",
    "duplicates = 0\n",
    "# Check for duplicates\n",
    "for train_img in train_data_check:\n",
    "    for valid_img in valid_data_check:\n",
    "        if np.array_equal(train_img, valid_img):\n",
    "            duplicates += 1\n",
    "            break\n",
    "\n",
    "print(f\"Number of duplicates: {duplicates}\")\n",
    "\n",
    "# del train_data_check, train_labels_check, valid_data_check, valid_labels_check"
   ]
  },
  {
   "cell_type": "code",
   "execution_count": 38,
   "id": "f0a3ee31",
   "metadata": {},
   "outputs": [
    {
     "name": "stdout",
     "output_type": "stream",
     "text": [
      "Average class probability in training set:   0.1239\n",
      "Average class probability in validation set: 0.1382\n"
     ]
    }
   ],
   "source": [
    "train_labels = np.array(train_labels)\n",
    "valid_labels = np.array(valid_labels)\n",
    "\n",
    "print(f'Average class probability in training set:   {train_labels.mean():.4f}')\n",
    "print(f'Average class probability in validation set: {valid_labels.mean():.4f}')"
   ]
  },
  {
   "cell_type": "code",
   "execution_count": 39,
   "id": "e9c740a3",
   "metadata": {},
   "outputs": [
    {
     "name": "stdout",
     "output_type": "stream",
     "text": [
      "tf.Tensor(349, shape=(), dtype=int64) tf.Tensor(42, shape=(), dtype=int64)\n"
     ]
    }
   ],
   "source": [
    "train_c = 0\n",
    "val_c = 0\n",
    "\n",
    "for batch in train_ds:\n",
    "    train_c += sum(batch[1])\n",
    "\n",
    "for batch in valid_ds:\n",
    "    val_c += sum(batch[1])\n",
    "\n",
    "print(train_c, val_c)"
   ]
  },
  {
   "cell_type": "code",
   "execution_count": 40,
   "id": "d6daf5ed",
   "metadata": {},
   "outputs": [],
   "source": [
    "METRICS = [\n",
    "      tf.keras.metrics.BinaryCrossentropy(name='cross entropy'),\n",
    "      tf.keras.metrics.MeanSquaredError(name='Brier score'),\n",
    "      tf.keras.metrics.TruePositives(name='tp'),\n",
    "      tf.keras.metrics.FalsePositives(name='fp'),\n",
    "      tf.keras.metrics.TrueNegatives(name='tn'),\n",
    "      tf.keras.metrics.FalseNegatives(name='fn'),\n",
    "      tf.keras.metrics.BinaryAccuracy(name='accuracy'),\n",
    "      tf.keras.metrics.Precision(name='precision'),\n",
    "      tf.keras.metrics.Recall(name='recall'),\n",
    "      tf.keras.metrics.AUC(name='auc'),\n",
    "      tf.keras.metrics.AUC(name='prc', curve='PR'),\n",
    "]"
   ]
  },
  {
   "cell_type": "code",
   "execution_count": 52,
   "id": "b11821a2",
   "metadata": {},
   "outputs": [],
   "source": [
    "def recall_m(y_true, y_pred):\n",
    "    y_true = tf.cast(y_true, tf.float32)    \n",
    "    y_pred = tf.cast(y_pred, tf.float32)\n",
    "    true_positives = K.sum(K.round(K.clip(y_true * y_pred, 0, 1)))\n",
    "    possible_positives = K.sum(K.round(K.clip(y_true, 0, 1)))\n",
    "    recall = true_positives / (possible_positives + K.epsilon())\n",
    "    return recall\n",
    "\n",
    "def precision_m(y_true, y_pred):\n",
    "    y_true = tf.cast(y_true, tf.float32)\n",
    "    y_pred = tf.cast(y_pred, tf.float32)\n",
    "    true_positives = K.sum(K.round(K.clip(y_true * y_pred, 0, 1)))\n",
    "    predicted_positives = K.sum(K.round(K.clip(y_pred, 0, 1)))\n",
    "    precision = true_positives / (predicted_positives + K.epsilon())\n",
    "    return precision\n",
    "\n",
    "def f1_m(y_true, y_pred):\n",
    "    y_true = tf.cast(y_true, tf.float32)\n",
    "    y_pred = tf.cast(y_pred, tf.float32)\n",
    "    precision = precision_m(y_true, y_pred)\n",
    "    recall = recall_m(y_true, y_pred)\n",
    "    return 2*((precision*recall)/(precision+recall+K.epsilon()))\n"
   ]
  },
  {
   "cell_type": "code",
   "execution_count": 53,
   "id": "66f66a3312c72691",
   "metadata": {},
   "outputs": [],
   "source": [
    "class Net(tf.keras.Model):\n",
    "    def __init__(self):\n",
    "        super(Net, self).__init__()\n",
    "        \n",
    "        #self.flatten_layer = keras.layers.Flatten(name=\"flatten\")\n",
    "\n",
    "        self.conv1 = tf.keras.layers.Conv2D(filters=8, kernel_size=(4, 4), \n",
    "                                            input_shape=(batch_size, 384, 384, 3),\n",
    "                                            activation=activation_func\n",
    "                                            )\n",
    "        self.pool1 = (tf.keras.layers.AveragePooling2D(pool_size=(2, 2), strides=(2, 2)))\n",
    "        \n",
    "        self.conv2 = tf.keras.layers.Conv2D(filters=16, kernel_size=(4, 4), \n",
    "                                            activation=activation_func, \n",
    "                                            # strides=(2, 2)\n",
    "                                            )\n",
    "        self.pool2 = (tf.keras.layers.AveragePooling2D(pool_size=(2, 2), strides=(2, 2)))\n",
    "        \n",
    "        self.conv3 = tf.keras.layers.Conv2D(filters=32, kernel_size=(4, 4),\n",
    "                                            activation=activation_func,\n",
    "                                            # strides=(2, 2)\n",
    "                                            )\n",
    "        self.pool3 = (tf.keras.layers.AveragePooling2D(pool_size=(2, 2), strides=(2, 2)))\n",
    "        \n",
    "        self.conv4 = tf.keras.layers.Conv2D(filters=64, kernel_size=(4, 4),\n",
    "                                            activation=activation_func\n",
    "                                            )\n",
    "        self.pool4 = (tf.keras.layers.AveragePooling2D(pool_size=(2, 2), strides=(2, 2)))\n",
    "        \n",
    "        self.conv5 = tf.keras.layers.Conv2D(filters=128, kernel_size=(4, 4),\n",
    "                                            activation=activation_func\n",
    "                                            )\n",
    "        self.pool5 = (tf.keras.layers.AveragePooling2D(pool_size=(2, 2), strides=(2, 2)))\n",
    "        \n",
    "        self.conv6 = tf.keras.layers.Conv2D(filters=256, kernel_size=(4, 4),\n",
    "                                            activation=activation_func\n",
    "                                            )\n",
    "        self.pool6 = (tf.keras.layers.AveragePooling2D(pool_size=(2, 2), strides=(2, 2)))\n",
    "        \n",
    "        self.conv7 = tf.keras.layers.Conv2D(filters=512, kernel_size=(4, 4),\n",
    "                                            activation=activation_func\n",
    "                                            )\n",
    "        self.pool7 = (tf.keras.layers.AveragePooling2D(pool_size=(2, 2), strides=(2, 2)))\n",
    "        \n",
    "        self.flatten = tf.keras.layers.Flatten()\n",
    "    \n",
    "\n",
    "        # self.feature_extractor = []\n",
    "        # for i in range(5):\n",
    "        #     self.hidden_layers.append(tf.keras.layers.Dense(2048, activation=activation_func))\n",
    "        #     self.hidden_layers.append(tf.keras.layers.Dropout(0.2))\n",
    "\n",
    "        self.hidden_layers = []\n",
    "        for i in range(1):\n",
    "            self.hidden_layers.append(tf.keras.layers.Dense(512, activation=activation_func))\n",
    "            self.hidden_layers.append(tf.keras.layers.Dropout(0.1))\n",
    "            self.hidden_layers.append(tf.keras.layers.BatchNormalization())\n",
    "\n",
    "\n",
    "        self.additional_layers = []\n",
    "        for i in range(1):\n",
    "            self.additional_layers.append(tf.keras.layers.Dense(256, activation=activation_func))\n",
    "            self.hidden_layers.append(tf.keras.layers.BatchNormalization())\n",
    "\n",
    "        self.output_layer = tf.keras.layers.Dense(1, \n",
    "                                                  activation='sigmoid',\n",
    "                                                #   bias_initializer=tf.keras.initializers.Constant(np.log([pos/neg]))\n",
    "                                                  )\n",
    "\n",
    "\n",
    "    def call(self, x):\n",
    "        #x = self.flatten_layer(x)\n",
    "        x = self.conv1(x)\n",
    "        x = self.pool1(x)\n",
    "        x = self.conv2(x)\n",
    "        x = self.pool2(x)\n",
    "        x = self.conv3(x)\n",
    "        x = self.pool3(x)\n",
    "        x = self.conv4(x)\n",
    "        x = self.pool4(x)\n",
    "        x = self.conv5(x)\n",
    "        x = self.pool5(x)\n",
    "        x = self.conv6(x)\n",
    "        x = self.pool6(x)\n",
    "        # x = self.conv7(x)\n",
    "        # x = self.pool7(x)\n",
    "\n",
    "        x = self.flatten(x)\n",
    "        \n",
    "        # for layer in self.feature_extractor:\n",
    "        #     x = layer(x)\n",
    "\n",
    "        for layer in self.hidden_layers:\n",
    "            x = layer(x)\n",
    "\n",
    "        for layer in self.additional_layers:\n",
    "            x = layer(x)\n",
    "\n",
    "        return self.output_layer(x)\n",
    "\n",
    "model = Net()"
   ]
  },
  {
   "cell_type": "code",
   "execution_count": 55,
   "id": "6a06b9f8",
   "metadata": {},
   "outputs": [],
   "source": [
    "#Callbacks\n",
    "\n",
    "callbacks = []\n",
    "callbacks.append(tf.keras.callbacks.TensorBoard(log_dir=f\"{ROOT_DIR}/logs\",\n",
    "                                                histogram_freq=0,\n",
    "                                                write_steps_per_second=True,\n",
    "                                                write_images=False,\n",
    "                                                )\n",
    "                 )\n",
    "\n",
    "callbacks.append(tf.keras.callbacks.ProgbarLogger())"
   ]
  },
  {
   "cell_type": "code",
   "execution_count": 56,
   "id": "5cfc0b73745ec707",
   "metadata": {},
   "outputs": [],
   "source": [
    "model.compile(optimizer=optimizer, loss=criterion, metrics=['accuracy',f1_m,precision_m, recall_m])"
   ]
  },
  {
   "cell_type": "code",
   "execution_count": 57,
   "id": "ec21a0858b9e1f64",
   "metadata": {},
   "outputs": [
    {
     "name": "stdout",
     "output_type": "stream",
     "text": [
      "Epoch 1/20\n",
      "\u001b[1m176/176\u001b[0m \u001b[32m━━━━━━━━━━━━━━━━━━━━\u001b[0m\u001b[37m\u001b[0m \u001b[1m78s\u001b[0m 423ms/step - accuracy: 0.8832 - f1_m: 0.0000e+00 - loss: 0.4307 - precision_m: 0.0000e+00 - recall_m: 0.0000e+00 - val_accuracy: 0.8618 - val_f1_m: 0.0000e+00 - val_loss: 0.3844 - val_precision_m: 0.0000e+00 - val_recall_m: 0.0000e+00\n",
      "Epoch 2/20\n",
      "\u001b[1m176/176\u001b[0m \u001b[32m━━━━━━━━━━━━━━━━━━━━\u001b[0m\u001b[37m\u001b[0m \u001b[1m73s\u001b[0m 412ms/step - accuracy: 0.8833 - f1_m: 0.0011 - loss: 0.3611 - precision_m: 0.0019 - recall_m: 7.7576e-04 - val_accuracy: 0.8816 - val_f1_m: 0.4526 - val_loss: 0.3200 - val_precision_m: 0.8947 - val_recall_m: 0.3158\n",
      "Epoch 3/20\n",
      "\u001b[1m176/176\u001b[0m \u001b[32m━━━━━━━━━━━━━━━━━━━━\u001b[0m\u001b[37m\u001b[0m \u001b[1m73s\u001b[0m 416ms/step - accuracy: 0.8884 - f1_m: 0.5782 - loss: 0.3118 - precision_m: 0.7252 - recall_m: 0.6204 - val_accuracy: 0.8849 - val_f1_m: 1.6810 - val_loss: 0.2940 - val_precision_m: 1.7895 - val_recall_m: 1.7368\n",
      "Epoch 4/20\n",
      "\u001b[1m176/176\u001b[0m \u001b[32m━━━━━━━━━━━━━━━━━━━━\u001b[0m\u001b[37m\u001b[0m \u001b[1m73s\u001b[0m 414ms/step - accuracy: 0.8946 - f1_m: 0.8483 - loss: 0.3046 - precision_m: 1.0733 - recall_m: 0.7806 - val_accuracy: 0.8947 - val_f1_m: 1.3427 - val_loss: 0.2959 - val_precision_m: 1.6316 - val_recall_m: 1.2632\n",
      "Epoch 5/20\n",
      "\u001b[1m176/176\u001b[0m \u001b[32m━━━━━━━━━━━━━━━━━━━━\u001b[0m\u001b[37m\u001b[0m \u001b[1m71s\u001b[0m 406ms/step - accuracy: 0.9030 - f1_m: 0.9574 - loss: 0.2756 - precision_m: 1.2533 - recall_m: 0.8804 - val_accuracy: 0.8882 - val_f1_m: 1.5126 - val_loss: 0.2913 - val_precision_m: 1.6842 - val_recall_m: 1.4737\n",
      "Epoch 6/20\n",
      "\u001b[1m176/176\u001b[0m \u001b[32m━━━━━━━━━━━━━━━━━━━━\u001b[0m\u001b[37m\u001b[0m \u001b[1m73s\u001b[0m 414ms/step - accuracy: 0.9026 - f1_m: 1.0147 - loss: 0.2696 - precision_m: 1.2879 - recall_m: 0.9624 - val_accuracy: 0.8849 - val_f1_m: 1.6810 - val_loss: 0.2883 - val_precision_m: 1.7895 - val_recall_m: 1.7368\n",
      "Epoch 7/20\n",
      "\u001b[1m176/176\u001b[0m \u001b[32m━━━━━━━━━━━━━━━━━━━━\u001b[0m\u001b[37m\u001b[0m \u001b[1m76s\u001b[0m 433ms/step - accuracy: 0.9023 - f1_m: 1.0216 - loss: 0.2756 - precision_m: 1.3613 - recall_m: 0.9383 - val_accuracy: 0.8882 - val_f1_m: 1.4389 - val_loss: 0.2921 - val_precision_m: 1.6842 - val_recall_m: 1.3684\n",
      "Epoch 8/20\n",
      "\u001b[1m176/176\u001b[0m \u001b[32m━━━━━━━━━━━━━━━━━━━━\u001b[0m\u001b[37m\u001b[0m \u001b[1m75s\u001b[0m 426ms/step - accuracy: 0.9006 - f1_m: 1.1169 - loss: 0.2658 - precision_m: 1.3642 - recall_m: 1.0586 - val_accuracy: 0.8914 - val_f1_m: 1.5532 - val_loss: 0.2892 - val_precision_m: 1.7895 - val_recall_m: 1.5263\n",
      "Epoch 9/20\n",
      "\u001b[1m176/176\u001b[0m \u001b[32m━━━━━━━━━━━━━━━━━━━━\u001b[0m\u001b[37m\u001b[0m \u001b[1m74s\u001b[0m 418ms/step - accuracy: 0.9024 - f1_m: 1.1047 - loss: 0.2606 - precision_m: 1.3503 - recall_m: 1.0621 - val_accuracy: 0.8882 - val_f1_m: 1.4129 - val_loss: 0.2874 - val_precision_m: 1.6316 - val_recall_m: 1.3684\n",
      "Epoch 10/20\n",
      "\u001b[1m176/176\u001b[0m \u001b[32m━━━━━━━━━━━━━━━━━━━━\u001b[0m\u001b[37m\u001b[0m \u001b[1m72s\u001b[0m 411ms/step - accuracy: 0.9065 - f1_m: 1.0628 - loss: 0.2545 - precision_m: 1.3357 - recall_m: 0.9926 - val_accuracy: 0.8980 - val_f1_m: 1.5778 - val_loss: 0.2823 - val_precision_m: 1.7895 - val_recall_m: 1.5263\n",
      "Epoch 11/20\n",
      "\u001b[1m176/176\u001b[0m \u001b[32m━━━━━━━━━━━━━━━━━━━━\u001b[0m\u001b[37m\u001b[0m \u001b[1m70s\u001b[0m 399ms/step - accuracy: 0.9035 - f1_m: 1.1838 - loss: 0.2494 - precision_m: 1.4313 - recall_m: 1.1449 - val_accuracy: 0.8914 - val_f1_m: 1.5251 - val_loss: 0.2819 - val_precision_m: 1.6842 - val_recall_m: 1.5263\n",
      "Epoch 12/20\n",
      "\u001b[1m176/176\u001b[0m \u001b[32m━━━━━━━━━━━━━━━━━━━━\u001b[0m\u001b[37m\u001b[0m \u001b[1m71s\u001b[0m 403ms/step - accuracy: 0.9112 - f1_m: 1.1903 - loss: 0.2414 - precision_m: 1.4488 - recall_m: 1.1228 - val_accuracy: 0.8914 - val_f1_m: 1.3953 - val_loss: 0.2780 - val_precision_m: 1.6316 - val_recall_m: 1.3158\n",
      "Epoch 13/20\n",
      "\u001b[1m176/176\u001b[0m \u001b[32m━━━━━━━━━━━━━━━━━━━━\u001b[0m\u001b[37m\u001b[0m \u001b[1m71s\u001b[0m 401ms/step - accuracy: 0.9114 - f1_m: 1.2175 - loss: 0.2396 - precision_m: 1.4475 - recall_m: 1.1682 - val_accuracy: 0.8947 - val_f1_m: 1.4374 - val_loss: 0.2743 - val_precision_m: 1.6316 - val_recall_m: 1.3684\n",
      "Epoch 14/20\n",
      "\u001b[1m176/176\u001b[0m \u001b[32m━━━━━━━━━━━━━━━━━━━━\u001b[0m\u001b[37m\u001b[0m \u001b[1m69s\u001b[0m 391ms/step - accuracy: 0.9118 - f1_m: 1.2025 - loss: 0.2353 - precision_m: 1.4670 - recall_m: 1.1345 - val_accuracy: 0.8947 - val_f1_m: 1.1848 - val_loss: 0.2796 - val_precision_m: 1.5789 - val_recall_m: 1.0526\n",
      "Epoch 15/20\n",
      "\u001b[1m176/176\u001b[0m \u001b[32m━━━━━━━━━━━━━━━━━━━━\u001b[0m\u001b[37m\u001b[0m \u001b[1m70s\u001b[0m 395ms/step - accuracy: 0.9159 - f1_m: 1.1733 - loss: 0.2362 - precision_m: 1.4009 - recall_m: 1.1284 - val_accuracy: 0.8980 - val_f1_m: 1.1146 - val_loss: 0.2775 - val_precision_m: 1.4737 - val_recall_m: 1.0000\n",
      "Epoch 16/20\n",
      "\u001b[1m176/176\u001b[0m \u001b[32m━━━━━━━━━━━━━━━━━━━━\u001b[0m\u001b[37m\u001b[0m \u001b[1m70s\u001b[0m 396ms/step - accuracy: 0.9151 - f1_m: 1.2035 - loss: 0.2354 - precision_m: 1.4314 - recall_m: 1.1604 - val_accuracy: 0.8882 - val_f1_m: 1.4807 - val_loss: 0.2697 - val_precision_m: 1.6842 - val_recall_m: 1.4737\n",
      "Epoch 17/20\n",
      "\u001b[1m176/176\u001b[0m \u001b[32m━━━━━━━━━━━━━━━━━━━━\u001b[0m\u001b[37m\u001b[0m \u001b[1m69s\u001b[0m 394ms/step - accuracy: 0.9183 - f1_m: 1.2119 - loss: 0.2338 - precision_m: 1.4526 - recall_m: 1.1561 - val_accuracy: 0.8947 - val_f1_m: 1.3965 - val_loss: 0.2643 - val_precision_m: 1.5263 - val_recall_m: 1.3684\n",
      "Epoch 18/20\n",
      "\u001b[1m176/176\u001b[0m \u001b[32m━━━━━━━━━━━━━━━━━━━━\u001b[0m\u001b[37m\u001b[0m \u001b[1m69s\u001b[0m 394ms/step - accuracy: 0.9169 - f1_m: 1.2475 - loss: 0.2278 - precision_m: 1.4693 - recall_m: 1.1864 - val_accuracy: 0.8882 - val_f1_m: 1.5544 - val_loss: 0.2686 - val_precision_m: 1.6842 - val_recall_m: 1.5789\n",
      "Epoch 19/20\n",
      "\u001b[1m176/176\u001b[0m \u001b[32m━━━━━━━━━━━━━━━━━━━━\u001b[0m\u001b[37m\u001b[0m \u001b[1m69s\u001b[0m 394ms/step - accuracy: 0.9175 - f1_m: 1.2155 - loss: 0.2361 - precision_m: 1.4373 - recall_m: 1.1635 - val_accuracy: 0.9013 - val_f1_m: 1.6997 - val_loss: 0.2627 - val_precision_m: 1.8947 - val_recall_m: 1.6316\n",
      "Epoch 20/20\n",
      "\u001b[1m176/176\u001b[0m \u001b[32m━━━━━━━━━━━━━━━━━━━━\u001b[0m\u001b[37m\u001b[0m \u001b[1m69s\u001b[0m 393ms/step - accuracy: 0.9135 - f1_m: 1.2343 - loss: 0.2275 - precision_m: 1.4667 - recall_m: 1.1718 - val_accuracy: 0.8980 - val_f1_m: 1.4070 - val_loss: 0.2625 - val_precision_m: 1.7368 - val_recall_m: 1.3158\n"
     ]
    }
   ],
   "source": [
    "history = model.fit(train_ds, epochs=num_epochs, validation_data=valid_ds, callbacks=callbacks)"
   ]
  },
  {
   "cell_type": "code",
   "execution_count": 46,
   "id": "aefbac7c",
   "metadata": {},
   "outputs": [
    {
     "data": {
      "text/html": [
       "<pre style=\"white-space:pre;overflow-x:auto;line-height:normal;font-family:Menlo,'DejaVu Sans Mono',consolas,'Courier New',monospace\"><span style=\"font-weight: bold\">Model: \"net\"</span>\n",
       "</pre>\n"
      ],
      "text/plain": [
       "\u001b[1mModel: \"net\"\u001b[0m\n"
      ]
     },
     "metadata": {},
     "output_type": "display_data"
    },
    {
     "data": {
      "text/html": [
       "<pre style=\"white-space:pre;overflow-x:auto;line-height:normal;font-family:Menlo,'DejaVu Sans Mono',consolas,'Courier New',monospace\">┏━━━━━━━━━━━━━━━━━━━━━━━━━━━━━━━━━┳━━━━━━━━━━━━━━━━━━━━━━━━┳━━━━━━━━━━━━━━━┓\n",
       "┃<span style=\"font-weight: bold\"> Layer (type)                    </span>┃<span style=\"font-weight: bold\"> Output Shape           </span>┃<span style=\"font-weight: bold\">       Param # </span>┃\n",
       "┡━━━━━━━━━━━━━━━━━━━━━━━━━━━━━━━━━╇━━━━━━━━━━━━━━━━━━━━━━━━╇━━━━━━━━━━━━━━━┩\n",
       "│ conv2d (<span style=\"color: #0087ff; text-decoration-color: #0087ff\">Conv2D</span>)                 │ (<span style=\"color: #00af00; text-decoration-color: #00af00\">16</span>, <span style=\"color: #00af00; text-decoration-color: #00af00\">381</span>, <span style=\"color: #00af00; text-decoration-color: #00af00\">381</span>, <span style=\"color: #00af00; text-decoration-color: #00af00\">8</span>)      │           <span style=\"color: #00af00; text-decoration-color: #00af00\">392</span> │\n",
       "├─────────────────────────────────┼────────────────────────┼───────────────┤\n",
       "│ average_pooling2d               │ ?                      │             <span style=\"color: #00af00; text-decoration-color: #00af00\">0</span> │\n",
       "│ (<span style=\"color: #0087ff; text-decoration-color: #0087ff\">AveragePooling2D</span>)              │                        │               │\n",
       "├─────────────────────────────────┼────────────────────────┼───────────────┤\n",
       "│ conv2d_1 (<span style=\"color: #0087ff; text-decoration-color: #0087ff\">Conv2D</span>)               │ (<span style=\"color: #00af00; text-decoration-color: #00af00\">16</span>, <span style=\"color: #00af00; text-decoration-color: #00af00\">187</span>, <span style=\"color: #00af00; text-decoration-color: #00af00\">187</span>, <span style=\"color: #00af00; text-decoration-color: #00af00\">16</span>)     │         <span style=\"color: #00af00; text-decoration-color: #00af00\">2,064</span> │\n",
       "├─────────────────────────────────┼────────────────────────┼───────────────┤\n",
       "│ average_pooling2d_1             │ ?                      │             <span style=\"color: #00af00; text-decoration-color: #00af00\">0</span> │\n",
       "│ (<span style=\"color: #0087ff; text-decoration-color: #0087ff\">AveragePooling2D</span>)              │                        │               │\n",
       "├─────────────────────────────────┼────────────────────────┼───────────────┤\n",
       "│ conv2d_2 (<span style=\"color: #0087ff; text-decoration-color: #0087ff\">Conv2D</span>)               │ (<span style=\"color: #00af00; text-decoration-color: #00af00\">16</span>, <span style=\"color: #00af00; text-decoration-color: #00af00\">90</span>, <span style=\"color: #00af00; text-decoration-color: #00af00\">90</span>, <span style=\"color: #00af00; text-decoration-color: #00af00\">32</span>)       │         <span style=\"color: #00af00; text-decoration-color: #00af00\">8,224</span> │\n",
       "├─────────────────────────────────┼────────────────────────┼───────────────┤\n",
       "│ average_pooling2d_2             │ ?                      │             <span style=\"color: #00af00; text-decoration-color: #00af00\">0</span> │\n",
       "│ (<span style=\"color: #0087ff; text-decoration-color: #0087ff\">AveragePooling2D</span>)              │                        │               │\n",
       "├─────────────────────────────────┼────────────────────────┼───────────────┤\n",
       "│ conv2d_3 (<span style=\"color: #0087ff; text-decoration-color: #0087ff\">Conv2D</span>)               │ (<span style=\"color: #00af00; text-decoration-color: #00af00\">16</span>, <span style=\"color: #00af00; text-decoration-color: #00af00\">42</span>, <span style=\"color: #00af00; text-decoration-color: #00af00\">42</span>, <span style=\"color: #00af00; text-decoration-color: #00af00\">64</span>)       │        <span style=\"color: #00af00; text-decoration-color: #00af00\">32,832</span> │\n",
       "├─────────────────────────────────┼────────────────────────┼───────────────┤\n",
       "│ average_pooling2d_3             │ ?                      │             <span style=\"color: #00af00; text-decoration-color: #00af00\">0</span> │\n",
       "│ (<span style=\"color: #0087ff; text-decoration-color: #0087ff\">AveragePooling2D</span>)              │                        │               │\n",
       "├─────────────────────────────────┼────────────────────────┼───────────────┤\n",
       "│ conv2d_4 (<span style=\"color: #0087ff; text-decoration-color: #0087ff\">Conv2D</span>)               │ (<span style=\"color: #00af00; text-decoration-color: #00af00\">16</span>, <span style=\"color: #00af00; text-decoration-color: #00af00\">18</span>, <span style=\"color: #00af00; text-decoration-color: #00af00\">18</span>, <span style=\"color: #00af00; text-decoration-color: #00af00\">128</span>)      │       <span style=\"color: #00af00; text-decoration-color: #00af00\">131,200</span> │\n",
       "├─────────────────────────────────┼────────────────────────┼───────────────┤\n",
       "│ average_pooling2d_4             │ ?                      │             <span style=\"color: #00af00; text-decoration-color: #00af00\">0</span> │\n",
       "│ (<span style=\"color: #0087ff; text-decoration-color: #0087ff\">AveragePooling2D</span>)              │                        │               │\n",
       "├─────────────────────────────────┼────────────────────────┼───────────────┤\n",
       "│ conv2d_5 (<span style=\"color: #0087ff; text-decoration-color: #0087ff\">Conv2D</span>)               │ (<span style=\"color: #00af00; text-decoration-color: #00af00\">16</span>, <span style=\"color: #00af00; text-decoration-color: #00af00\">6</span>, <span style=\"color: #00af00; text-decoration-color: #00af00\">6</span>, <span style=\"color: #00af00; text-decoration-color: #00af00\">256</span>)        │       <span style=\"color: #00af00; text-decoration-color: #00af00\">524,544</span> │\n",
       "├─────────────────────────────────┼────────────────────────┼───────────────┤\n",
       "│ average_pooling2d_5             │ ?                      │             <span style=\"color: #00af00; text-decoration-color: #00af00\">0</span> │\n",
       "│ (<span style=\"color: #0087ff; text-decoration-color: #0087ff\">AveragePooling2D</span>)              │                        │               │\n",
       "├─────────────────────────────────┼────────────────────────┼───────────────┤\n",
       "│ conv2d_6 (<span style=\"color: #0087ff; text-decoration-color: #0087ff\">Conv2D</span>)               │ ?                      │   <span style=\"color: #00af00; text-decoration-color: #00af00\">0</span> (unbuilt) │\n",
       "├─────────────────────────────────┼────────────────────────┼───────────────┤\n",
       "│ average_pooling2d_6             │ ?                      │             <span style=\"color: #00af00; text-decoration-color: #00af00\">0</span> │\n",
       "│ (<span style=\"color: #0087ff; text-decoration-color: #0087ff\">AveragePooling2D</span>)              │                        │               │\n",
       "├─────────────────────────────────┼────────────────────────┼───────────────┤\n",
       "│ flatten (<span style=\"color: #0087ff; text-decoration-color: #0087ff\">Flatten</span>)               │ (<span style=\"color: #00af00; text-decoration-color: #00af00\">16</span>, <span style=\"color: #00af00; text-decoration-color: #00af00\">2304</span>)             │             <span style=\"color: #00af00; text-decoration-color: #00af00\">0</span> │\n",
       "├─────────────────────────────────┼────────────────────────┼───────────────┤\n",
       "│ dense (<span style=\"color: #0087ff; text-decoration-color: #0087ff\">Dense</span>)                   │ (<span style=\"color: #00af00; text-decoration-color: #00af00\">16</span>, <span style=\"color: #00af00; text-decoration-color: #00af00\">512</span>)              │     <span style=\"color: #00af00; text-decoration-color: #00af00\">1,180,160</span> │\n",
       "├─────────────────────────────────┼────────────────────────┼───────────────┤\n",
       "│ dropout (<span style=\"color: #0087ff; text-decoration-color: #0087ff\">Dropout</span>)               │ ?                      │             <span style=\"color: #00af00; text-decoration-color: #00af00\">0</span> │\n",
       "├─────────────────────────────────┼────────────────────────┼───────────────┤\n",
       "│ batch_normalization             │ (<span style=\"color: #00af00; text-decoration-color: #00af00\">16</span>, <span style=\"color: #00af00; text-decoration-color: #00af00\">512</span>)              │         <span style=\"color: #00af00; text-decoration-color: #00af00\">2,048</span> │\n",
       "│ (<span style=\"color: #0087ff; text-decoration-color: #0087ff\">BatchNormalization</span>)            │                        │               │\n",
       "├─────────────────────────────────┼────────────────────────┼───────────────┤\n",
       "│ dense_1 (<span style=\"color: #0087ff; text-decoration-color: #0087ff\">Dense</span>)                 │ (<span style=\"color: #00af00; text-decoration-color: #00af00\">16</span>, <span style=\"color: #00af00; text-decoration-color: #00af00\">256</span>)              │       <span style=\"color: #00af00; text-decoration-color: #00af00\">131,328</span> │\n",
       "├─────────────────────────────────┼────────────────────────┼───────────────┤\n",
       "│ batch_normalization_1           │ (<span style=\"color: #00af00; text-decoration-color: #00af00\">16</span>, <span style=\"color: #00af00; text-decoration-color: #00af00\">512</span>)              │         <span style=\"color: #00af00; text-decoration-color: #00af00\">2,048</span> │\n",
       "│ (<span style=\"color: #0087ff; text-decoration-color: #0087ff\">BatchNormalization</span>)            │                        │               │\n",
       "├─────────────────────────────────┼────────────────────────┼───────────────┤\n",
       "│ dense_2 (<span style=\"color: #0087ff; text-decoration-color: #0087ff\">Dense</span>)                 │ (<span style=\"color: #00af00; text-decoration-color: #00af00\">16</span>, <span style=\"color: #00af00; text-decoration-color: #00af00\">1</span>)                │           <span style=\"color: #00af00; text-decoration-color: #00af00\">257</span> │\n",
       "└─────────────────────────────────┴────────────────────────┴───────────────┘\n",
       "</pre>\n"
      ],
      "text/plain": [
       "┏━━━━━━━━━━━━━━━━━━━━━━━━━━━━━━━━━┳━━━━━━━━━━━━━━━━━━━━━━━━┳━━━━━━━━━━━━━━━┓\n",
       "┃\u001b[1m \u001b[0m\u001b[1mLayer (type)                   \u001b[0m\u001b[1m \u001b[0m┃\u001b[1m \u001b[0m\u001b[1mOutput Shape          \u001b[0m\u001b[1m \u001b[0m┃\u001b[1m \u001b[0m\u001b[1m      Param #\u001b[0m\u001b[1m \u001b[0m┃\n",
       "┡━━━━━━━━━━━━━━━━━━━━━━━━━━━━━━━━━╇━━━━━━━━━━━━━━━━━━━━━━━━╇━━━━━━━━━━━━━━━┩\n",
       "│ conv2d (\u001b[38;5;33mConv2D\u001b[0m)                 │ (\u001b[38;5;34m16\u001b[0m, \u001b[38;5;34m381\u001b[0m, \u001b[38;5;34m381\u001b[0m, \u001b[38;5;34m8\u001b[0m)      │           \u001b[38;5;34m392\u001b[0m │\n",
       "├─────────────────────────────────┼────────────────────────┼───────────────┤\n",
       "│ average_pooling2d               │ ?                      │             \u001b[38;5;34m0\u001b[0m │\n",
       "│ (\u001b[38;5;33mAveragePooling2D\u001b[0m)              │                        │               │\n",
       "├─────────────────────────────────┼────────────────────────┼───────────────┤\n",
       "│ conv2d_1 (\u001b[38;5;33mConv2D\u001b[0m)               │ (\u001b[38;5;34m16\u001b[0m, \u001b[38;5;34m187\u001b[0m, \u001b[38;5;34m187\u001b[0m, \u001b[38;5;34m16\u001b[0m)     │         \u001b[38;5;34m2,064\u001b[0m │\n",
       "├─────────────────────────────────┼────────────────────────┼───────────────┤\n",
       "│ average_pooling2d_1             │ ?                      │             \u001b[38;5;34m0\u001b[0m │\n",
       "│ (\u001b[38;5;33mAveragePooling2D\u001b[0m)              │                        │               │\n",
       "├─────────────────────────────────┼────────────────────────┼───────────────┤\n",
       "│ conv2d_2 (\u001b[38;5;33mConv2D\u001b[0m)               │ (\u001b[38;5;34m16\u001b[0m, \u001b[38;5;34m90\u001b[0m, \u001b[38;5;34m90\u001b[0m, \u001b[38;5;34m32\u001b[0m)       │         \u001b[38;5;34m8,224\u001b[0m │\n",
       "├─────────────────────────────────┼────────────────────────┼───────────────┤\n",
       "│ average_pooling2d_2             │ ?                      │             \u001b[38;5;34m0\u001b[0m │\n",
       "│ (\u001b[38;5;33mAveragePooling2D\u001b[0m)              │                        │               │\n",
       "├─────────────────────────────────┼────────────────────────┼───────────────┤\n",
       "│ conv2d_3 (\u001b[38;5;33mConv2D\u001b[0m)               │ (\u001b[38;5;34m16\u001b[0m, \u001b[38;5;34m42\u001b[0m, \u001b[38;5;34m42\u001b[0m, \u001b[38;5;34m64\u001b[0m)       │        \u001b[38;5;34m32,832\u001b[0m │\n",
       "├─────────────────────────────────┼────────────────────────┼───────────────┤\n",
       "│ average_pooling2d_3             │ ?                      │             \u001b[38;5;34m0\u001b[0m │\n",
       "│ (\u001b[38;5;33mAveragePooling2D\u001b[0m)              │                        │               │\n",
       "├─────────────────────────────────┼────────────────────────┼───────────────┤\n",
       "│ conv2d_4 (\u001b[38;5;33mConv2D\u001b[0m)               │ (\u001b[38;5;34m16\u001b[0m, \u001b[38;5;34m18\u001b[0m, \u001b[38;5;34m18\u001b[0m, \u001b[38;5;34m128\u001b[0m)      │       \u001b[38;5;34m131,200\u001b[0m │\n",
       "├─────────────────────────────────┼────────────────────────┼───────────────┤\n",
       "│ average_pooling2d_4             │ ?                      │             \u001b[38;5;34m0\u001b[0m │\n",
       "│ (\u001b[38;5;33mAveragePooling2D\u001b[0m)              │                        │               │\n",
       "├─────────────────────────────────┼────────────────────────┼───────────────┤\n",
       "│ conv2d_5 (\u001b[38;5;33mConv2D\u001b[0m)               │ (\u001b[38;5;34m16\u001b[0m, \u001b[38;5;34m6\u001b[0m, \u001b[38;5;34m6\u001b[0m, \u001b[38;5;34m256\u001b[0m)        │       \u001b[38;5;34m524,544\u001b[0m │\n",
       "├─────────────────────────────────┼────────────────────────┼───────────────┤\n",
       "│ average_pooling2d_5             │ ?                      │             \u001b[38;5;34m0\u001b[0m │\n",
       "│ (\u001b[38;5;33mAveragePooling2D\u001b[0m)              │                        │               │\n",
       "├─────────────────────────────────┼────────────────────────┼───────────────┤\n",
       "│ conv2d_6 (\u001b[38;5;33mConv2D\u001b[0m)               │ ?                      │   \u001b[38;5;34m0\u001b[0m (unbuilt) │\n",
       "├─────────────────────────────────┼────────────────────────┼───────────────┤\n",
       "│ average_pooling2d_6             │ ?                      │             \u001b[38;5;34m0\u001b[0m │\n",
       "│ (\u001b[38;5;33mAveragePooling2D\u001b[0m)              │                        │               │\n",
       "├─────────────────────────────────┼────────────────────────┼───────────────┤\n",
       "│ flatten (\u001b[38;5;33mFlatten\u001b[0m)               │ (\u001b[38;5;34m16\u001b[0m, \u001b[38;5;34m2304\u001b[0m)             │             \u001b[38;5;34m0\u001b[0m │\n",
       "├─────────────────────────────────┼────────────────────────┼───────────────┤\n",
       "│ dense (\u001b[38;5;33mDense\u001b[0m)                   │ (\u001b[38;5;34m16\u001b[0m, \u001b[38;5;34m512\u001b[0m)              │     \u001b[38;5;34m1,180,160\u001b[0m │\n",
       "├─────────────────────────────────┼────────────────────────┼───────────────┤\n",
       "│ dropout (\u001b[38;5;33mDropout\u001b[0m)               │ ?                      │             \u001b[38;5;34m0\u001b[0m │\n",
       "├─────────────────────────────────┼────────────────────────┼───────────────┤\n",
       "│ batch_normalization             │ (\u001b[38;5;34m16\u001b[0m, \u001b[38;5;34m512\u001b[0m)              │         \u001b[38;5;34m2,048\u001b[0m │\n",
       "│ (\u001b[38;5;33mBatchNormalization\u001b[0m)            │                        │               │\n",
       "├─────────────────────────────────┼────────────────────────┼───────────────┤\n",
       "│ dense_1 (\u001b[38;5;33mDense\u001b[0m)                 │ (\u001b[38;5;34m16\u001b[0m, \u001b[38;5;34m256\u001b[0m)              │       \u001b[38;5;34m131,328\u001b[0m │\n",
       "├─────────────────────────────────┼────────────────────────┼───────────────┤\n",
       "│ batch_normalization_1           │ (\u001b[38;5;34m16\u001b[0m, \u001b[38;5;34m512\u001b[0m)              │         \u001b[38;5;34m2,048\u001b[0m │\n",
       "│ (\u001b[38;5;33mBatchNormalization\u001b[0m)            │                        │               │\n",
       "├─────────────────────────────────┼────────────────────────┼───────────────┤\n",
       "│ dense_2 (\u001b[38;5;33mDense\u001b[0m)                 │ (\u001b[38;5;34m16\u001b[0m, \u001b[38;5;34m1\u001b[0m)                │           \u001b[38;5;34m257\u001b[0m │\n",
       "└─────────────────────────────────┴────────────────────────┴───────────────┘\n"
      ]
     },
     "metadata": {},
     "output_type": "display_data"
    },
    {
     "data": {
      "text/html": [
       "<pre style=\"white-space:pre;overflow-x:auto;line-height:normal;font-family:Menlo,'DejaVu Sans Mono',consolas,'Courier New',monospace\"><span style=\"font-weight: bold\"> Total params: </span><span style=\"color: #00af00; text-decoration-color: #00af00\">6,041,197</span> (23.05 MB)\n",
       "</pre>\n"
      ],
      "text/plain": [
       "\u001b[1m Total params: \u001b[0m\u001b[38;5;34m6,041,197\u001b[0m (23.05 MB)\n"
      ]
     },
     "metadata": {},
     "output_type": "display_data"
    },
    {
     "data": {
      "text/html": [
       "<pre style=\"white-space:pre;overflow-x:auto;line-height:normal;font-family:Menlo,'DejaVu Sans Mono',consolas,'Courier New',monospace\"><span style=\"font-weight: bold\"> Trainable params: </span><span style=\"color: #00af00; text-decoration-color: #00af00\">2,013,049</span> (7.68 MB)\n",
       "</pre>\n"
      ],
      "text/plain": [
       "\u001b[1m Trainable params: \u001b[0m\u001b[38;5;34m2,013,049\u001b[0m (7.68 MB)\n"
      ]
     },
     "metadata": {},
     "output_type": "display_data"
    },
    {
     "data": {
      "text/html": [
       "<pre style=\"white-space:pre;overflow-x:auto;line-height:normal;font-family:Menlo,'DejaVu Sans Mono',consolas,'Courier New',monospace\"><span style=\"font-weight: bold\"> Non-trainable params: </span><span style=\"color: #00af00; text-decoration-color: #00af00\">2,048</span> (8.00 KB)\n",
       "</pre>\n"
      ],
      "text/plain": [
       "\u001b[1m Non-trainable params: \u001b[0m\u001b[38;5;34m2,048\u001b[0m (8.00 KB)\n"
      ]
     },
     "metadata": {},
     "output_type": "display_data"
    },
    {
     "data": {
      "text/html": [
       "<pre style=\"white-space:pre;overflow-x:auto;line-height:normal;font-family:Menlo,'DejaVu Sans Mono',consolas,'Courier New',monospace\"><span style=\"font-weight: bold\"> Optimizer params: </span><span style=\"color: #00af00; text-decoration-color: #00af00\">4,026,100</span> (15.36 MB)\n",
       "</pre>\n"
      ],
      "text/plain": [
       "\u001b[1m Optimizer params: \u001b[0m\u001b[38;5;34m4,026,100\u001b[0m (15.36 MB)\n"
      ]
     },
     "metadata": {},
     "output_type": "display_data"
    }
   ],
   "source": [
    "model.summary()"
   ]
  },
  {
   "cell_type": "code",
   "execution_count": 58,
   "id": "10ea6d28",
   "metadata": {},
   "outputs": [
    {
     "name": "stdout",
     "output_type": "stream",
     "text": [
      "\u001b[1m19/19\u001b[0m \u001b[32m━━━━━━━━━━━━━━━━━━━━\u001b[0m\u001b[37m\u001b[0m \u001b[1m2s\u001b[0m 105ms/step - accuracy: 0.8778 - f1_m: 1.2072 - loss: 0.3029 - precision_m: 1.8082 - recall_m: 1.0639\n",
      "Loss: 0.2625\n"
     ]
    }
   ],
   "source": [
    "results = model.evaluate(valid_ds)\n",
    "print(\"Loss: {:0.4f}\".format(results[0]))"
   ]
  },
  {
   "cell_type": "code",
   "execution_count": 56,
   "id": "11eff8fe",
   "metadata": {},
   "outputs": [
    {
     "data": {
      "text/plain": [
       "array([-6.92707383])"
      ]
     },
     "execution_count": 56,
     "metadata": {},
     "output_type": "execute_result"
    }
   ],
   "source": [
    "initial_bias = np.log([pos/neg])\n",
    "initial_bias"
   ]
  },
  {
   "cell_type": "code",
   "execution_count": 59,
   "id": "a67d6dae",
   "metadata": {},
   "outputs": [
    {
     "data": {
      "image/png": "[encoded data removed]",
      "text/plain": [
       "<Figure size 1200x1000 with 1 Axes>"
      ]
     },
     "metadata": {},
     "output_type": "display_data"
    }
   ],
   "source": [
    "def plot_loss(history, label, n):\n",
    "  # Use a log scale on y-axis to show the wide range of values.\n",
    "  plt.semilogy(history.epoch, history.history['loss'],\n",
    "               color=colors[n], label='Train ' + label)\n",
    "  plt.semilogy(history.epoch, history.history['val_loss'],\n",
    "               color=colors[n], label='Val ' + label,\n",
    "               linestyle=\"--\")\n",
    "  plt.xlabel('Epoch')\n",
    "  plt.ylabel('Loss')\n",
    "  plt.legend()\n",
    "  \n",
    "plot_loss(history, \"Binary Crossentropy\", 0)"
   ]
  },
  {
   "cell_type": "code",
   "execution_count": 60,
   "id": "2fb407a2",
   "metadata": {},
   "outputs": [
    {
     "name": "stdout",
     "output_type": "stream",
     "text": [
      "dict_keys(['accuracy', 'f1_m', 'loss', 'precision_m', 'recall_m', 'val_accuracy', 'val_f1_m', 'val_loss', 'val_precision_m', 'val_recall_m'])\n"
     ]
    }
   ],
   "source": [
    "print(history.history.keys())"
   ]
  },
  {
   "cell_type": "code",
   "execution_count": 61,
   "id": "a10a04d1",
   "metadata": {},
   "outputs": [
    {
     "data": {
      "image/png": "[encoded data removed]",
      "text/plain": [
       "<Figure size 1200x1000 with 4 Axes>"
      ]
     },
     "metadata": {},
     "output_type": "display_data"
    }
   ],
   "source": [
    "def plot_metrics(history):\n",
    "  metrics = ['f1_m', 'loss', 'precision_m', 'recall_m']\n",
    "  for n, metric in enumerate(metrics):\n",
    "    name = metric.replace(\"_\",\" \").capitalize()\n",
    "    plt.subplot(2,2,n+1)\n",
    "    plt.plot(history.epoch, history.history[metric], color=colors[0], label='Train')\n",
    "    plt.plot(history.epoch, history.history['val_'+metric],\n",
    "             color=colors[0], linestyle=\"--\", label='Val')\n",
    "    plt.xlabel('Epoch')\n",
    "    plt.ylabel(name)\n",
    "    if metric == 'loss':\n",
    "      plt.ylim([0, plt.ylim()[1]])\n",
    "    elif metric == 'auc':\n",
    "      plt.ylim([0.8,1])\n",
    "    else:\n",
    "      plt.ylim([0,1])\n",
    "\n",
    "    plt.legend()\n",
    "    \n",
    "plot_metrics(history)"
   ]
  },
  {
   "cell_type": "code",
   "execution_count": 81,
   "id": "de23e9ea",
   "metadata": {},
   "outputs": [
    {
     "name": "stdout",
     "output_type": "stream",
     "text": [
      "???????????\n"
     ]
    }
   ],
   "source": [
    "print(\"???????????\")"
   ]
  },
  {
   "cell_type": "code",
   "execution_count": 66,
   "id": "60f581bf",
   "metadata": {},
   "outputs": [
    {
     "name": "stdout",
     "output_type": "stream",
     "text": [
      "\u001b[1m176/176\u001b[0m \u001b[32m━━━━━━━━━━━━━━━━━━━━\u001b[0m\u001b[37m\u001b[0m \u001b[1m19s\u001b[0m 107ms/step\n",
      "\u001b[1m19/19\u001b[0m \u001b[32m━━━━━━━━━━━━━━━━━━━━\u001b[0m\u001b[37m\u001b[0m \u001b[1m2s\u001b[0m 105ms/step\n"
     ]
    }
   ],
   "source": [
    "train_predictions_baseline = model.predict(train_ds, batch_size=batch_size)\n",
    "valid_predictions_baseline = model.predict(valid_ds, batch_size=batch_size)\n",
    "\n",
    "def plot_cm(labels, predictions, threshold=0.5):\n",
    "  cm = confusion_matrix(labels, predictions > threshold)\n",
    "  plt.figure(figsize=(5,5))\n",
    "  sns.heatmap(cm, annot=True, fmt=\"d\")\n",
    "  plt.title('Confusion matrix @{:.2f}'.format(threshold))\n",
    "  plt.ylabel('Actual label')\n",
    "  plt.xlabel('Predicted label')\n",
    "\n",
    "  print('Legitimate Transactions Detected (True Negatives): ', cm[0][0])\n",
    "  print('Legitimate Transactions Incorrectly Detected (False Positives): ', cm[0][1])\n",
    "  print('Fraudulent Transactions Missed (False Negatives): ', cm[1][0])\n",
    "  print('Fraudulent Transactions Detected (True Positives): ', cm[1][1])\n",
    "  print('Total Fraudulent Transactions: ', np.sum(cm[1]))"
   ]
  },
  {
   "cell_type": "code",
   "execution_count": 63,
   "id": "82e26ed8",
   "metadata": {},
   "outputs": [
    {
     "name": "stdout",
     "output_type": "stream",
     "text": [
      "Legitimate Transactions Detected (True Negatives):  2412\n",
      "Legitimate Transactions Incorrectly Detected (False Positives):  55\n",
      "Fraudulent Transactions Missed (False Negatives):  167\n",
      "Fraudulent Transactions Detected (True Positives):  182\n",
      "Total Fraudulent Transactions:  349\n"
     ]
    },
    {
     "data": {
      "image/png": "[encoded data removed]",
      "text/plain": [
       "<Figure size 500x500 with 2 Axes>"
      ]
     },
     "metadata": {},
     "output_type": "display_data"
    }
   ],
   "source": [
    "plot_cm(train_labels, train_predictions_baseline)"
   ]
  },
  {
   "cell_type": "code",
   "execution_count": 68,
   "id": "99790254",
   "metadata": {},
   "outputs": [
    {
     "name": "stdout",
     "output_type": "stream",
     "text": [
      "Legitimate Transactions Detected (True Negatives):  255\n",
      "Legitimate Transactions Incorrectly Detected (False Positives):  7\n",
      "Fraudulent Transactions Missed (False Negatives):  24\n",
      "Fraudulent Transactions Detected (True Positives):  18\n",
      "Total Fraudulent Transactions:  42\n"
     ]
    },
    {
     "data": {
      "image/png": "[encoded data removed]",
      "text/plain": [
       "<Figure size 500x500 with 2 Axes>"
      ]
     },
     "metadata": {},
     "output_type": "display_data"
    }
   ],
   "source": [
    "plot_cm(valid_labels, valid_predictions_baseline)"
   ]
  },
  {
   "cell_type": "code",
   "execution_count": 70,
   "id": "2408bff1",
   "metadata": {},
   "outputs": [
    {
     "name": "stdout",
     "output_type": "stream",
     "text": [
      "Legitimate Transactions Detected (True Negatives):  190\n",
      "Legitimate Transactions Incorrectly Detected (False Positives):  72\n",
      "Fraudulent Transactions Missed (False Negatives):  5\n",
      "Fraudulent Transactions Detected (True Positives):  37\n",
      "Total Fraudulent Transactions:  42\n"
     ]
    },
    {
     "data": {
      "image/png": "[encoded data removed]",
      "text/plain": [
       "<Figure size 500x500 with 2 Axes>"
      ]
     },
     "metadata": {},
     "output_type": "display_data"
    }
   ],
   "source": [
    "plot_cm(valid_labels, valid_predictions_baseline, threshold=0.1)"
   ]
  },
  {
   "cell_type": "code",
   "execution_count": 78,
   "id": "6252a843",
   "metadata": {},
   "outputs": [
    {
     "data": {
      "image/png": "[encoded data removed]",
      "text/plain": [
       "<Figure size 1200x1000 with 1 Axes>"
      ]
     },
     "metadata": {},
     "output_type": "display_data"
    }
   ],
   "source": [
    "def plot_roc(name, labels, predictions, **kwargs):\n",
    "  fp, tp, _ = sklearn.metrics.roc_curve(labels, predictions)\n",
    "\n",
    "  plt.plot(100*fp, 100*tp, label=name, linewidth=2, **kwargs)\n",
    "  plt.xlabel('False positives [%]')\n",
    "  plt.ylabel('True positives [%]')\n",
    "  plt.xlim([-1.5,101.5])\n",
    "  plt.ylim([0,101.5])\n",
    "  plt.grid(True)\n",
    "  ax = plt.gca()\n",
    "  ax.set_aspect('equal')\n",
    "  \n",
    "plot_roc(\"Train Baseline\", train_labels, train_predictions_baseline, color=colors[0])\n",
    "plot_roc(\"Test Baseline\", valid_labels, valid_predictions_baseline, color=colors[0], linestyle='--')\n",
    "plt.legend(loc='lower right');"
   ]
  },
  {
   "cell_type": "code",
   "execution_count": 79,
   "id": "cd43da36",
   "metadata": {},
   "outputs": [
    {
     "data": {
      "image/png": "[encoded data removed]",
      "text/plain": [
       "<Figure size 1200x1000 with 1 Axes>"
      ]
     },
     "metadata": {},
     "output_type": "display_data"
    }
   ],
   "source": [
    "def plot_prc(name, labels, predictions, **kwargs):\n",
    "    precision, recall, _ = sklearn.metrics.precision_recall_curve(labels, predictions)\n",
    "\n",
    "    plt.plot(precision, recall, label=name, linewidth=2, **kwargs)\n",
    "    plt.xlabel('Precision')\n",
    "    plt.ylabel('Recall')\n",
    "    plt.grid(True)\n",
    "    ax = plt.gca()\n",
    "    ax.set_aspect('equal')\n",
    "    \n",
    "plot_prc(\"Train Baseline\", train_labels, train_predictions_baseline, color=colors[0])\n",
    "plot_prc(\"Test Baseline\", valid_labels, valid_predictions_baseline, color=colors[0], linestyle='--')\n",
    "plt.legend(loc='lower left');"
   ]
  },
  {
   "cell_type": "code",
   "execution_count": 80,
   "id": "3dd8783e",
   "metadata": {},
   "outputs": [],
   "source": [
    "Testing\n",
    "\n",
    "test_hdf5 = h5py.File(f\"{ROOT_DIR}/test-image.hdf5\", 'r')\n",
    "test_df = pd.read_csv(f\"{ROOT_DIR}/test-metadata.csv\")\n",
    "test_ids = test_df.isic_id.values\n",
    "print(test_df)\n",
    "\n",
    "test_images = [None]*len(test_ids)\n",
    "test_labels = [None]*len(test_ids)\n",
    "\n",
    "for i, isic_id in enumerate(test_ids):\n",
    "    if isic_id in test_hdf5:\n",
    "        if test_hdf5[isic_id][()] is not None:\n",
    "            test_images[i] = test_hdf5[isic_id][()]\n",
    "            test_labels[i] = test_df[isic_id].target\n",
    "\n",
    "print(f\"Loaded {len(images)} images.\")\n",
    "print(f\"First image shape: {cv2.imdecode(np.frombuffer(images[0], np.uint8), cv2.IMREAD_COLOR).shape}.\")\n",
    "\n",
    "for i, img in enumerate(test_images):\n",
    "    if img is None or not img:\n",
    "        print(f\"Image {i} is None.\")\n",
    "        test_images.remove(test_images[i])\n",
    "        test_labels.remove(test_labels[i])\n",
    "        \n",
    "print(f\"Loaded {len(images)} images.\")\n",
    "\n",
    "test_dataset = tf.data.Dataset.from_tensor_slices(test_images, test_labels)\n",
    "\n",
    "test_dataset = test_dataset.cache()\n",
    "\n",
    "test_dataset = test_dataset.map(image_decoder, num_parallel_calls=AUTOTUNE)\n",
    "\n",
    "test_dataset = test_dataset.batch(batch_size=batch_size, drop_remainder=True)\n",
    "\n",
    "test_dataset = test_dataset.prefetch(buffer_size=AUTOTUNE)\n",
    "\n",
    "print(f\"Testing dataset size: {test_dataset.cardinality().numpy()}\")\n",
    "\n",
    "\n",
    "\n",
    "predictions = model.predict(test_dataset)\n",
    "\n",
    "predictions"
   ]
  },
  {
   "cell_type": "code",
   "execution_count": null,
   "id": "9cc53dd86cba149e",
   "metadata": {},
   "outputs": [],
   "source": [
    "# Submission\n",
    "\n",
    "image_ids = []\n",
    "predictions = []\n",
    "\n",
    "with h5py.File(\"I/SIC2024_SkinCancerDetection/data/test-image.hdf5\", 'r') as hdf:\n",
    "    for key in hdf.keys():\n",
    "        dataset = hdf[key]\n",
    "        if isinstance(dataset, h5py.Dataset):\n",
    "            \n",
    "            img_data = dataset[()]\n",
    "            img_data = np.frombuffer(img_data, dtype=np.uint8)\n",
    "            img = Image.open(io.BytesIO(img_data))\n",
    "\n",
    "            img = test_transform(img)\n",
    "\n",
    "            img = img.unsqueeze(0).to(CONFIG['device']) \n",
    "\n",
    "            output = model(img)\n",
    "            # probability = output.squeeze().cpu().item()\n",
    "\n",
    "            image_ids.append(key)\n",
    "            predictions.append(output)\n",
    "\n",
    "submission_df = pd.DataFrame({\n",
    "    'isic_id': image_ids,\n",
    "    'target': predictions \n",
    "})\n",
    "\n",
    "submission_df.to_csv('submission.csv', index=False)"
   ]
  },
  {
   "cell_type": "code",
   "execution_count": null,
   "id": "feca4cc3f5ea2bb6",
   "metadata": {},
   "outputs": [],
   "source": [
    "# TODO: Custom training loop with evaluation"
   ]
  },
  {
   "cell_type": "code",
   "execution_count": null,
   "id": "c0a2d496d458f0f0",
   "metadata": {},
   "outputs": [],
   "source": [
    "x_train_tensor = tf.convert_to_tensor(x_train, dtype=tf.float32)\n",
    "x_test_tensor = tf.convert_to_tensor(x_test, dtype=tf.float32)\n",
    "\n",
    "y_train_pred = model(x_train_tensor, training=False).numpy()\n",
    "y_test_pred = model(x_test_tensor, training=False).numpy()"
   ]
  },
  {
   "cell_type": "code",
   "execution_count": null,
   "id": "3e1d78cbea36b968",
   "metadata": {},
   "outputs": [],
   "source": [
    "# construct a plot that plots and saves the training history\n",
    "N = np.arange(0, NUM_EPOCHS)\n",
    "\n",
    "plt.style.use(\"ggplot\")\n",
    "plt.figure()\n",
    "plt.plot(N, H.history[\"loss\"], label=\"train_loss\")\n",
    "plt.plot(N, H.history[\"val_loss\"], label=\"val_loss\")\n",
    "plt.plot(N, H.history[\"accuracy\"], label=\"train_acc\")\n",
    "plt.plot(N, H.history[\"val_accuracy\"], label=\"val_acc\")\n",
    "plt.title(\"Training Loss and Accuracy\")\n",
    "plt.xlabel(\"Epoch #\")\n",
    "plt.ylabel(\"Loss/Accuracy\")\n",
    "plt.legend(loc=\"lower left\")\n",
    "plt.savefig(args[\"plot\"])"
   ]
  },
  {
   "cell_type": "code",
   "execution_count": null,
   "id": "18ee31852327fef4",
   "metadata": {},
   "outputs": [],
   "source": [
    "# Transfer Learning [freeze all layers of feature extractor]: Functional API\n",
    "\n",
    "base_model = keras.applications.ResNet50(include_top=False, input_shape=(CONFIG[\"img_size\"], CONFIG[\"img_size\"], 3), weights=\"imagenet\")\n",
    "base_model.trainable = False\n",
    "\n",
    "class MyModel(keras.Model):\n",
    "    def __init__(self, base_model):\n",
    "        super(MyModel, self).__init__()\n",
    "        self.base = base_model\n",
    "        self.layer_1 = keras.layers.Flatten()\n",
    "        self.layer_2 = keras.layers.Dense(64, activation='relu')\n",
    "        self.layer_3 = keras.layers.Dense(1, activation='softmax')\n",
    "\n",
    "    @tf.function\n",
    "    def call(self, xb):\n",
    "        x = self.base(xb)\n",
    "        x = self.layer_1(x)\n",
    "        x = self.layer_2(x)\n",
    "        return self.layer_3(x)\n",
    "\n",
    "\n",
    "model = MyModel(base_model=base_model)\n",
    "\n",
    "model.compile(optimizer='adam', loss='sparse_categorical_crossentropy', metrics='accuracy')\n",
    "\n",
    "model.fit(train_data, epochs=2)"
   ]
  }
 ],
 "metadata": {
  "kernelspec": {
   "display_name": "empire",
   "language": "python",
   "name": "python3"
  },
  "language_info": {
   "codemirror_mode": {
    "name": "ipython",
    "version": 3
   },
   "file_extension": ".py",
   "mimetype": "text/x-python",
   "name": "python",
   "nbconvert_exporter": "python",
   "pygments_lexer": "ipython3",
   "version": "3.12.5"
  }
 },
 "nbformat": 4,
 "nbformat_minor": 5
}
