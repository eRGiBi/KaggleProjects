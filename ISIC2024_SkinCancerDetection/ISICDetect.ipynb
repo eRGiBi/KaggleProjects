{
 "cells": [
  {
   "cell_type": "markdown",
   "id": "b260f5b3bb829a73",
   "metadata": {},
   "source": [
    "\n",
    "# ISIC 2024 - Skin Cancer Detection with 3D-TBP\n",
    "\n",
    "Nicholas Kurtansky, Veronica Rotemberg, Maura Gillis, Kivanc Kose, Walter Reade, Ashley Chow. (2024). ISIC 2024 - Skin Cancer Detection with 3D-TBP. Kaggle. \n",
    "\n",
    "https://kaggle.com/competitions/isic-2024-challenge\n",
    "\n",
    "Currently heavily in development."
   ]
  },
  {
   "cell_type": "code",
   "id": "2c1f0d5502d23b8d",
   "metadata": {
    "ExecuteTime": {
     "end_time": "2025-01-12T22:38:48.218522Z",
     "start_time": "2025-01-12T22:38:44.602346Z"
    }
   },
   "source": [
    "import os\n",
    "import os.path as path\n",
    "import gc\n",
    "# import cv2\n",
    "import math\n",
    "import copy\n",
    "import time\n",
    "import random\n",
    "import glob\n",
    "import warnings\n",
    "\n",
    "import h5py\n",
    "\n",
    "import matplotlib as mpl\n",
    "from matplotlib import pyplot as plt\n",
    "import seaborn as sns\n",
    "from PIL import Image\n",
    "\n",
    "from functools import partial\n",
    "\n",
    "import numpy as np\n",
    "import pandas as pd\n",
    "\n",
    "# import torch\n",
    "# import torch.nn as nn\n",
    "# import torch.optim as optim\n",
    "# import torch.nn.functional as F\n",
    "# from torch.optim import lr_scheduler\n",
    "# from torch.utils.data import Dataset, DataLoader\n",
    "# from torch.cuda import amp\n",
    "# import torchvision\n",
    "# from torcheval.metrics.functional import binary_auroc\n",
    " \n",
    "import tensorflow as tf\n",
    "from tensorflow.keras import backend as K\n",
    "\n",
    "from sklearn.preprocessing import LabelEncoder\n",
    "from sklearn.model_selection import StratifiedKFold, StratifiedGroupKFold \n",
    "import sklearn\n",
    "from sklearn.metrics import confusion_matrix\n",
    "from sklearn.model_selection import train_test_split\n",
    "from sklearn.preprocessing import StandardScaler\n",
    "from sklearn.metrics import classification_report\n",
    "\n",
    "# import timm\n",
    "\n",
    "import albumentations as A\n",
    "# from albumentations.pytorch import ToTensorV2\n",
    "\n",
    "from Params import Params"
   ],
   "outputs": [],
   "execution_count": 1
  },
  {
   "cell_type": "code",
   "id": "af1f8aa9ef07d246",
   "metadata": {
    "ExecuteTime": {
     "end_time": "2025-01-12T22:38:48.922540Z",
     "start_time": "2025-01-12T22:38:48.219526Z"
    }
   },
   "source": [
    "# Variables\n",
    "\n",
    "seed = 4761\n",
    "# seed_gen = tf.keras.random.SeedGenerator(seed=seed)\n",
    "seed_gen = tf.random.Generator.from_seed(seed)\n",
    "AUTOTUNE = tf.data.experimental.AUTOTUNE\n",
    "\n",
    "TIME = time.strftime(\"%m-%d-%H-%M-%S\")\n",
    "\n",
    "params = Params()\n",
    "\n",
    "env_cfg = {\n",
    "    \"TIME\": TIME,\n",
    "    \"seed\": seed,\n",
    "    # \"device\": nn.device(\"cuda:0\" if nn.cuda. else \"cpu\"),\n",
    "    \"device\" : \"GPU\" if tf.config.list_physical_devices('GPU') else \"CPU\",\n",
    "    \"verbosity\": '3',\n",
    "    \"visualize\" : False,\n",
    "}\n",
    "\n",
    "data_config = {\n",
    "    \"img_size\": 384,\n",
    "    \"train_ratio\" : 0.9,\n",
    "}\n",
    "\n",
    "visualize = env_cfg[\"visualize\"]"
   ],
   "outputs": [],
   "execution_count": 2
  },
  {
   "metadata": {
    "ExecuteTime": {
     "end_time": "2025-01-12T22:38:48.938540Z",
     "start_time": "2025-01-12T22:38:48.923541Z"
    }
   },
   "cell_type": "code",
   "source": [
    "experiment_path = f\"./ISIC2024_SkinCancerDetection/experiments/experiment_{TIME}\"\n",
    "chekpoint_path = f\"{experiment_path}/checkpoints\"\n",
    "log_path = f\"{experiment_path}/logs\""
   ],
   "id": "57995d21c3a06c8b",
   "outputs": [],
   "execution_count": 3
  },
  {
   "metadata": {
    "ExecuteTime": {
     "end_time": "2025-01-12T22:38:48.954541Z",
     "start_time": "2025-01-12T22:38:48.940545Z"
    }
   },
   "cell_type": "code",
   "source": [
    "print(f\"Using device: {env_cfg['device']}\")\n",
    "print(f\"At: {TIME}\")"
   ],
   "id": "e2a6a118b6308d31",
   "outputs": [
    {
     "name": "stdout",
     "output_type": "stream",
     "text": [
      "Using device: GPU\n",
      "At: 01-12-23-38-48\n"
     ]
    }
   ],
   "execution_count": 4
  },
  {
   "cell_type": "code",
   "id": "cbbfd15a",
   "metadata": {
    "ExecuteTime": {
     "end_time": "2025-01-12T22:38:48.970542Z",
     "start_time": "2025-01-12T22:38:48.955542Z"
    }
   },
   "source": [
    "# Neural net hyperparameters \n",
    "\n",
    "net_params = {\n",
    "    \"activation_func\": \"relu\",\n",
    "    \"initializer\": tf.keras.initializers.HeNormal(seed=seed),\n",
    "    \"dense_initializer\": tf.keras.initializers.HeNormal(seed=seed),\n",
    "    \"batch_size\": 16,\n",
    "    \"num_epochs\": 40,\n",
    "    \"learning_rate\": 5e-6,\n",
    "    \"criterion\": tf.keras.losses.BinaryCrossentropy(),\n",
    "}\n",
    "\n",
    "# activation_func = 'gelu'\n",
    "activation_func = net_params[\"activation_func\"]\n",
    "# activation_func = 'mish'\n",
    "batch_size = net_params[\"batch_size\"]\n",
    "num_epochs = net_params[\"num_epochs\"]\n",
    "learning_rate = net_params[\"learning_rate\"]\n",
    "criterion = net_params[\"criterion\"]\n",
    "\n",
    "# initializer = tf.keras.initializers.GlorotUniform(seed=CONFIG[\"seed\"])\n",
    "initializer = net_params[\"initializer\"]\n",
    "dense_initializer = net_params[\"dense_initializer\"]"
   ],
   "outputs": [],
   "execution_count": 5
  },
  {
   "metadata": {},
   "cell_type": "code",
   "outputs": [],
   "execution_count": null,
   "source": [
    "params.from_dict(env_cfg)\n",
    "params.from_dict(data_config)\n",
    "params.from_dict(net_params)\n",
    "\n",
    "params.to_json(f\"{experiment_path}/params.json\")"
   ],
   "id": "463603951be5182"
  },
  {
   "cell_type": "code",
   "id": "3818397e011fe631",
   "metadata": {
    "ExecuteTime": {
     "end_time": "2025-01-12T22:38:48.986542Z",
     "start_time": "2025-01-12T22:38:48.971542Z"
    }
   },
   "source": [
    "warnings.filterwarnings(\"ignore\")\n",
    "\n",
    "# For descriptive error messages\n",
    "os.environ['CUDA_LAUNCH_BLOCKING'] = env_cfg[\"verbosity\"]\n",
    "os.environ['TF_CPP_MIN_LOG_LEVEL'] = env_cfg[\"verbosity\"]\n",
    "\n",
    "mpl.rcParams['figure.figsize'] = (12, 10)\n",
    "colors = plt.rcParams['axes.prop_cycle'].by_key()['color']"
   ],
   "outputs": [],
   "execution_count": 6
  },
  {
   "cell_type": "code",
   "id": "fa199a14",
   "metadata": {
    "ExecuteTime": {
     "end_time": "2025-01-12T22:38:49.001544Z",
     "start_time": "2025-01-12T22:38:48.987542Z"
    }
   },
   "source": [
    "# os.environ[\"XLA_PYTHON_CLIENT_PREALLOCATE\"]=\"false\"\n",
    "# os.environ[\"XLA_PYTHON_CLIENT_MEM_FRACTION\"]=\".XX\"\n",
    "# os.environ[\"XLA_PYTHON_CLIENT_ALLOCATOR\"]=\"platform\"\n",
    "\n",
    "tf.debugging.set_log_device_placement(False)"
   ],
   "outputs": [],
   "execution_count": 7
  },
  {
   "cell_type": "code",
   "id": "e9800f6d5fd076a6",
   "metadata": {
    "ExecuteTime": {
     "end_time": "2025-01-12T22:38:49.033550Z",
     "start_time": "2025-01-12T22:38:49.018551Z"
    }
   },
   "source": [
    "def set_seed(seed=42):\n",
    "\n",
    "    os.environ['PYTHONHASHSEED'] = str(seed)\n",
    "    random.seed(seed)\n",
    "    np.random.seed(seed)\n",
    "    \n",
    "    tf.random.set_seed(seed)\n",
    "    \n",
    "    os.environ['TF_DETERMINISTIC_OPS'] = '1'\n",
    "    os.environ['TF_CUDNN_DETERMINISTIC'] = '1'\n",
    "    \n",
    "    # tf.config.threading.set_inter_op_parallelism_threads(1)\n",
    "    # tf.config.threading.set_intra_op_parallelism_threads(1)\n",
    "    \n",
    "    # torch.manual_seed(seed)\n",
    "    # torch.cuda.manual_seed(seed)\n",
    "  \n",
    "    # torch.backends.cudnn.deterministic = True\n",
    "    # torch.backends.cudnn.benchmark = False\n",
    "    \n",
    "set_seed(seed)"
   ],
   "outputs": [],
   "execution_count": 9
  },
  {
   "cell_type": "code",
   "id": "cbc6df94436a8e14",
   "metadata": {
    "ExecuteTime": {
     "end_time": "2025-01-12T22:38:51.316548Z",
     "start_time": "2025-01-12T22:38:49.036551Z"
    }
   },
   "source": [
    "ROOT_DIR = path.normpath(\"./data/\")\n",
    "TRAIN_DIR = f'{ROOT_DIR}/train-image/image/'\n",
    "\n",
    "image_paths = sorted(glob.glob(f\"{TRAIN_DIR}/*.jpg\"))\n",
    "print(TRAIN_DIR)\n",
    "print(\"Number of train_images:\", len(image_paths))"
   ],
   "outputs": [
    {
     "name": "stdout",
     "output_type": "stream",
     "text": [
      "data/train-image/image/\n",
      "Number of train_images: 401059\n"
     ]
    }
   ],
   "execution_count": 10
  },
  {
   "cell_type": "code",
   "id": "34a0135258a81a2a",
   "metadata": {
    "ExecuteTime": {
     "end_time": "2025-01-12T22:38:51.332549Z",
     "start_time": "2025-01-12T22:38:51.317550Z"
    }
   },
   "source": "image_paths[:5]",
   "outputs": [
    {
     "data": {
      "text/plain": [
       "['data/train-image/image\\\\ISIC_0015670.jpg',\n",
       " 'data/train-image/image\\\\ISIC_0015845.jpg',\n",
       " 'data/train-image/image\\\\ISIC_0015864.jpg',\n",
       " 'data/train-image/image\\\\ISIC_0015902.jpg',\n",
       " 'data/train-image/image\\\\ISIC_0024200.jpg']"
      ]
     },
     "execution_count": 11,
     "metadata": {},
     "output_type": "execute_result"
    }
   ],
   "execution_count": 11
  },
  {
   "cell_type": "code",
   "id": "1065aad28535f2e9",
   "metadata": {
    "ExecuteTime": {
     "end_time": "2025-01-12T22:38:51.347548Z",
     "start_time": "2025-01-12T22:38:51.333549Z"
    }
   },
   "source": [
    "# For extracted dataset\n",
    "def get_train_file_path(image_id):\n",
    "    return f\"{TRAIN_DIR}/{image_id}.jpg\""
   ],
   "outputs": [],
   "execution_count": 12
  },
  {
   "metadata": {
    "ExecuteTime": {
     "end_time": "2025-01-12T22:38:51.363550Z",
     "start_time": "2025-01-12T22:38:51.348553Z"
    }
   },
   "cell_type": "code",
   "source": [
    "def show_sample_from_id(image_id):\n",
    "    image_path = get_train_file_path(image_id)\n",
    "    image = cv2.imread(image_path)\n",
    "    plt.imshow(image)\n",
    "    plt.axis('off')\n",
    "    plt.show()\n",
    "\n",
    "if visualize:\n",
    "    show_sample_from_id(\"ISIC_0015864\")"
   ],
   "id": "702e6a1c7ceec21d",
   "outputs": [],
   "execution_count": 13
  },
  {
   "metadata": {
    "ExecuteTime": {
     "end_time": "2025-01-12T22:38:51.379550Z",
     "start_time": "2025-01-12T22:38:51.364550Z"
    }
   },
   "cell_type": "code",
   "source": [
    "def show_sample_from_hdf5(image_id):\n",
    "    image = training_validation_hdf5[image_id][()]\n",
    "    image = cv2.imdecode(np.frombuffer(image, np.uint8), cv2.IMREAD_COLOR)\n",
    "    plt.imshow(image)\n",
    "    plt.axis('off')\n",
    "    plt.show()\n"
   ],
   "id": "84d79ef6a65bf153",
   "outputs": [],
   "execution_count": 14
  },
  {
   "cell_type": "code",
   "id": "8f29376d58197683",
   "metadata": {
    "ExecuteTime": {
     "end_time": "2025-01-12T22:38:54.027549Z",
     "start_time": "2025-01-12T22:38:51.380551Z"
    }
   },
   "source": [
    "df = pd.read_csv(f\"{ROOT_DIR}/train-metadata.csv\")\n",
    "df.info()"
   ],
   "outputs": [
    {
     "name": "stdout",
     "output_type": "stream",
     "text": [
      "<class 'pandas.core.frame.DataFrame'>\n",
      "RangeIndex: 401059 entries, 0 to 401058\n",
      "Data columns (total 55 columns):\n",
      " #   Column                        Non-Null Count   Dtype  \n",
      "---  ------                        --------------   -----  \n",
      " 0   isic_id                       401059 non-null  object \n",
      " 1   target                        401059 non-null  int64  \n",
      " 2   patient_id                    401059 non-null  object \n",
      " 3   age_approx                    398261 non-null  float64\n",
      " 4   sex                           389542 non-null  object \n",
      " 5   anatom_site_general           395303 non-null  object \n",
      " 6   clin_size_long_diam_mm        401059 non-null  float64\n",
      " 7   image_type                    401059 non-null  object \n",
      " 8   tbp_tile_type                 401059 non-null  object \n",
      " 9   tbp_lv_A                      401059 non-null  float64\n",
      " 10  tbp_lv_Aext                   401059 non-null  float64\n",
      " 11  tbp_lv_B                      401059 non-null  float64\n",
      " 12  tbp_lv_Bext                   401059 non-null  float64\n",
      " 13  tbp_lv_C                      401059 non-null  float64\n",
      " 14  tbp_lv_Cext                   401059 non-null  float64\n",
      " 15  tbp_lv_H                      401059 non-null  float64\n",
      " 16  tbp_lv_Hext                   401059 non-null  float64\n",
      " 17  tbp_lv_L                      401059 non-null  float64\n",
      " 18  tbp_lv_Lext                   401059 non-null  float64\n",
      " 19  tbp_lv_areaMM2                401059 non-null  float64\n",
      " 20  tbp_lv_area_perim_ratio       401059 non-null  float64\n",
      " 21  tbp_lv_color_std_mean         401059 non-null  float64\n",
      " 22  tbp_lv_deltaA                 401059 non-null  float64\n",
      " 23  tbp_lv_deltaB                 401059 non-null  float64\n",
      " 24  tbp_lv_deltaL                 401059 non-null  float64\n",
      " 25  tbp_lv_deltaLB                401059 non-null  float64\n",
      " 26  tbp_lv_deltaLBnorm            401059 non-null  float64\n",
      " 27  tbp_lv_eccentricity           401059 non-null  float64\n",
      " 28  tbp_lv_location               401059 non-null  object \n",
      " 29  tbp_lv_location_simple        401059 non-null  object \n",
      " 30  tbp_lv_minorAxisMM            401059 non-null  float64\n",
      " 31  tbp_lv_nevi_confidence        401059 non-null  float64\n",
      " 32  tbp_lv_norm_border            401059 non-null  float64\n",
      " 33  tbp_lv_norm_color             401059 non-null  float64\n",
      " 34  tbp_lv_perimeterMM            401059 non-null  float64\n",
      " 35  tbp_lv_radial_color_std_max   401059 non-null  float64\n",
      " 36  tbp_lv_stdL                   401059 non-null  float64\n",
      " 37  tbp_lv_stdLExt                401059 non-null  float64\n",
      " 38  tbp_lv_symm_2axis             401059 non-null  float64\n",
      " 39  tbp_lv_symm_2axis_angle       401059 non-null  int64  \n",
      " 40  tbp_lv_x                      401059 non-null  float64\n",
      " 41  tbp_lv_y                      401059 non-null  float64\n",
      " 42  tbp_lv_z                      401059 non-null  float64\n",
      " 43  attribution                   401059 non-null  object \n",
      " 44  copyright_license             401059 non-null  object \n",
      " 45  lesion_id                     22058 non-null   object \n",
      " 46  iddx_full                     401059 non-null  object \n",
      " 47  iddx_1                        401059 non-null  object \n",
      " 48  iddx_2                        1068 non-null    object \n",
      " 49  iddx_3                        1065 non-null    object \n",
      " 50  iddx_4                        551 non-null     object \n",
      " 51  iddx_5                        1 non-null       object \n",
      " 52  mel_mitotic_index             53 non-null      object \n",
      " 53  mel_thick_mm                  63 non-null      float64\n",
      " 54  tbp_lv_dnn_lesion_confidence  401059 non-null  float64\n",
      "dtypes: float64(35), int64(2), object(18)\n",
      "memory usage: 168.3+ MB\n"
     ]
    }
   ],
   "execution_count": 15
  },
  {
   "cell_type": "code",
   "id": "1435e240",
   "metadata": {
    "ExecuteTime": {
     "end_time": "2025-01-12T22:38:55.083549Z",
     "start_time": "2025-01-12T22:38:54.028552Z"
    }
   },
   "source": [
    "df.describe(include=\"all\").T"
   ],
   "outputs": [
    {
     "data": {
      "text/plain": [
       "                                 count  unique  \\\n",
       "isic_id                         401059  401059   \n",
       "target                        401059.0     NaN   \n",
       "patient_id                      401059    1042   \n",
       "age_approx                    398261.0     NaN   \n",
       "sex                             389542       2   \n",
       "anatom_site_general             395303       5   \n",
       "clin_size_long_diam_mm        401059.0     NaN   \n",
       "image_type                      401059       1   \n",
       "tbp_tile_type                   401059       2   \n",
       "tbp_lv_A                      401059.0     NaN   \n",
       "tbp_lv_Aext                   401059.0     NaN   \n",
       "tbp_lv_B                      401059.0     NaN   \n",
       "tbp_lv_Bext                   401059.0     NaN   \n",
       "tbp_lv_C                      401059.0     NaN   \n",
       "tbp_lv_Cext                   401059.0     NaN   \n",
       "tbp_lv_H                      401059.0     NaN   \n",
       "tbp_lv_Hext                   401059.0     NaN   \n",
       "tbp_lv_L                      401059.0     NaN   \n",
       "tbp_lv_Lext                   401059.0     NaN   \n",
       "tbp_lv_areaMM2                401059.0     NaN   \n",
       "tbp_lv_area_perim_ratio       401059.0     NaN   \n",
       "tbp_lv_color_std_mean         401059.0     NaN   \n",
       "tbp_lv_deltaA                 401059.0     NaN   \n",
       "tbp_lv_deltaB                 401059.0     NaN   \n",
       "tbp_lv_deltaL                 401059.0     NaN   \n",
       "tbp_lv_deltaLB                401059.0     NaN   \n",
       "tbp_lv_deltaLBnorm            401059.0     NaN   \n",
       "tbp_lv_eccentricity           401059.0     NaN   \n",
       "tbp_lv_location                 401059      21   \n",
       "tbp_lv_location_simple          401059       8   \n",
       "tbp_lv_minorAxisMM            401059.0     NaN   \n",
       "tbp_lv_nevi_confidence        401059.0     NaN   \n",
       "tbp_lv_norm_border            401059.0     NaN   \n",
       "tbp_lv_norm_color             401059.0     NaN   \n",
       "tbp_lv_perimeterMM            401059.0     NaN   \n",
       "tbp_lv_radial_color_std_max   401059.0     NaN   \n",
       "tbp_lv_stdL                   401059.0     NaN   \n",
       "tbp_lv_stdLExt                401059.0     NaN   \n",
       "tbp_lv_symm_2axis             401059.0     NaN   \n",
       "tbp_lv_symm_2axis_angle       401059.0     NaN   \n",
       "tbp_lv_x                      401059.0     NaN   \n",
       "tbp_lv_y                      401059.0     NaN   \n",
       "tbp_lv_z                      401059.0     NaN   \n",
       "attribution                     401059       7   \n",
       "copyright_license               401059       3   \n",
       "lesion_id                        22058   22058   \n",
       "iddx_full                       401059      52   \n",
       "iddx_1                          401059       3   \n",
       "iddx_2                            1068      14   \n",
       "iddx_3                            1065      25   \n",
       "iddx_4                             551      26   \n",
       "iddx_5                               1       1   \n",
       "mel_mitotic_index                   53       7   \n",
       "mel_thick_mm                      63.0     NaN   \n",
       "tbp_lv_dnn_lesion_confidence  401059.0     NaN   \n",
       "\n",
       "                                                                 top    freq  \\\n",
       "isic_id                                                 ISIC_0015670       1   \n",
       "target                                                           NaN     NaN   \n",
       "patient_id                                                IP_1117889    9184   \n",
       "age_approx                                                       NaN     NaN   \n",
       "sex                                                             male  265546   \n",
       "anatom_site_general                                  posterior torso  121902   \n",
       "clin_size_long_diam_mm                                           NaN     NaN   \n",
       "image_type                                        TBP tile: close-up  401059   \n",
       "tbp_tile_type                                                 3D: XP  285903   \n",
       "tbp_lv_A                                                         NaN     NaN   \n",
       "tbp_lv_Aext                                                      NaN     NaN   \n",
       "tbp_lv_B                                                         NaN     NaN   \n",
       "tbp_lv_Bext                                                      NaN     NaN   \n",
       "tbp_lv_C                                                         NaN     NaN   \n",
       "tbp_lv_Cext                                                      NaN     NaN   \n",
       "tbp_lv_H                                                         NaN     NaN   \n",
       "tbp_lv_Hext                                                      NaN     NaN   \n",
       "tbp_lv_L                                                         NaN     NaN   \n",
       "tbp_lv_Lext                                                      NaN     NaN   \n",
       "tbp_lv_areaMM2                                                   NaN     NaN   \n",
       "tbp_lv_area_perim_ratio                                          NaN     NaN   \n",
       "tbp_lv_color_std_mean                                            NaN     NaN   \n",
       "tbp_lv_deltaA                                                    NaN     NaN   \n",
       "tbp_lv_deltaB                                                    NaN     NaN   \n",
       "tbp_lv_deltaL                                                    NaN     NaN   \n",
       "tbp_lv_deltaLB                                                   NaN     NaN   \n",
       "tbp_lv_deltaLBnorm                                               NaN     NaN   \n",
       "tbp_lv_eccentricity                                              NaN     NaN   \n",
       "tbp_lv_location                                 Torso Back Top Third   71112   \n",
       "tbp_lv_location_simple                                    Torso Back  121902   \n",
       "tbp_lv_minorAxisMM                                               NaN     NaN   \n",
       "tbp_lv_nevi_confidence                                           NaN     NaN   \n",
       "tbp_lv_norm_border                                               NaN     NaN   \n",
       "tbp_lv_norm_color                                                NaN     NaN   \n",
       "tbp_lv_perimeterMM                                               NaN     NaN   \n",
       "tbp_lv_radial_color_std_max                                      NaN     NaN   \n",
       "tbp_lv_stdL                                                      NaN     NaN   \n",
       "tbp_lv_stdLExt                                                   NaN     NaN   \n",
       "tbp_lv_symm_2axis                                                NaN     NaN   \n",
       "tbp_lv_symm_2axis_angle                                          NaN     NaN   \n",
       "tbp_lv_x                                                         NaN     NaN   \n",
       "tbp_lv_y                                                         NaN     NaN   \n",
       "tbp_lv_z                                                         NaN     NaN   \n",
       "attribution                   Memorial Sloan Kettering Cancer Center  129068   \n",
       "copyright_license                                              CC-BY  188812   \n",
       "lesion_id                                                 IL_6727506       1   \n",
       "iddx_full                                                     Benign  399991   \n",
       "iddx_1                                                        Benign  400552   \n",
       "iddx_2                             Benign melanocytic proliferations     443   \n",
       "iddx_3                                                         Nevus     443   \n",
       "iddx_4                         Nevus, Atypical, Dysplastic, or Clark     228   \n",
       "iddx_5                                          Blue nevus, Cellular       1   \n",
       "mel_mitotic_index                                             0/mm^2      22   \n",
       "mel_thick_mm                                                     NaN     NaN   \n",
       "tbp_lv_dnn_lesion_confidence                                     NaN     NaN   \n",
       "\n",
       "                                     mean         std         min         25%  \\\n",
       "isic_id                               NaN         NaN         NaN         NaN   \n",
       "target                            0.00098    0.031288         0.0         0.0   \n",
       "patient_id                            NaN         NaN         NaN         NaN   \n",
       "age_approx                      58.012986   13.596165         5.0        50.0   \n",
       "sex                                   NaN         NaN         NaN         NaN   \n",
       "anatom_site_general                   NaN         NaN         NaN         NaN   \n",
       "clin_size_long_diam_mm           3.930827    1.743068         1.0        2.84   \n",
       "image_type                            NaN         NaN         NaN         NaN   \n",
       "tbp_tile_type                         NaN         NaN         NaN         NaN   \n",
       "tbp_lv_A                        19.974007    3.999489   -2.487115   17.330821   \n",
       "tbp_lv_Aext                     14.919247    3.529384   -9.080269    12.46974   \n",
       "tbp_lv_B                        28.281706    5.278676   -0.730989   24.704372   \n",
       "tbp_lv_Bext                     26.913015    4.482994    9.237066   23.848125   \n",
       "tbp_lv_C                        34.786341    5.708469    3.054228   31.003148   \n",
       "tbp_lv_Cext                     30.921279    4.829345    11.84652   27.658285   \n",
       "tbp_lv_H                        54.653689    5.520849   -1.574164   51.566273   \n",
       "tbp_lv_Hext                     60.996869    5.631909    28.43649    57.29763   \n",
       "tbp_lv_L                        42.289976   10.864572    4.223007   34.303345   \n",
       "tbp_lv_Lext                     51.199529   12.100527    17.70226   42.274506   \n",
       "tbp_lv_areaMM2                   8.539975    9.679312    0.431601    4.109589   \n",
       "tbp_lv_area_perim_ratio         19.084517    5.357863   10.761634   15.426205   \n",
       "tbp_lv_color_std_mean            1.070408    0.762918         0.0    0.574909   \n",
       "tbp_lv_deltaA                     5.05476    2.642928   -13.81985    3.413108   \n",
       "tbp_lv_deltaB                    1.368691    2.215871  -18.088106     0.11103   \n",
       "tbp_lv_deltaL                   -8.909552    3.463362   -38.75614   -10.67547   \n",
       "tbp_lv_deltaLB                   9.455766    3.466703    2.952675    6.952377   \n",
       "tbp_lv_deltaLBnorm               7.538922    2.404951    3.001138     5.74816   \n",
       "tbp_lv_eccentricity              0.741238    0.143857    0.027667    0.656627   \n",
       "tbp_lv_location                       NaN         NaN         NaN         NaN   \n",
       "tbp_lv_location_simple                NaN         NaN         NaN         NaN   \n",
       "tbp_lv_minorAxisMM               2.539773    1.173169    0.273973    1.812707   \n",
       "tbp_lv_nevi_confidence          38.520265   41.480936         0.0    0.109819   \n",
       "tbp_lv_norm_border               3.451523    1.724557    0.589426    2.143836   \n",
       "tbp_lv_norm_color                 3.09159    2.044813         0.0    1.728774   \n",
       "tbp_lv_perimeterMM              11.878891    5.919302    2.579237    8.338364   \n",
       "tbp_lv_radial_color_std_max      1.016459    0.734631         0.0    0.563891   \n",
       "tbp_lv_stdL                       2.71519    1.738165     0.26816     1.45657   \n",
       "tbp_lv_stdLExt                   2.238605    0.623884    0.636247    1.834745   \n",
       "tbp_lv_symm_2axis                0.306823    0.125038    0.052034    0.211429   \n",
       "tbp_lv_symm_2axis_angle         86.332073   52.559511         0.0        40.0   \n",
       "tbp_lv_x                        -3.091862  197.257995 -624.870728 -147.022125   \n",
       "tbp_lv_y                      1039.598221  409.819653   -1052.134  746.519673   \n",
       "tbp_lv_z                        55.823389   87.968245 -291.890442   -8.962647   \n",
       "attribution                           NaN         NaN         NaN         NaN   \n",
       "copyright_license                     NaN         NaN         NaN         NaN   \n",
       "lesion_id                             NaN         NaN         NaN         NaN   \n",
       "iddx_full                             NaN         NaN         NaN         NaN   \n",
       "iddx_1                                NaN         NaN         NaN         NaN   \n",
       "iddx_2                                NaN         NaN         NaN         NaN   \n",
       "iddx_3                                NaN         NaN         NaN         NaN   \n",
       "iddx_4                                NaN         NaN         NaN         NaN   \n",
       "iddx_5                                NaN         NaN         NaN         NaN   \n",
       "mel_mitotic_index                     NaN         NaN         NaN         NaN   \n",
       "mel_thick_mm                     0.670952    0.792798         0.2         0.3   \n",
       "tbp_lv_dnn_lesion_confidence    97.162204    8.995782         0.0   99.668824   \n",
       "\n",
       "                                    50%         75%          max  \n",
       "isic_id                             NaN         NaN          NaN  \n",
       "target                              0.0         0.0          1.0  \n",
       "patient_id                          NaN         NaN          NaN  \n",
       "age_approx                         60.0        70.0         85.0  \n",
       "sex                                 NaN         NaN          NaN  \n",
       "anatom_site_general                 NaN         NaN          NaN  \n",
       "clin_size_long_diam_mm             3.37        4.38         28.4  \n",
       "image_type                          NaN         NaN          NaN  \n",
       "tbp_tile_type                       NaN         NaN          NaN  \n",
       "tbp_lv_A                       19.80191   22.304628     48.18961  \n",
       "tbp_lv_Aext                    14.71393   17.137175     37.02168  \n",
       "tbp_lv_B                       28.17157   31.637429      54.3069  \n",
       "tbp_lv_Bext                   26.701704   29.679913      48.3727  \n",
       "tbp_lv_C                       34.82258   38.430298     58.76517  \n",
       "tbp_lv_Cext                   30.804893   33.963868     54.30529  \n",
       "tbp_lv_H                      55.035632   58.298184   105.875784  \n",
       "tbp_lv_Hext                   61.109173   64.905025     130.9833  \n",
       "tbp_lv_L                       42.34377   50.405051    87.548888  \n",
       "tbp_lv_Lext                   51.425557   60.495607     98.58825  \n",
       "tbp_lv_areaMM2                  5.68587     9.11991     334.1527  \n",
       "tbp_lv_area_perim_ratio        17.42395    21.01134     87.20534  \n",
       "tbp_lv_color_std_mean          0.931402    1.412154     9.952932  \n",
       "tbp_lv_deltaA                  4.643926    6.274246     32.13759  \n",
       "tbp_lv_deltaB                  1.593945    2.850638     12.64393  \n",
       "tbp_lv_deltaL                 -8.132223   -6.397103    -1.590631  \n",
       "tbp_lv_deltaLB                 8.699932   11.243486     39.19772  \n",
       "tbp_lv_deltaLBnorm              6.94632    8.748403    30.487456  \n",
       "tbp_lv_eccentricity            0.768215    0.853175      0.97496  \n",
       "tbp_lv_location                     NaN         NaN          NaN  \n",
       "tbp_lv_location_simple              NaN         NaN          NaN  \n",
       "tbp_lv_minorAxisMM             2.265201    2.905918      18.3879  \n",
       "tbp_lv_nevi_confidence        14.408514   87.791395        100.0  \n",
       "tbp_lv_norm_border             2.996933    4.358399         10.0  \n",
       "tbp_lv_norm_color              2.764664    4.120246         10.0  \n",
       "tbp_lv_perimeterMM             10.01544     13.2091     102.4939  \n",
       "tbp_lv_radial_color_std_max    0.902281    1.334523     11.49114  \n",
       "tbp_lv_stdL                    2.186693    3.474565     17.56365  \n",
       "tbp_lv_stdLExt                 2.149758    2.531443    25.534791  \n",
       "tbp_lv_symm_2axis              0.282297    0.382022     0.977055  \n",
       "tbp_lv_symm_2axis_angle            90.0       130.0        175.0  \n",
       "tbp_lv_x                      -5.747253  140.474835     614.4717  \n",
       "tbp_lv_y                       1172.803  1342.13154  1887.766846  \n",
       "tbp_lv_z                      67.957947  126.611567      319.407  \n",
       "attribution                         NaN         NaN          NaN  \n",
       "copyright_license                   NaN         NaN          NaN  \n",
       "lesion_id                           NaN         NaN          NaN  \n",
       "iddx_full                           NaN         NaN          NaN  \n",
       "iddx_1                              NaN         NaN          NaN  \n",
       "iddx_2                              NaN         NaN          NaN  \n",
       "iddx_3                              NaN         NaN          NaN  \n",
       "iddx_4                              NaN         NaN          NaN  \n",
       "iddx_5                              NaN         NaN          NaN  \n",
       "mel_mitotic_index                   NaN         NaN          NaN  \n",
       "mel_thick_mm                        0.4         0.6          5.0  \n",
       "tbp_lv_dnn_lesion_confidence  99.994588    99.99996        100.0  "
      ],
      "text/html": [
       "<div>\n",
       "<style scoped>\n",
       "    .dataframe tbody tr th:only-of-type {\n",
       "        vertical-align: middle;\n",
       "    }\n",
       "\n",
       "    .dataframe tbody tr th {\n",
       "        vertical-align: top;\n",
       "    }\n",
       "\n",
       "    .dataframe thead th {\n",
       "        text-align: right;\n",
       "    }\n",
       "</style>\n",
       "<table border=\"1\" class=\"dataframe\">\n",
       "  <thead>\n",
       "    <tr style=\"text-align: right;\">\n",
       "      <th></th>\n",
       "      <th>count</th>\n",
       "      <th>unique</th>\n",
       "      <th>top</th>\n",
       "      <th>freq</th>\n",
       "      <th>mean</th>\n",
       "      <th>std</th>\n",
       "      <th>min</th>\n",
       "      <th>25%</th>\n",
       "      <th>50%</th>\n",
       "      <th>75%</th>\n",
       "      <th>max</th>\n",
       "    </tr>\n",
       "  </thead>\n",
       "  <tbody>\n",
       "    <tr>\n",
       "      <th>isic_id</th>\n",
       "      <td>401059</td>\n",
       "      <td>401059</td>\n",
       "      <td>ISIC_0015670</td>\n",
       "      <td>1</td>\n",
       "      <td>NaN</td>\n",
       "      <td>NaN</td>\n",
       "      <td>NaN</td>\n",
       "      <td>NaN</td>\n",
       "      <td>NaN</td>\n",
       "      <td>NaN</td>\n",
       "      <td>NaN</td>\n",
       "    </tr>\n",
       "    <tr>\n",
       "      <th>target</th>\n",
       "      <td>401059.0</td>\n",
       "      <td>NaN</td>\n",
       "      <td>NaN</td>\n",
       "      <td>NaN</td>\n",
       "      <td>0.00098</td>\n",
       "      <td>0.031288</td>\n",
       "      <td>0.0</td>\n",
       "      <td>0.0</td>\n",
       "      <td>0.0</td>\n",
       "      <td>0.0</td>\n",
       "      <td>1.0</td>\n",
       "    </tr>\n",
       "    <tr>\n",
       "      <th>patient_id</th>\n",
       "      <td>401059</td>\n",
       "      <td>1042</td>\n",
       "      <td>IP_1117889</td>\n",
       "      <td>9184</td>\n",
       "      <td>NaN</td>\n",
       "      <td>NaN</td>\n",
       "      <td>NaN</td>\n",
       "      <td>NaN</td>\n",
       "      <td>NaN</td>\n",
       "      <td>NaN</td>\n",
       "      <td>NaN</td>\n",
       "    </tr>\n",
       "    <tr>\n",
       "      <th>age_approx</th>\n",
       "      <td>398261.0</td>\n",
       "      <td>NaN</td>\n",
       "      <td>NaN</td>\n",
       "      <td>NaN</td>\n",
       "      <td>58.012986</td>\n",
       "      <td>13.596165</td>\n",
       "      <td>5.0</td>\n",
       "      <td>50.0</td>\n",
       "      <td>60.0</td>\n",
       "      <td>70.0</td>\n",
       "      <td>85.0</td>\n",
       "    </tr>\n",
       "    <tr>\n",
       "      <th>sex</th>\n",
       "      <td>389542</td>\n",
       "      <td>2</td>\n",
       "      <td>male</td>\n",
       "      <td>265546</td>\n",
       "      <td>NaN</td>\n",
       "      <td>NaN</td>\n",
       "      <td>NaN</td>\n",
       "      <td>NaN</td>\n",
       "      <td>NaN</td>\n",
       "      <td>NaN</td>\n",
       "      <td>NaN</td>\n",
       "    </tr>\n",
       "    <tr>\n",
       "      <th>anatom_site_general</th>\n",
       "      <td>395303</td>\n",
       "      <td>5</td>\n",
       "      <td>posterior torso</td>\n",
       "      <td>121902</td>\n",
       "      <td>NaN</td>\n",
       "      <td>NaN</td>\n",
       "      <td>NaN</td>\n",
       "      <td>NaN</td>\n",
       "      <td>NaN</td>\n",
       "      <td>NaN</td>\n",
       "      <td>NaN</td>\n",
       "    </tr>\n",
       "    <tr>\n",
       "      <th>clin_size_long_diam_mm</th>\n",
       "      <td>401059.0</td>\n",
       "      <td>NaN</td>\n",
       "      <td>NaN</td>\n",
       "      <td>NaN</td>\n",
       "      <td>3.930827</td>\n",
       "      <td>1.743068</td>\n",
       "      <td>1.0</td>\n",
       "      <td>2.84</td>\n",
       "      <td>3.37</td>\n",
       "      <td>4.38</td>\n",
       "      <td>28.4</td>\n",
       "    </tr>\n",
       "    <tr>\n",
       "      <th>image_type</th>\n",
       "      <td>401059</td>\n",
       "      <td>1</td>\n",
       "      <td>TBP tile: close-up</td>\n",
       "      <td>401059</td>\n",
       "      <td>NaN</td>\n",
       "      <td>NaN</td>\n",
       "      <td>NaN</td>\n",
       "      <td>NaN</td>\n",
       "      <td>NaN</td>\n",
       "      <td>NaN</td>\n",
       "      <td>NaN</td>\n",
       "    </tr>\n",
       "    <tr>\n",
       "      <th>tbp_tile_type</th>\n",
       "      <td>401059</td>\n",
       "      <td>2</td>\n",
       "      <td>3D: XP</td>\n",
       "      <td>285903</td>\n",
       "      <td>NaN</td>\n",
       "      <td>NaN</td>\n",
       "      <td>NaN</td>\n",
       "      <td>NaN</td>\n",
       "      <td>NaN</td>\n",
       "      <td>NaN</td>\n",
       "      <td>NaN</td>\n",
       "    </tr>\n",
       "    <tr>\n",
       "      <th>tbp_lv_A</th>\n",
       "      <td>401059.0</td>\n",
       "      <td>NaN</td>\n",
       "      <td>NaN</td>\n",
       "      <td>NaN</td>\n",
       "      <td>19.974007</td>\n",
       "      <td>3.999489</td>\n",
       "      <td>-2.487115</td>\n",
       "      <td>17.330821</td>\n",
       "      <td>19.80191</td>\n",
       "      <td>22.304628</td>\n",
       "      <td>48.18961</td>\n",
       "    </tr>\n",
       "    <tr>\n",
       "      <th>tbp_lv_Aext</th>\n",
       "      <td>401059.0</td>\n",
       "      <td>NaN</td>\n",
       "      <td>NaN</td>\n",
       "      <td>NaN</td>\n",
       "      <td>14.919247</td>\n",
       "      <td>3.529384</td>\n",
       "      <td>-9.080269</td>\n",
       "      <td>12.46974</td>\n",
       "      <td>14.71393</td>\n",
       "      <td>17.137175</td>\n",
       "      <td>37.02168</td>\n",
       "    </tr>\n",
       "    <tr>\n",
       "      <th>tbp_lv_B</th>\n",
       "      <td>401059.0</td>\n",
       "      <td>NaN</td>\n",
       "      <td>NaN</td>\n",
       "      <td>NaN</td>\n",
       "      <td>28.281706</td>\n",
       "      <td>5.278676</td>\n",
       "      <td>-0.730989</td>\n",
       "      <td>24.704372</td>\n",
       "      <td>28.17157</td>\n",
       "      <td>31.637429</td>\n",
       "      <td>54.3069</td>\n",
       "    </tr>\n",
       "    <tr>\n",
       "      <th>tbp_lv_Bext</th>\n",
       "      <td>401059.0</td>\n",
       "      <td>NaN</td>\n",
       "      <td>NaN</td>\n",
       "      <td>NaN</td>\n",
       "      <td>26.913015</td>\n",
       "      <td>4.482994</td>\n",
       "      <td>9.237066</td>\n",
       "      <td>23.848125</td>\n",
       "      <td>26.701704</td>\n",
       "      <td>29.679913</td>\n",
       "      <td>48.3727</td>\n",
       "    </tr>\n",
       "    <tr>\n",
       "      <th>tbp_lv_C</th>\n",
       "      <td>401059.0</td>\n",
       "      <td>NaN</td>\n",
       "      <td>NaN</td>\n",
       "      <td>NaN</td>\n",
       "      <td>34.786341</td>\n",
       "      <td>5.708469</td>\n",
       "      <td>3.054228</td>\n",
       "      <td>31.003148</td>\n",
       "      <td>34.82258</td>\n",
       "      <td>38.430298</td>\n",
       "      <td>58.76517</td>\n",
       "    </tr>\n",
       "    <tr>\n",
       "      <th>tbp_lv_Cext</th>\n",
       "      <td>401059.0</td>\n",
       "      <td>NaN</td>\n",
       "      <td>NaN</td>\n",
       "      <td>NaN</td>\n",
       "      <td>30.921279</td>\n",
       "      <td>4.829345</td>\n",
       "      <td>11.84652</td>\n",
       "      <td>27.658285</td>\n",
       "      <td>30.804893</td>\n",
       "      <td>33.963868</td>\n",
       "      <td>54.30529</td>\n",
       "    </tr>\n",
       "    <tr>\n",
       "      <th>tbp_lv_H</th>\n",
       "      <td>401059.0</td>\n",
       "      <td>NaN</td>\n",
       "      <td>NaN</td>\n",
       "      <td>NaN</td>\n",
       "      <td>54.653689</td>\n",
       "      <td>5.520849</td>\n",
       "      <td>-1.574164</td>\n",
       "      <td>51.566273</td>\n",
       "      <td>55.035632</td>\n",
       "      <td>58.298184</td>\n",
       "      <td>105.875784</td>\n",
       "    </tr>\n",
       "    <tr>\n",
       "      <th>tbp_lv_Hext</th>\n",
       "      <td>401059.0</td>\n",
       "      <td>NaN</td>\n",
       "      <td>NaN</td>\n",
       "      <td>NaN</td>\n",
       "      <td>60.996869</td>\n",
       "      <td>5.631909</td>\n",
       "      <td>28.43649</td>\n",
       "      <td>57.29763</td>\n",
       "      <td>61.109173</td>\n",
       "      <td>64.905025</td>\n",
       "      <td>130.9833</td>\n",
       "    </tr>\n",
       "    <tr>\n",
       "      <th>tbp_lv_L</th>\n",
       "      <td>401059.0</td>\n",
       "      <td>NaN</td>\n",
       "      <td>NaN</td>\n",
       "      <td>NaN</td>\n",
       "      <td>42.289976</td>\n",
       "      <td>10.864572</td>\n",
       "      <td>4.223007</td>\n",
       "      <td>34.303345</td>\n",
       "      <td>42.34377</td>\n",
       "      <td>50.405051</td>\n",
       "      <td>87.548888</td>\n",
       "    </tr>\n",
       "    <tr>\n",
       "      <th>tbp_lv_Lext</th>\n",
       "      <td>401059.0</td>\n",
       "      <td>NaN</td>\n",
       "      <td>NaN</td>\n",
       "      <td>NaN</td>\n",
       "      <td>51.199529</td>\n",
       "      <td>12.100527</td>\n",
       "      <td>17.70226</td>\n",
       "      <td>42.274506</td>\n",
       "      <td>51.425557</td>\n",
       "      <td>60.495607</td>\n",
       "      <td>98.58825</td>\n",
       "    </tr>\n",
       "    <tr>\n",
       "      <th>tbp_lv_areaMM2</th>\n",
       "      <td>401059.0</td>\n",
       "      <td>NaN</td>\n",
       "      <td>NaN</td>\n",
       "      <td>NaN</td>\n",
       "      <td>8.539975</td>\n",
       "      <td>9.679312</td>\n",
       "      <td>0.431601</td>\n",
       "      <td>4.109589</td>\n",
       "      <td>5.68587</td>\n",
       "      <td>9.11991</td>\n",
       "      <td>334.1527</td>\n",
       "    </tr>\n",
       "    <tr>\n",
       "      <th>tbp_lv_area_perim_ratio</th>\n",
       "      <td>401059.0</td>\n",
       "      <td>NaN</td>\n",
       "      <td>NaN</td>\n",
       "      <td>NaN</td>\n",
       "      <td>19.084517</td>\n",
       "      <td>5.357863</td>\n",
       "      <td>10.761634</td>\n",
       "      <td>15.426205</td>\n",
       "      <td>17.42395</td>\n",
       "      <td>21.01134</td>\n",
       "      <td>87.20534</td>\n",
       "    </tr>\n",
       "    <tr>\n",
       "      <th>tbp_lv_color_std_mean</th>\n",
       "      <td>401059.0</td>\n",
       "      <td>NaN</td>\n",
       "      <td>NaN</td>\n",
       "      <td>NaN</td>\n",
       "      <td>1.070408</td>\n",
       "      <td>0.762918</td>\n",
       "      <td>0.0</td>\n",
       "      <td>0.574909</td>\n",
       "      <td>0.931402</td>\n",
       "      <td>1.412154</td>\n",
       "      <td>9.952932</td>\n",
       "    </tr>\n",
       "    <tr>\n",
       "      <th>tbp_lv_deltaA</th>\n",
       "      <td>401059.0</td>\n",
       "      <td>NaN</td>\n",
       "      <td>NaN</td>\n",
       "      <td>NaN</td>\n",
       "      <td>5.05476</td>\n",
       "      <td>2.642928</td>\n",
       "      <td>-13.81985</td>\n",
       "      <td>3.413108</td>\n",
       "      <td>4.643926</td>\n",
       "      <td>6.274246</td>\n",
       "      <td>32.13759</td>\n",
       "    </tr>\n",
       "    <tr>\n",
       "      <th>tbp_lv_deltaB</th>\n",
       "      <td>401059.0</td>\n",
       "      <td>NaN</td>\n",
       "      <td>NaN</td>\n",
       "      <td>NaN</td>\n",
       "      <td>1.368691</td>\n",
       "      <td>2.215871</td>\n",
       "      <td>-18.088106</td>\n",
       "      <td>0.11103</td>\n",
       "      <td>1.593945</td>\n",
       "      <td>2.850638</td>\n",
       "      <td>12.64393</td>\n",
       "    </tr>\n",
       "    <tr>\n",
       "      <th>tbp_lv_deltaL</th>\n",
       "      <td>401059.0</td>\n",
       "      <td>NaN</td>\n",
       "      <td>NaN</td>\n",
       "      <td>NaN</td>\n",
       "      <td>-8.909552</td>\n",
       "      <td>3.463362</td>\n",
       "      <td>-38.75614</td>\n",
       "      <td>-10.67547</td>\n",
       "      <td>-8.132223</td>\n",
       "      <td>-6.397103</td>\n",
       "      <td>-1.590631</td>\n",
       "    </tr>\n",
       "    <tr>\n",
       "      <th>tbp_lv_deltaLB</th>\n",
       "      <td>401059.0</td>\n",
       "      <td>NaN</td>\n",
       "      <td>NaN</td>\n",
       "      <td>NaN</td>\n",
       "      <td>9.455766</td>\n",
       "      <td>3.466703</td>\n",
       "      <td>2.952675</td>\n",
       "      <td>6.952377</td>\n",
       "      <td>8.699932</td>\n",
       "      <td>11.243486</td>\n",
       "      <td>39.19772</td>\n",
       "    </tr>\n",
       "    <tr>\n",
       "      <th>tbp_lv_deltaLBnorm</th>\n",
       "      <td>401059.0</td>\n",
       "      <td>NaN</td>\n",
       "      <td>NaN</td>\n",
       "      <td>NaN</td>\n",
       "      <td>7.538922</td>\n",
       "      <td>2.404951</td>\n",
       "      <td>3.001138</td>\n",
       "      <td>5.74816</td>\n",
       "      <td>6.94632</td>\n",
       "      <td>8.748403</td>\n",
       "      <td>30.487456</td>\n",
       "    </tr>\n",
       "    <tr>\n",
       "      <th>tbp_lv_eccentricity</th>\n",
       "      <td>401059.0</td>\n",
       "      <td>NaN</td>\n",
       "      <td>NaN</td>\n",
       "      <td>NaN</td>\n",
       "      <td>0.741238</td>\n",
       "      <td>0.143857</td>\n",
       "      <td>0.027667</td>\n",
       "      <td>0.656627</td>\n",
       "      <td>0.768215</td>\n",
       "      <td>0.853175</td>\n",
       "      <td>0.97496</td>\n",
       "    </tr>\n",
       "    <tr>\n",
       "      <th>tbp_lv_location</th>\n",
       "      <td>401059</td>\n",
       "      <td>21</td>\n",
       "      <td>Torso Back Top Third</td>\n",
       "      <td>71112</td>\n",
       "      <td>NaN</td>\n",
       "      <td>NaN</td>\n",
       "      <td>NaN</td>\n",
       "      <td>NaN</td>\n",
       "      <td>NaN</td>\n",
       "      <td>NaN</td>\n",
       "      <td>NaN</td>\n",
       "    </tr>\n",
       "    <tr>\n",
       "      <th>tbp_lv_location_simple</th>\n",
       "      <td>401059</td>\n",
       "      <td>8</td>\n",
       "      <td>Torso Back</td>\n",
       "      <td>121902</td>\n",
       "      <td>NaN</td>\n",
       "      <td>NaN</td>\n",
       "      <td>NaN</td>\n",
       "      <td>NaN</td>\n",
       "      <td>NaN</td>\n",
       "      <td>NaN</td>\n",
       "      <td>NaN</td>\n",
       "    </tr>\n",
       "    <tr>\n",
       "      <th>tbp_lv_minorAxisMM</th>\n",
       "      <td>401059.0</td>\n",
       "      <td>NaN</td>\n",
       "      <td>NaN</td>\n",
       "      <td>NaN</td>\n",
       "      <td>2.539773</td>\n",
       "      <td>1.173169</td>\n",
       "      <td>0.273973</td>\n",
       "      <td>1.812707</td>\n",
       "      <td>2.265201</td>\n",
       "      <td>2.905918</td>\n",
       "      <td>18.3879</td>\n",
       "    </tr>\n",
       "    <tr>\n",
       "      <th>tbp_lv_nevi_confidence</th>\n",
       "      <td>401059.0</td>\n",
       "      <td>NaN</td>\n",
       "      <td>NaN</td>\n",
       "      <td>NaN</td>\n",
       "      <td>38.520265</td>\n",
       "      <td>41.480936</td>\n",
       "      <td>0.0</td>\n",
       "      <td>0.109819</td>\n",
       "      <td>14.408514</td>\n",
       "      <td>87.791395</td>\n",
       "      <td>100.0</td>\n",
       "    </tr>\n",
       "    <tr>\n",
       "      <th>tbp_lv_norm_border</th>\n",
       "      <td>401059.0</td>\n",
       "      <td>NaN</td>\n",
       "      <td>NaN</td>\n",
       "      <td>NaN</td>\n",
       "      <td>3.451523</td>\n",
       "      <td>1.724557</td>\n",
       "      <td>0.589426</td>\n",
       "      <td>2.143836</td>\n",
       "      <td>2.996933</td>\n",
       "      <td>4.358399</td>\n",
       "      <td>10.0</td>\n",
       "    </tr>\n",
       "    <tr>\n",
       "      <th>tbp_lv_norm_color</th>\n",
       "      <td>401059.0</td>\n",
       "      <td>NaN</td>\n",
       "      <td>NaN</td>\n",
       "      <td>NaN</td>\n",
       "      <td>3.09159</td>\n",
       "      <td>2.044813</td>\n",
       "      <td>0.0</td>\n",
       "      <td>1.728774</td>\n",
       "      <td>2.764664</td>\n",
       "      <td>4.120246</td>\n",
       "      <td>10.0</td>\n",
       "    </tr>\n",
       "    <tr>\n",
       "      <th>tbp_lv_perimeterMM</th>\n",
       "      <td>401059.0</td>\n",
       "      <td>NaN</td>\n",
       "      <td>NaN</td>\n",
       "      <td>NaN</td>\n",
       "      <td>11.878891</td>\n",
       "      <td>5.919302</td>\n",
       "      <td>2.579237</td>\n",
       "      <td>8.338364</td>\n",
       "      <td>10.01544</td>\n",
       "      <td>13.2091</td>\n",
       "      <td>102.4939</td>\n",
       "    </tr>\n",
       "    <tr>\n",
       "      <th>tbp_lv_radial_color_std_max</th>\n",
       "      <td>401059.0</td>\n",
       "      <td>NaN</td>\n",
       "      <td>NaN</td>\n",
       "      <td>NaN</td>\n",
       "      <td>1.016459</td>\n",
       "      <td>0.734631</td>\n",
       "      <td>0.0</td>\n",
       "      <td>0.563891</td>\n",
       "      <td>0.902281</td>\n",
       "      <td>1.334523</td>\n",
       "      <td>11.49114</td>\n",
       "    </tr>\n",
       "    <tr>\n",
       "      <th>tbp_lv_stdL</th>\n",
       "      <td>401059.0</td>\n",
       "      <td>NaN</td>\n",
       "      <td>NaN</td>\n",
       "      <td>NaN</td>\n",
       "      <td>2.71519</td>\n",
       "      <td>1.738165</td>\n",
       "      <td>0.26816</td>\n",
       "      <td>1.45657</td>\n",
       "      <td>2.186693</td>\n",
       "      <td>3.474565</td>\n",
       "      <td>17.56365</td>\n",
       "    </tr>\n",
       "    <tr>\n",
       "      <th>tbp_lv_stdLExt</th>\n",
       "      <td>401059.0</td>\n",
       "      <td>NaN</td>\n",
       "      <td>NaN</td>\n",
       "      <td>NaN</td>\n",
       "      <td>2.238605</td>\n",
       "      <td>0.623884</td>\n",
       "      <td>0.636247</td>\n",
       "      <td>1.834745</td>\n",
       "      <td>2.149758</td>\n",
       "      <td>2.531443</td>\n",
       "      <td>25.534791</td>\n",
       "    </tr>\n",
       "    <tr>\n",
       "      <th>tbp_lv_symm_2axis</th>\n",
       "      <td>401059.0</td>\n",
       "      <td>NaN</td>\n",
       "      <td>NaN</td>\n",
       "      <td>NaN</td>\n",
       "      <td>0.306823</td>\n",
       "      <td>0.125038</td>\n",
       "      <td>0.052034</td>\n",
       "      <td>0.211429</td>\n",
       "      <td>0.282297</td>\n",
       "      <td>0.382022</td>\n",
       "      <td>0.977055</td>\n",
       "    </tr>\n",
       "    <tr>\n",
       "      <th>tbp_lv_symm_2axis_angle</th>\n",
       "      <td>401059.0</td>\n",
       "      <td>NaN</td>\n",
       "      <td>NaN</td>\n",
       "      <td>NaN</td>\n",
       "      <td>86.332073</td>\n",
       "      <td>52.559511</td>\n",
       "      <td>0.0</td>\n",
       "      <td>40.0</td>\n",
       "      <td>90.0</td>\n",
       "      <td>130.0</td>\n",
       "      <td>175.0</td>\n",
       "    </tr>\n",
       "    <tr>\n",
       "      <th>tbp_lv_x</th>\n",
       "      <td>401059.0</td>\n",
       "      <td>NaN</td>\n",
       "      <td>NaN</td>\n",
       "      <td>NaN</td>\n",
       "      <td>-3.091862</td>\n",
       "      <td>197.257995</td>\n",
       "      <td>-624.870728</td>\n",
       "      <td>-147.022125</td>\n",
       "      <td>-5.747253</td>\n",
       "      <td>140.474835</td>\n",
       "      <td>614.4717</td>\n",
       "    </tr>\n",
       "    <tr>\n",
       "      <th>tbp_lv_y</th>\n",
       "      <td>401059.0</td>\n",
       "      <td>NaN</td>\n",
       "      <td>NaN</td>\n",
       "      <td>NaN</td>\n",
       "      <td>1039.598221</td>\n",
       "      <td>409.819653</td>\n",
       "      <td>-1052.134</td>\n",
       "      <td>746.519673</td>\n",
       "      <td>1172.803</td>\n",
       "      <td>1342.13154</td>\n",
       "      <td>1887.766846</td>\n",
       "    </tr>\n",
       "    <tr>\n",
       "      <th>tbp_lv_z</th>\n",
       "      <td>401059.0</td>\n",
       "      <td>NaN</td>\n",
       "      <td>NaN</td>\n",
       "      <td>NaN</td>\n",
       "      <td>55.823389</td>\n",
       "      <td>87.968245</td>\n",
       "      <td>-291.890442</td>\n",
       "      <td>-8.962647</td>\n",
       "      <td>67.957947</td>\n",
       "      <td>126.611567</td>\n",
       "      <td>319.407</td>\n",
       "    </tr>\n",
       "    <tr>\n",
       "      <th>attribution</th>\n",
       "      <td>401059</td>\n",
       "      <td>7</td>\n",
       "      <td>Memorial Sloan Kettering Cancer Center</td>\n",
       "      <td>129068</td>\n",
       "      <td>NaN</td>\n",
       "      <td>NaN</td>\n",
       "      <td>NaN</td>\n",
       "      <td>NaN</td>\n",
       "      <td>NaN</td>\n",
       "      <td>NaN</td>\n",
       "      <td>NaN</td>\n",
       "    </tr>\n",
       "    <tr>\n",
       "      <th>copyright_license</th>\n",
       "      <td>401059</td>\n",
       "      <td>3</td>\n",
       "      <td>CC-BY</td>\n",
       "      <td>188812</td>\n",
       "      <td>NaN</td>\n",
       "      <td>NaN</td>\n",
       "      <td>NaN</td>\n",
       "      <td>NaN</td>\n",
       "      <td>NaN</td>\n",
       "      <td>NaN</td>\n",
       "      <td>NaN</td>\n",
       "    </tr>\n",
       "    <tr>\n",
       "      <th>lesion_id</th>\n",
       "      <td>22058</td>\n",
       "      <td>22058</td>\n",
       "      <td>IL_6727506</td>\n",
       "      <td>1</td>\n",
       "      <td>NaN</td>\n",
       "      <td>NaN</td>\n",
       "      <td>NaN</td>\n",
       "      <td>NaN</td>\n",
       "      <td>NaN</td>\n",
       "      <td>NaN</td>\n",
       "      <td>NaN</td>\n",
       "    </tr>\n",
       "    <tr>\n",
       "      <th>iddx_full</th>\n",
       "      <td>401059</td>\n",
       "      <td>52</td>\n",
       "      <td>Benign</td>\n",
       "      <td>399991</td>\n",
       "      <td>NaN</td>\n",
       "      <td>NaN</td>\n",
       "      <td>NaN</td>\n",
       "      <td>NaN</td>\n",
       "      <td>NaN</td>\n",
       "      <td>NaN</td>\n",
       "      <td>NaN</td>\n",
       "    </tr>\n",
       "    <tr>\n",
       "      <th>iddx_1</th>\n",
       "      <td>401059</td>\n",
       "      <td>3</td>\n",
       "      <td>Benign</td>\n",
       "      <td>400552</td>\n",
       "      <td>NaN</td>\n",
       "      <td>NaN</td>\n",
       "      <td>NaN</td>\n",
       "      <td>NaN</td>\n",
       "      <td>NaN</td>\n",
       "      <td>NaN</td>\n",
       "      <td>NaN</td>\n",
       "    </tr>\n",
       "    <tr>\n",
       "      <th>iddx_2</th>\n",
       "      <td>1068</td>\n",
       "      <td>14</td>\n",
       "      <td>Benign melanocytic proliferations</td>\n",
       "      <td>443</td>\n",
       "      <td>NaN</td>\n",
       "      <td>NaN</td>\n",
       "      <td>NaN</td>\n",
       "      <td>NaN</td>\n",
       "      <td>NaN</td>\n",
       "      <td>NaN</td>\n",
       "      <td>NaN</td>\n",
       "    </tr>\n",
       "    <tr>\n",
       "      <th>iddx_3</th>\n",
       "      <td>1065</td>\n",
       "      <td>25</td>\n",
       "      <td>Nevus</td>\n",
       "      <td>443</td>\n",
       "      <td>NaN</td>\n",
       "      <td>NaN</td>\n",
       "      <td>NaN</td>\n",
       "      <td>NaN</td>\n",
       "      <td>NaN</td>\n",
       "      <td>NaN</td>\n",
       "      <td>NaN</td>\n",
       "    </tr>\n",
       "    <tr>\n",
       "      <th>iddx_4</th>\n",
       "      <td>551</td>\n",
       "      <td>26</td>\n",
       "      <td>Nevus, Atypical, Dysplastic, or Clark</td>\n",
       "      <td>228</td>\n",
       "      <td>NaN</td>\n",
       "      <td>NaN</td>\n",
       "      <td>NaN</td>\n",
       "      <td>NaN</td>\n",
       "      <td>NaN</td>\n",
       "      <td>NaN</td>\n",
       "      <td>NaN</td>\n",
       "    </tr>\n",
       "    <tr>\n",
       "      <th>iddx_5</th>\n",
       "      <td>1</td>\n",
       "      <td>1</td>\n",
       "      <td>Blue nevus, Cellular</td>\n",
       "      <td>1</td>\n",
       "      <td>NaN</td>\n",
       "      <td>NaN</td>\n",
       "      <td>NaN</td>\n",
       "      <td>NaN</td>\n",
       "      <td>NaN</td>\n",
       "      <td>NaN</td>\n",
       "      <td>NaN</td>\n",
       "    </tr>\n",
       "    <tr>\n",
       "      <th>mel_mitotic_index</th>\n",
       "      <td>53</td>\n",
       "      <td>7</td>\n",
       "      <td>0/mm^2</td>\n",
       "      <td>22</td>\n",
       "      <td>NaN</td>\n",
       "      <td>NaN</td>\n",
       "      <td>NaN</td>\n",
       "      <td>NaN</td>\n",
       "      <td>NaN</td>\n",
       "      <td>NaN</td>\n",
       "      <td>NaN</td>\n",
       "    </tr>\n",
       "    <tr>\n",
       "      <th>mel_thick_mm</th>\n",
       "      <td>63.0</td>\n",
       "      <td>NaN</td>\n",
       "      <td>NaN</td>\n",
       "      <td>NaN</td>\n",
       "      <td>0.670952</td>\n",
       "      <td>0.792798</td>\n",
       "      <td>0.2</td>\n",
       "      <td>0.3</td>\n",
       "      <td>0.4</td>\n",
       "      <td>0.6</td>\n",
       "      <td>5.0</td>\n",
       "    </tr>\n",
       "    <tr>\n",
       "      <th>tbp_lv_dnn_lesion_confidence</th>\n",
       "      <td>401059.0</td>\n",
       "      <td>NaN</td>\n",
       "      <td>NaN</td>\n",
       "      <td>NaN</td>\n",
       "      <td>97.162204</td>\n",
       "      <td>8.995782</td>\n",
       "      <td>0.0</td>\n",
       "      <td>99.668824</td>\n",
       "      <td>99.994588</td>\n",
       "      <td>99.99996</td>\n",
       "      <td>100.0</td>\n",
       "    </tr>\n",
       "  </tbody>\n",
       "</table>\n",
       "</div>"
      ]
     },
     "execution_count": 16,
     "metadata": {},
     "output_type": "execute_result"
    }
   ],
   "execution_count": 16
  },
  {
   "metadata": {
    "ExecuteTime": {
     "end_time": "2025-01-12T22:38:55.099550Z",
     "start_time": "2025-01-12T22:38:55.084551Z"
    }
   },
   "cell_type": "code",
   "source": "",
   "id": "268c00e484a3cd33",
   "outputs": [],
   "execution_count": 16
  },
  {
   "cell_type": "code",
   "id": "eb0965b2",
   "metadata": {
    "ExecuteTime": {
     "end_time": "2025-01-12T22:38:55.754549Z",
     "start_time": "2025-01-12T22:38:55.100551Z"
    }
   },
   "source": [
    "id_values = df[\"patient_id\"].value_counts()\n",
    "\n",
    "plt.figure(figsize=(10, 6))\n",
    "sns.histplot(id_values, bins=50, kde=False)\n",
    "plt.yscale('log')\n",
    "plt.title('Distribution of Number of Images per Patient')\n",
    "plt.xlabel('Number of Images')\n",
    "plt.ylabel('Frequency (log scale)')\n",
    "plt.show()"
   ],
   "outputs": [
    {
     "data": {
      "text/plain": [
       "<Figure size 1000x600 with 1 Axes>"
      ],
      "image/png": "[encoded data removed]"
     },
     "metadata": {},
     "output_type": "display_data"
    }
   ],
   "execution_count": 17
  },
  {
   "cell_type": "code",
   "id": "f9b43db1",
   "metadata": {
    "ExecuteTime": {
     "end_time": "2025-01-12T22:38:55.770549Z",
     "start_time": "2025-01-12T22:38:55.755550Z"
    }
   },
   "source": [
    "patient_with_most_images = id_values.idxmax()\n",
    "most_images_count = id_values.max()\n",
    "\n",
    "print(f\"Patient ID with the most images: {patient_with_most_images}\")\n",
    "print(f\"Number of images: {most_images_count}\")"
   ],
   "outputs": [
    {
     "name": "stdout",
     "output_type": "stream",
     "text": [
      "Patient ID with the most images: IP_1117889\n",
      "Number of images: 9184\n"
     ]
    }
   ],
   "execution_count": 18
  },
  {
   "cell_type": "code",
   "id": "cbd67d11fb95b117",
   "metadata": {
    "ExecuteTime": {
     "end_time": "2025-01-12T22:38:55.961548Z",
     "start_time": "2025-01-12T22:38:55.771550Z"
    }
   },
   "source": [
    "df_positive = df[df[\"target\"] == 1].reset_index(drop=True)\n",
    "df_negative = df[df[\"target\"] == 0].reset_index(drop=True)\n",
    "\n",
    "print(\"Unique patients:\",  df[\"patient_id\"].unique().shape[0])\n",
    "print()\n",
    "\n",
    "print(\"Positive patient images:\", df_positive.shape[0])\n",
    "print(\"Unique patients with positive images:\",  df_positive[\"patient_id\"].unique().shape[0])\n",
    "print()\n",
    "\n",
    "print(\"Negative patient images:\", df_negative.shape[0])\n",
    "print(\"Unique patients with negative images:\",  df_negative[\"patient_id\"].unique().shape[0])"
   ],
   "outputs": [
    {
     "name": "stdout",
     "output_type": "stream",
     "text": [
      "Unique patients: 1042\n",
      "\n",
      "Positive patient images: 393\n",
      "Unique patients with positive images: 259\n",
      "\n",
      "Negative patient images: 400666\n",
      "Unique patients with negative images: 1041\n"
     ]
    }
   ],
   "execution_count": 19
  },
  {
   "cell_type": "code",
   "id": "df418174",
   "metadata": {
    "ExecuteTime": {
     "end_time": "2025-01-12T22:38:55.977549Z",
     "start_time": "2025-01-12T22:38:55.962551Z"
    }
   },
   "source": [
    "neg, pos = df[\"target\"].value_counts()\n",
    "total = neg + pos\n",
    "print('Examples:\\n    Total: {}\\n    Positive: {} ({:.2f}% of total)\\n'.format(\n",
    "    total, pos, 100 * pos / total))"
   ],
   "outputs": [
    {
     "name": "stdout",
     "output_type": "stream",
     "text": [
      "Examples:\n",
      "    Total: 401059\n",
      "    Positive: 393 (0.10% of total)\n",
      "\n"
     ]
    }
   ],
   "execution_count": 20
  },
  {
   "cell_type": "code",
   "id": "890bcc0e",
   "metadata": {
    "ExecuteTime": {
     "end_time": "2025-01-12T22:38:56.024550Z",
     "start_time": "2025-01-12T22:38:55.978552Z"
    }
   },
   "source": [
    "# Dataset class balancing\n",
    "\n",
    "df = pd.concat([df_positive, df_negative.iloc[:df_positive.shape[0]*7, :]])  \n",
    "print(\"Reduced dataset shape:\", df.shape, df.target.sum(), df[\"patient_id\"].unique().shape)\n",
    "\n",
    "df['file_path'] = df['isic_id'].apply(get_train_file_path)\n",
    "\n",
    "# df = df[ df[\"file_path\"].isin(train_images) ].reset_index(drop=True)\n",
    "\n",
    "df.head()"
   ],
   "outputs": [
    {
     "name": "stdout",
     "output_type": "stream",
     "text": [
      "Reduced dataset shape: (3144, 55) 393 (788,)\n"
     ]
    },
    {
     "data": {
      "text/plain": [
       "        isic_id  target  patient_id  age_approx     sex anatom_site_general  \\\n",
       "0  ISIC_0082829       1  IP_3249371        80.0  female      anterior torso   \n",
       "1  ISIC_0096034       1  IP_6723298        75.0    male           head/neck   \n",
       "2  ISIC_0104229       1  IP_9057861        80.0    male      anterior torso   \n",
       "3  ISIC_0119495       1  IP_6856511        60.0    male     upper extremity   \n",
       "4  ISIC_0157834       1  IP_3927284        55.0    male     posterior torso   \n",
       "\n",
       "   clin_size_long_diam_mm          image_type tbp_tile_type   tbp_lv_A  ...  \\\n",
       "0                    9.27  TBP tile: close-up        3D: XP  18.093368  ...   \n",
       "1                    3.88  TBP tile: close-up     3D: white  26.187010  ...   \n",
       "2                    6.55  TBP tile: close-up     3D: white  33.480140  ...   \n",
       "3                    5.27  TBP tile: close-up     3D: white  25.872050  ...   \n",
       "4                    5.29  TBP tile: close-up     3D: white  30.966662  ...   \n",
       "\n",
       "                                           iddx_full     iddx_1  \\\n",
       "0  Malignant::Malignant epidermal proliferations:...  Malignant   \n",
       "1  Malignant::Malignant adnexal epithelial prolif...  Malignant   \n",
       "2  Malignant::Malignant adnexal epithelial prolif...  Malignant   \n",
       "3  Malignant::Malignant epidermal proliferations:...  Malignant   \n",
       "4  Malignant::Malignant adnexal epithelial prolif...  Malignant   \n",
       "\n",
       "                                              iddx_2  \\\n",
       "0                 Malignant epidermal proliferations   \n",
       "1  Malignant adnexal epithelial proliferations - ...   \n",
       "2  Malignant adnexal epithelial proliferations - ...   \n",
       "3                 Malignant epidermal proliferations   \n",
       "4  Malignant adnexal epithelial proliferations - ...   \n",
       "\n",
       "                              iddx_3                             iddx_4  \\\n",
       "0    Squamous cell carcinoma in situ                                NaN   \n",
       "1               Basal cell carcinoma      Basal cell carcinoma, Nodular   \n",
       "2               Basal cell carcinoma      Basal cell carcinoma, Nodular   \n",
       "3  Squamous cell carcinoma, Invasive                                NaN   \n",
       "4               Basal cell carcinoma  Basal cell carcinoma, Superficial   \n",
       "\n",
       "   iddx_5  mel_mitotic_index  mel_thick_mm  tbp_lv_dnn_lesion_confidence  \\\n",
       "0     NaN                NaN           NaN                     72.211683   \n",
       "1     NaN                NaN           NaN                     94.559590   \n",
       "2     NaN                NaN           NaN                     66.196170   \n",
       "3     NaN                NaN           NaN                     99.991270   \n",
       "4     NaN                NaN           NaN                     99.960846   \n",
       "\n",
       "                                  file_path  \n",
       "0  data/train-image/image//ISIC_0082829.jpg  \n",
       "1  data/train-image/image//ISIC_0096034.jpg  \n",
       "2  data/train-image/image//ISIC_0104229.jpg  \n",
       "3  data/train-image/image//ISIC_0119495.jpg  \n",
       "4  data/train-image/image//ISIC_0157834.jpg  \n",
       "\n",
       "[5 rows x 56 columns]"
      ],
      "text/html": [
       "<div>\n",
       "<style scoped>\n",
       "    .dataframe tbody tr th:only-of-type {\n",
       "        vertical-align: middle;\n",
       "    }\n",
       "\n",
       "    .dataframe tbody tr th {\n",
       "        vertical-align: top;\n",
       "    }\n",
       "\n",
       "    .dataframe thead th {\n",
       "        text-align: right;\n",
       "    }\n",
       "</style>\n",
       "<table border=\"1\" class=\"dataframe\">\n",
       "  <thead>\n",
       "    <tr style=\"text-align: right;\">\n",
       "      <th></th>\n",
       "      <th>isic_id</th>\n",
       "      <th>target</th>\n",
       "      <th>patient_id</th>\n",
       "      <th>age_approx</th>\n",
       "      <th>sex</th>\n",
       "      <th>anatom_site_general</th>\n",
       "      <th>clin_size_long_diam_mm</th>\n",
       "      <th>image_type</th>\n",
       "      <th>tbp_tile_type</th>\n",
       "      <th>tbp_lv_A</th>\n",
       "      <th>...</th>\n",
       "      <th>iddx_full</th>\n",
       "      <th>iddx_1</th>\n",
       "      <th>iddx_2</th>\n",
       "      <th>iddx_3</th>\n",
       "      <th>iddx_4</th>\n",
       "      <th>iddx_5</th>\n",
       "      <th>mel_mitotic_index</th>\n",
       "      <th>mel_thick_mm</th>\n",
       "      <th>tbp_lv_dnn_lesion_confidence</th>\n",
       "      <th>file_path</th>\n",
       "    </tr>\n",
       "  </thead>\n",
       "  <tbody>\n",
       "    <tr>\n",
       "      <th>0</th>\n",
       "      <td>ISIC_0082829</td>\n",
       "      <td>1</td>\n",
       "      <td>IP_3249371</td>\n",
       "      <td>80.0</td>\n",
       "      <td>female</td>\n",
       "      <td>anterior torso</td>\n",
       "      <td>9.27</td>\n",
       "      <td>TBP tile: close-up</td>\n",
       "      <td>3D: XP</td>\n",
       "      <td>18.093368</td>\n",
       "      <td>...</td>\n",
       "      <td>Malignant::Malignant epidermal proliferations:...</td>\n",
       "      <td>Malignant</td>\n",
       "      <td>Malignant epidermal proliferations</td>\n",
       "      <td>Squamous cell carcinoma in situ</td>\n",
       "      <td>NaN</td>\n",
       "      <td>NaN</td>\n",
       "      <td>NaN</td>\n",
       "      <td>NaN</td>\n",
       "      <td>72.211683</td>\n",
       "      <td>data/train-image/image//ISIC_0082829.jpg</td>\n",
       "    </tr>\n",
       "    <tr>\n",
       "      <th>1</th>\n",
       "      <td>ISIC_0096034</td>\n",
       "      <td>1</td>\n",
       "      <td>IP_6723298</td>\n",
       "      <td>75.0</td>\n",
       "      <td>male</td>\n",
       "      <td>head/neck</td>\n",
       "      <td>3.88</td>\n",
       "      <td>TBP tile: close-up</td>\n",
       "      <td>3D: white</td>\n",
       "      <td>26.187010</td>\n",
       "      <td>...</td>\n",
       "      <td>Malignant::Malignant adnexal epithelial prolif...</td>\n",
       "      <td>Malignant</td>\n",
       "      <td>Malignant adnexal epithelial proliferations - ...</td>\n",
       "      <td>Basal cell carcinoma</td>\n",
       "      <td>Basal cell carcinoma, Nodular</td>\n",
       "      <td>NaN</td>\n",
       "      <td>NaN</td>\n",
       "      <td>NaN</td>\n",
       "      <td>94.559590</td>\n",
       "      <td>data/train-image/image//ISIC_0096034.jpg</td>\n",
       "    </tr>\n",
       "    <tr>\n",
       "      <th>2</th>\n",
       "      <td>ISIC_0104229</td>\n",
       "      <td>1</td>\n",
       "      <td>IP_9057861</td>\n",
       "      <td>80.0</td>\n",
       "      <td>male</td>\n",
       "      <td>anterior torso</td>\n",
       "      <td>6.55</td>\n",
       "      <td>TBP tile: close-up</td>\n",
       "      <td>3D: white</td>\n",
       "      <td>33.480140</td>\n",
       "      <td>...</td>\n",
       "      <td>Malignant::Malignant adnexal epithelial prolif...</td>\n",
       "      <td>Malignant</td>\n",
       "      <td>Malignant adnexal epithelial proliferations - ...</td>\n",
       "      <td>Basal cell carcinoma</td>\n",
       "      <td>Basal cell carcinoma, Nodular</td>\n",
       "      <td>NaN</td>\n",
       "      <td>NaN</td>\n",
       "      <td>NaN</td>\n",
       "      <td>66.196170</td>\n",
       "      <td>data/train-image/image//ISIC_0104229.jpg</td>\n",
       "    </tr>\n",
       "    <tr>\n",
       "      <th>3</th>\n",
       "      <td>ISIC_0119495</td>\n",
       "      <td>1</td>\n",
       "      <td>IP_6856511</td>\n",
       "      <td>60.0</td>\n",
       "      <td>male</td>\n",
       "      <td>upper extremity</td>\n",
       "      <td>5.27</td>\n",
       "      <td>TBP tile: close-up</td>\n",
       "      <td>3D: white</td>\n",
       "      <td>25.872050</td>\n",
       "      <td>...</td>\n",
       "      <td>Malignant::Malignant epidermal proliferations:...</td>\n",
       "      <td>Malignant</td>\n",
       "      <td>Malignant epidermal proliferations</td>\n",
       "      <td>Squamous cell carcinoma, Invasive</td>\n",
       "      <td>NaN</td>\n",
       "      <td>NaN</td>\n",
       "      <td>NaN</td>\n",
       "      <td>NaN</td>\n",
       "      <td>99.991270</td>\n",
       "      <td>data/train-image/image//ISIC_0119495.jpg</td>\n",
       "    </tr>\n",
       "    <tr>\n",
       "      <th>4</th>\n",
       "      <td>ISIC_0157834</td>\n",
       "      <td>1</td>\n",
       "      <td>IP_3927284</td>\n",
       "      <td>55.0</td>\n",
       "      <td>male</td>\n",
       "      <td>posterior torso</td>\n",
       "      <td>5.29</td>\n",
       "      <td>TBP tile: close-up</td>\n",
       "      <td>3D: white</td>\n",
       "      <td>30.966662</td>\n",
       "      <td>...</td>\n",
       "      <td>Malignant::Malignant adnexal epithelial prolif...</td>\n",
       "      <td>Malignant</td>\n",
       "      <td>Malignant adnexal epithelial proliferations - ...</td>\n",
       "      <td>Basal cell carcinoma</td>\n",
       "      <td>Basal cell carcinoma, Superficial</td>\n",
       "      <td>NaN</td>\n",
       "      <td>NaN</td>\n",
       "      <td>NaN</td>\n",
       "      <td>99.960846</td>\n",
       "      <td>data/train-image/image//ISIC_0157834.jpg</td>\n",
       "    </tr>\n",
       "  </tbody>\n",
       "</table>\n",
       "<p>5 rows × 56 columns</p>\n",
       "</div>"
      ]
     },
     "execution_count": 21,
     "metadata": {},
     "output_type": "execute_result"
    }
   ],
   "execution_count": 21
  },
  {
   "metadata": {
    "ExecuteTime": {
     "end_time": "2025-01-12T22:38:56.056549Z",
     "start_time": "2025-01-12T22:38:56.025552Z"
    }
   },
   "cell_type": "code",
   "source": "del df_positive, df_negative",
   "id": "dbbc43845496f5c8",
   "outputs": [],
   "execution_count": 22
  },
  {
   "cell_type": "code",
   "id": "d6080202dd229c21",
   "metadata": {
    "ExecuteTime": {
     "end_time": "2025-01-12T22:38:56.072551Z",
     "start_time": "2025-01-12T22:38:56.057551Z"
    }
   },
   "source": [
    "print(\"Number of unique patients after balancing: \", df[\"patient_id\"].nunique())"
   ],
   "outputs": [
    {
     "name": "stdout",
     "output_type": "stream",
     "text": [
      "Number of unique patients after balancing:  788\n"
     ]
    }
   ],
   "execution_count": 23
  },
  {
   "cell_type": "code",
   "id": "3b78a46923850c84",
   "metadata": {
    "ExecuteTime": {
     "end_time": "2025-01-12T22:38:56.088549Z",
     "start_time": "2025-01-12T22:38:56.073551Z"
    }
   },
   "source": [
    "if visualize:\n",
    "    name = ['Benign', 'Malignant']\n",
    "    \n",
    "    plt.figure(figsize = (5, 5))\n",
    "    plt.pie(df.target.value_counts(normalize = True), autopct = '%1.1f%%', startangle = 90, wedgeprops = dict(width = 0.3), \n",
    "            labeldistance = 1.2, radius = 1)\n",
    "    plt.title(f'Total Target Distribution', color = 'black', fontsize = 15)\n",
    "    plt.legend(name,)\n",
    "    \n",
    "    plt.show()"
   ],
   "outputs": [],
   "execution_count": 24
  },
  {
   "cell_type": "code",
   "id": "a21d8c1738cc0ed5",
   "metadata": {
    "ExecuteTime": {
     "end_time": "2025-01-12T22:38:56.104550Z",
     "start_time": "2025-01-12T22:38:56.089552Z"
    }
   },
   "source": [
    "missing_values_count = df.isnull().sum()\n",
    "print(sorted(missing_values_count, reverse=True))"
   ],
   "outputs": [
    {
     "name": "stdout",
     "output_type": "stream",
     "text": [
      "[3144, 3091, 3081, 2901, 2745, 2745, 2591, 100, 25, 24, 0, 0, 0, 0, 0, 0, 0, 0, 0, 0, 0, 0, 0, 0, 0, 0, 0, 0, 0, 0, 0, 0, 0, 0, 0, 0, 0, 0, 0, 0, 0, 0, 0, 0, 0, 0, 0, 0, 0, 0, 0, 0, 0, 0, 0, 0]\n"
     ]
    }
   ],
   "execution_count": 25
  },
  {
   "cell_type": "code",
   "id": "8e3891b8a888b9d",
   "metadata": {
    "ExecuteTime": {
     "end_time": "2025-01-12T22:38:56.120550Z",
     "start_time": "2025-01-12T22:38:56.106550Z"
    }
   },
   "source": [
    "multi_data_transforms = {\n",
    "    \"train\": A.Compose([\n",
    "        A.Resize(data_config['img_size'], data_config['img_size']),\n",
    "        A.RandomRotate90(p=0.5),\n",
    "        A.HorizontalFlip(p=0.5),\n",
    "        A.Flip(p=0.5),\n",
    "        A.Downscale(p=0.25),\n",
    "        A.ShiftScaleRotate(shift_limit=0.1, \n",
    "                           scale_limit=0.15, \n",
    "                           rotate_limit=60, \n",
    "                           p=0.5),\n",
    "        A.HueSaturationValue(\n",
    "                hue_shift_limit=0.2, \n",
    "                sat_shift_limit=0.2, \n",
    "                val_shift_limit=0.2, \n",
    "                p=0.5\n",
    "            ),\n",
    "        A.RandomBrightnessContrast(\n",
    "                brightness_limit=(-0.1,0.1), \n",
    "                contrast_limit=(-0.1, 0.1), \n",
    "                p=0.5\n",
    "            ),\n",
    "        A.Normalize(\n",
    "                # mean=[0.485, 0.456, 0.406], \n",
    "                # std=[0.229, 0.224, 0.225], \n",
    "                max_pixel_value=255.0, \n",
    "                p=1.0\n",
    "            ),\n",
    "        # ToTensorV2()\n",
    "    ], p=1.\n",
    "                       ),\n",
    "    \n",
    "    \"valid\": A.Compose([\n",
    "        A.Resize(data_config['img_size'], data_config['img_size']),\n",
    "        A.Normalize(\n",
    "                # mean=[0.485, 0.456, 0.406], \n",
    "                # std=[0.229, 0.224, 0.225], \n",
    "                max_pixel_value=255.0, \n",
    "                p=1.0\n",
    "            ),\n",
    "        # ToTensorV2()\n",
    "        ], p=1.\n",
    "                       )\n",
    "}\n"
   ],
   "outputs": [],
   "execution_count": 26
  },
  {
   "cell_type": "code",
   "id": "8a2b9a67",
   "metadata": {
    "ExecuteTime": {
     "end_time": "2025-01-12T22:38:56.136549Z",
     "start_time": "2025-01-12T22:38:56.126550Z"
    }
   },
   "source": [
    "single_transforms = A.Compose([\n",
    "        A.Resize(data_config['img_size'], data_config['img_size']),\n",
    "        A.RandomRotate90(p=0.5),\n",
    "        A.HorizontalFlip(p=0.5),\n",
    "        A.Flip(p=0.5),\n",
    "        A.Downscale(p=0.25),\n",
    "        A.ShiftScaleRotate(shift_limit=0.1, \n",
    "                           scale_limit=0.15, \n",
    "                           rotate_limit=60, \n",
    "                           p=0.5),\n",
    "        A.HueSaturationValue(\n",
    "                hue_shift_limit=0.2, \n",
    "                sat_shift_limit=0.2, \n",
    "                val_shift_limit=0.2, \n",
    "                p=0.5\n",
    "            ),\n",
    "        A.RandomBrightnessContrast(\n",
    "                brightness_limit=(-0.1,0.1), \n",
    "                contrast_limit=(-0.1, 0.1), \n",
    "                p=0.5\n",
    "            ),\n",
    "        A.Normalize(\n",
    "                # mean=[0.485, 0.456, 0.406], \n",
    "                # std=[0.229, 0.224, 0.225], \n",
    "                max_pixel_value=255.0, \n",
    "                p=1.0\n",
    "            ),\n",
    "        # ToTensorV2()\n",
    "    ], p=1.\n",
    "    )"
   ],
   "outputs": [],
   "execution_count": 27
  },
  {
   "cell_type": "code",
   "id": "11d67e408bea3fb7",
   "metadata": {
    "ExecuteTime": {
     "end_time": "2025-01-12T22:38:56.151549Z",
     "start_time": "2025-01-12T22:38:56.137552Z"
    }
   },
   "source": [
    "def mult_aug_fn(image, img_size, train):\n",
    "    data = {\"image\":image}\n",
    "    aug_data = multi_data_transforms(**data[\"train\" if train else \"valid\"])\n",
    "    aug_img = aug_data[\"image\"]\n",
    "    aug_img = tf.cast(aug_img/255.0, tf.float32)\n",
    "    return tf.image.resize(aug_img, size=[img_size, img_size])"
   ],
   "outputs": [],
   "execution_count": 28
  },
  {
   "cell_type": "code",
   "id": "0458d4a2",
   "metadata": {
    "ExecuteTime": {
     "end_time": "2025-01-12T22:38:56.167549Z",
     "start_time": "2025-01-12T22:38:56.152552Z"
    }
   },
   "source": [
    "def apply_single_img_augmentation(image, img_size=data_config['img_size']):\n",
    "    image = np.array(image)\n",
    "    \n",
    "    if image.shape[0] <= 0 or image.shape[1] <= 0:\n",
    "        raise ValueError(\"Image has non-positive dimensions\")\n",
    "    \n",
    "    aug_data = single_transforms(image=image)\n",
    "    aug_img = aug_data[\"image\"]\n",
    "    \n",
    "    # image = tf.convert_to_tensor(image, dtype=tf.float32)\n",
    "    \n",
    "    aug_img = tf.cast(aug_img/255.0, tf.float32)\n",
    "    resized = tf.image.resize(aug_img, size=[img_size, img_size])\n",
    "\n",
    "    return resized"
   ],
   "outputs": [],
   "execution_count": 29
  },
  {
   "cell_type": "code",
   "id": "933c0d89859578ad",
   "metadata": {
    "ExecuteTime": {
     "end_time": "2025-01-12T22:38:56.183549Z",
     "start_time": "2025-01-12T22:38:56.168552Z"
    }
   },
   "source": [
    "def augment_multi_modal(image, img_size):\n",
    "    aug_img = tf.numpy_function(func=mult_aug_fn, inp=[image, img_size], Tout=tf.float32)\n",
    "    return aug_img"
   ],
   "outputs": [],
   "execution_count": 30
  },
  {
   "cell_type": "code",
   "id": "145f07d9",
   "metadata": {
    "ExecuteTime": {
     "end_time": "2025-01-12T22:38:56.199550Z",
     "start_time": "2025-01-12T22:38:56.184549Z"
    }
   },
   "source": [
    "def augment_single_img(image, label, img_size=data_config['img_size']):\n",
    "    aug_img = tf.numpy_function(func=apply_single_img_augmentation, inp=[image, img_size], Tout=tf.float32)\n",
    "    aug_img.set_shape([img_size, img_size, 3])\n",
    "    # ensure_shape\n",
    "    \n",
    "    return aug_img, label"
   ],
   "outputs": [],
   "execution_count": 31
  },
  {
   "cell_type": "code",
   "id": "fd5a77be29d925ac",
   "metadata": {
    "ExecuteTime": {
     "end_time": "2025-01-12T22:38:56.215549Z",
     "start_time": "2025-01-12T22:38:56.200550Z"
    }
   },
   "source": [
    "# Manual loading, too slow\n",
    "# x_train = []\n",
    "# y_train = []\n",
    "# with h5py.File('ISIC2024_SkinCancerDetection/data/train-image.hdf5', 'r') as f:\n",
    "#        keys = list(f.keys())\n",
    "#        for key in keys:\n",
    "#            data = f[key]\n",
    "#            x_train.append(data[()].decode('latin-1'))\n",
    "#            \n",
    "#            # x_train.append(f[key][:]) \n",
    "#            y_train.append(key)\n",
    "#               \n",
    "# print(len(x_train), len(y_train))\n",
    "# print(x_train[:5], y_train[:5])"
   ],
   "outputs": [],
   "execution_count": 32
  },
  {
   "cell_type": "code",
   "id": "d1609973c79f29c",
   "metadata": {
    "ExecuteTime": {
     "end_time": "2025-01-12T22:38:56.231549Z",
     "start_time": "2025-01-12T22:38:56.216551Z"
    }
   },
   "source": [
    "training_validation_hdf5 = h5py.File(f\"{ROOT_DIR}/train-image.hdf5\", 'r', libver='earliest')"
   ],
   "outputs": [],
   "execution_count": 33
  },
  {
   "cell_type": "code",
   "id": "98588b5f4a13f7b2",
   "metadata": {
    "ExecuteTime": {
     "end_time": "2025-01-12T22:38:56.247549Z",
     "start_time": "2025-01-12T22:38:56.232551Z"
    }
   },
   "source": [
    "# Example\n",
    "\n",
    "if visualize:\n",
    "    isic_id = df.isic_id.iloc[10]\n",
    "    \n",
    "    byte_string = training_validation_hdf5[isic_id][()]\n",
    "    # print(f\"Byte String: {byte_string[:20]}....\")\n",
    "    \n",
    "    nparr = np.frombuffer(byte_string, np.uint8)\n",
    "    \n",
    "    image = cv2.imdecode(nparr, cv2.IMREAD_COLOR)[...,::-1] # reverse last axis for bgr -> rgb\n",
    "    print(f\"Image: {image}\")\n",
    "    \n",
    "    plt.imshow(image);\n",
    "    print(f\"First image shape: {image.shape}.\")"
   ],
   "outputs": [],
   "execution_count": 34
  },
  {
   "cell_type": "code",
   "id": "ee95d87dcf594d05",
   "metadata": {
    "ExecuteTime": {
     "end_time": "2025-01-12T22:38:56.693549Z",
     "start_time": "2025-01-12T22:38:56.248554Z"
    }
   },
   "source": [
    "# Load all images\n",
    "\n",
    "data_ids = df.isic_id.values\n",
    "\n",
    "images = [None]*len(data_ids)\n",
    "for i, isic_id in enumerate(data_ids):\n",
    "    images[i] = training_validation_hdf5[isic_id][()]\n",
    "\n",
    "print(f\"Loaded {len(images)} distinct examples.\")\n",
    "\n",
    "del training_validation_hdf5"
   ],
   "outputs": [
    {
     "name": "stdout",
     "output_type": "stream",
     "text": [
      "Loaded 3144 distinct examples.\n"
     ]
    }
   ],
   "execution_count": 35
  },
  {
   "metadata": {
    "ExecuteTime": {
     "end_time": "2025-01-12T22:38:56.709551Z",
     "start_time": "2025-01-12T22:38:56.694552Z"
    }
   },
   "cell_type": "code",
   "source": "images = np.array(images)",
   "id": "f38fabf3ead23b90",
   "outputs": [],
   "execution_count": 36
  },
  {
   "cell_type": "code",
   "id": "2e658777",
   "metadata": {
    "ExecuteTime": {
     "end_time": "2025-01-12T22:38:56.725551Z",
     "start_time": "2025-01-12T22:38:56.710551Z"
    }
   },
   "source": [
    "# import concurrent.futures\n",
    "# from PIL import Image\n",
    "\n",
    "# def load_and_convert_image(image_path):\n",
    "#     # img = cv2.imread(image_path)\n",
    "#     # img = cv2.cvtColor(img, cv2.COLOR_BGR2RGB)\n",
    "#     # return img\n",
    "#     with Image.open(image_path) as img:\n",
    "#         img = img.convert('RGB')\n",
    "#         img = img.resize((CONFIG[\"img_size\"], CONFIG[\"img_size\"]))\n",
    "#         return np.array(img)\n",
    "\n",
    "# with concurrent.futures.ThreadPoolExecutor() as executor:\n",
    "#     mg = list(executor.map(load_and_convert_image, train_images))\n",
    "\n",
    "# print(f\"Loaded {len(mg)} images.\")\n",
    "# print(f\"First image shape: {mg[0].shape}.\")\n",
    "# print(f\"First image: {mg[0]}.\")"
   ],
   "outputs": [],
   "execution_count": 37
  },
  {
   "cell_type": "code",
   "id": "4ef05ab2db516421",
   "metadata": {
    "ExecuteTime": {
     "end_time": "2025-01-12T22:38:56.741549Z",
     "start_time": "2025-01-12T22:38:56.726552Z"
    }
   },
   "source": [
    "if visualize:\n",
    "    hist = [cv2.calcHist([cv2.imdecode(np.frombuffer(img, np.uint8), cv2.IMREAD_COLOR)], [0], None, [256], [0, 256]) for img in images]\n",
    "    hist = np.array(hist).squeeze()\n",
    "    plt.plot(hist[0], label=\"Blue\")"
   ],
   "outputs": [],
   "execution_count": 38
  },
  {
   "cell_type": "code",
   "id": "3c586dcb09715b40",
   "metadata": {
    "ExecuteTime": {
     "end_time": "2025-01-12T22:38:56.757549Z",
     "start_time": "2025-01-12T22:38:56.742552Z"
    }
   },
   "source": [
    "# Based on https://www.kaggle.com/code/awsaf49/isic2024-kerascv-starter\n",
    "\n",
    "def decoder(only_image=False, with_labels=True, target_size=(256, 256)):\n",
    "    \n",
    "    def decode_only_image(file_bytes, label):\n",
    "        \n",
    "        image = tf.io.decode_jpeg(file_bytes)\n",
    "        \n",
    "        image = tf.image.resize(image, size=target_size, method=\"area\")\n",
    "        \n",
    "        image = tf.cast(image, tf.float32)\n",
    "        image /= 255.0\n",
    "  \n",
    "        image = tf.reshape(image, [*target_size, 3])\n",
    "        \n",
    "        return image, label\n",
    "    \n",
    "    def decode_image(inp):\n",
    "        \n",
    "        file_bytes = inp[\"images\"]\n",
    "        image = tf.io.decode_jpeg(file_bytes)\n",
    "        \n",
    "        image = tf.image.resize(image, size=target_size, method=\"area\")\n",
    "        \n",
    "        image = tf.cast(image, tf.float32)\n",
    "        image /= 255.0\n",
    "  \n",
    "        image = tf.reshape(image, [*target_size, 3])\n",
    "        \n",
    "        inp[\"images\"] = image\n",
    "        return inp\n",
    "    \n",
    "    \n",
    "    def decode_label(label, num_classes):\n",
    "        label = tf.cast(label, tf.float32)\n",
    "        label = tf.reshape(label, [num_classes])\n",
    "        return label\n",
    "    \n",
    "  \n",
    "    def decode_with_labels(inp, label=None):\n",
    "        inp = decode_image(inp)\n",
    "        label = decode_label(label, 1)\n",
    "        return inp, label\n",
    "    \n",
    "    if only_image:\n",
    "        return decode_only_image\n",
    "    return decode_with_labels if with_labels else decode_image\n",
    "\n",
    "multi_decoder = decoder(with_labels=False, target_size=(data_config[\"img_size\"], data_config[\"img_size\"]))\n",
    "image_decoder = decoder(only_image=True, with_labels=False, target_size=(data_config[\"img_size\"], data_config[\"img_size\"]))"
   ],
   "outputs": [],
   "execution_count": 39
  },
  {
   "cell_type": "code",
   "id": "376689eb06cd0c2a",
   "metadata": {
    "ExecuteTime": {
     "end_time": "2025-01-12T22:38:56.773127Z",
     "start_time": "2025-01-12T22:38:56.758550Z"
    }
   },
   "source": [
    "# Too slow\n",
    "# decoded_images = [cv2.imdecode(np.frombuffer(img, np.uint8), cv2.IMREAD_COLOR)[...,::-1] for img in images]"
   ],
   "outputs": [],
   "execution_count": 40
  },
  {
   "cell_type": "code",
   "id": "e267213acbd77be3",
   "metadata": {
    "ExecuteTime": {
     "end_time": "2025-01-12T22:38:56.789132Z",
     "start_time": "2025-01-12T22:38:56.774134Z"
    }
   },
   "source": [
    "# Multimodal dataset\n",
    "\n",
    "# inp = {\n",
    "#     \"images\": images, \n",
    "#     \"features\": features\n",
    "#        }\n",
    "\n",
    "# slices = (inp, df.target.values)\n",
    "\n",
    "# ds = tf.data.Dataset.from_tensor_slices(slices)\n",
    " \n",
    "# ds = tf.data.Dataset.from_tensor_slices(images, df.target.values)\n",
    "# ds = ds.cache()\n",
    "# ds = ds.map(decoder, num_parallel_calls=AUTOTUNE)\n",
    "\n",
    "# ds = ds.shuffle(1024, seed=seed)\n",
    "# opt = tf.data.Options()\n",
    "# opt.deterministic = False\n",
    "# ds = ds.with_options(opt)\n",
    "\n",
    "# ds = ds.batch(CONFIG['train_batch_size'], drop_remainder=True)\n",
    "\n",
    "# ds = ds.map(augment_fn, num_parallel_calls=AUTOTUNE)\n",
    "# ds = ds.prefetch(AUTOTUNE)"
   ],
   "outputs": [],
   "execution_count": 41
  },
  {
   "cell_type": "code",
   "id": "df9cceac943f4b1e",
   "metadata": {
    "ExecuteTime": {
     "end_time": "2025-01-12T22:38:56.805133Z",
     "start_time": "2025-01-12T22:38:56.790134Z"
    }
   },
   "source": [
    "# Manual decoding, too slow\n",
    "\n",
    "# decoded_images = []\n",
    "# target_size=(CONFIG[\"img_size\"], CONFIG[\"img_size\"])\n",
    "# \n",
    "# for file_bytes in images:\n",
    "#     with tf.device(\"/CPU:0\"):\n",
    "#         image = tf.io.decode_jpeg(file_bytes)\n",
    "# \n",
    "#         image = tf.image.resize(image, size=target_size, method=\"area\")\n",
    "# \n",
    "#         image = tf.cast(image, tf.float32)\n",
    "#         image /= 255.0\n",
    "# \n",
    "#         image = tf.reshape(image, [*target_size, 3])\n",
    "# \n",
    "#         decoded_images.append(image)\n",
    "# \n",
    "# decoded_images = tf.stack(decoded_images)\n",
    "# \n",
    "# decoded_images_np = decoded_images.numpy()\n",
    "# \n",
    "# \n",
    "# print(decoded_images_np.shape)"
   ],
   "outputs": [],
   "execution_count": 42
  },
  {
   "cell_type": "code",
   "id": "90e4705a",
   "metadata": {
    "ExecuteTime": {
     "end_time": "2025-01-12T22:38:56.821131Z",
     "start_time": "2025-01-12T22:38:56.807136Z"
    }
   },
   "source": [
    "physical_devices = tf.config.list_physical_devices('GPU')\n",
    "\n",
    "try:\n",
    "    tf.config.experimental.set_memory_growth(physical_devices[0], True)\n",
    "except:\n",
    "    print(\"Memory growth not supported.\")\n",
    "    pass\n",
    "    # Invalid device or cannot modify virtual devices once initialized."
   ],
   "outputs": [
    {
     "name": "stdout",
     "output_type": "stream",
     "text": [
      "Memory growth not supported.\n"
     ]
    }
   ],
   "execution_count": 43
  },
  {
   "cell_type": "code",
   "id": "b5080dc6",
   "metadata": {
    "ExecuteTime": {
     "end_time": "2025-01-12T22:38:56.837131Z",
     "start_time": "2025-01-12T22:38:56.822133Z"
    }
   },
   "source": [
    "# config = tf.ConfigProto()\n",
    "# config.gpu_options.allow_growth=True\n",
    "# sess = tf.Session(config=config)"
   ],
   "outputs": [],
   "execution_count": 44
  },
  {
   "cell_type": "code",
   "id": "5acbf3ea",
   "metadata": {
    "ExecuteTime": {
     "end_time": "2025-01-12T22:38:56.853131Z",
     "start_time": "2025-01-12T22:38:56.838133Z"
    }
   },
   "source": [
    "tf.config.experimental.get_memory_info('GPU:0')"
   ],
   "outputs": [
    {
     "data": {
      "text/plain": [
       "{'current': 1792, 'peak': 2048}"
      ]
     },
     "execution_count": 45,
     "metadata": {},
     "output_type": "execute_result"
    }
   ],
   "execution_count": 45
  },
  {
   "cell_type": "code",
   "id": "f3287838",
   "metadata": {
    "ExecuteTime": {
     "end_time": "2025-01-12T22:38:56.869131Z",
     "start_time": "2025-01-12T22:38:56.854133Z"
    }
   },
   "source": [
    "if visualize:\n",
    "    image = images[23]\n",
    "    decoded_image = image_decoder(image, df.target.values[0])\n",
    "\n",
    "    augmented_image = single_transforms(image=np.array(decoded_image[0]))\n",
    "    \n",
    "    arr = (np.asarray(decoded_image[0].numpy()) * 255).astype(np.uint8)\n",
    "    \n",
    "    print(arr.shape)\n",
    "    \n",
    "    Image.fromarray((decoded_image[0].numpy() * 255).astype(np.uint8) ).show()\n",
    "    \n",
    "    Image.fromarray(arr).show()"
   ],
   "outputs": [],
   "execution_count": 46
  },
  {
   "cell_type": "code",
   "id": "5f437b68",
   "metadata": {
    "ExecuteTime": {
     "end_time": "2025-01-12T22:38:56.885131Z",
     "start_time": "2025-01-12T22:38:56.870133Z"
    }
   },
   "source": "",
   "outputs": [],
   "execution_count": 46
  },
  {
   "metadata": {
    "ExecuteTime": {
     "end_time": "2025-01-12T22:38:56.996131Z",
     "start_time": "2025-01-12T22:38:56.886133Z"
    }
   },
   "cell_type": "code",
   "source": [
    "# Single image dataset\n",
    "\n",
    "indices = np.random.permutation(len(images))\n",
    "split_index = int(len(images) * data_config[\"train_ratio\"])\n",
    "\n",
    "train_images = images[indices[:split_index]]\n",
    "train_labels = np.int8(df.target.values[indices[:split_index]])\n",
    "\n",
    "valid_images = images[indices[split_index:]]\n",
    "valid_labels = np.int8(df.target.values[indices[split_index:]])\n",
    "\n",
    "train_dataset = tf.data.Dataset.from_tensor_slices((train_images, train_labels))\n",
    "valid_dataset = tf.data.Dataset.from_tensor_slices((valid_images, valid_labels))\n",
    "\n",
    "options = tf.data.Options()\n",
    "options.autotune.enabled = False\n",
    "options.experimental_distribute.auto_shard_policy = tf.data.experimental.AutoShardPolicy.OFF\n",
    "options.experimental_optimization.inject_prefetch = False\n",
    "\n",
    "train_dataset = train_dataset.with_options(options)\n",
    "valid_dataset = valid_dataset.with_options(options)\n",
    "\n",
    "# Apply image decoding and augmentation for training dataset\n",
    "train_dataset = train_dataset.map(image_decoder, num_parallel_calls=AUTOTUNE)\n",
    "# train_augmented_dataset = train_dataset.map(augment_single_img, num_parallel_calls=AUTOTUNE)\n",
    "# train_dataset = train_dataset.concatenate(train_augmented_dataset)\n",
    "\n",
    "valid_dataset = valid_dataset.map(image_decoder, num_parallel_calls=AUTOTUNE)\n",
    "\n",
    "print(f\"Training dataset size: {train_dataset.cardinality().numpy()}\")\n",
    "print(f\"Validation dataset size: {valid_dataset.cardinality().numpy()}\")\n",
    "\n",
    "# train_dataset = train_dataset.shuffle(1024, seed=seed)\n",
    "\n",
    "train_ds = train_dataset.cache()\n",
    "valid_ds = valid_dataset.cache()\n",
    "\n",
    "train_ds = train_ds.batch(batch_size=batch_size, drop_remainder=False)\n",
    "valid_ds = valid_ds.batch(batch_size=batch_size, drop_remainder=False)\n",
    "\n",
    "train_ds = train_ds.prefetch(buffer_size=AUTOTUNE)\n",
    "valid_ds = valid_ds.prefetch(buffer_size=AUTOTUNE)\n",
    "\n",
    "print(f\"Number of training batches: {train_ds.cardinality().numpy()}\")\n",
    "print(f\"Number of validation batches: {valid_ds.cardinality().numpy()}\")"
   ],
   "id": "dac8b975978562c6",
   "outputs": [
    {
     "name": "stdout",
     "output_type": "stream",
     "text": [
      "Training dataset size: 2829\n",
      "Validation dataset size: 315\n",
      "Number of training batches: 177\n",
      "Number of validation batches: 20\n"
     ]
    }
   ],
   "execution_count": 47
  },
  {
   "metadata": {
    "ExecuteTime": {
     "end_time": "2025-01-12T22:38:57.012131Z",
     "start_time": "2025-01-12T22:38:56.997133Z"
    }
   },
   "cell_type": "code",
   "source": "del train_dataset, valid_dataset",
   "id": "67c6d52807760d26",
   "outputs": [],
   "execution_count": 48
  },
  {
   "metadata": {
    "ExecuteTime": {
     "end_time": "2025-01-12T22:38:57.028131Z",
     "start_time": "2025-01-12T22:38:57.013133Z"
    }
   },
   "cell_type": "code",
   "source": "# Multimodal dataset",
   "id": "ae583911a3e31dd",
   "outputs": [],
   "execution_count": 49
  },
  {
   "metadata": {
    "ExecuteTime": {
     "end_time": "2025-01-12T22:38:57.044168Z",
     "start_time": "2025-01-12T22:38:57.029134Z"
    }
   },
   "cell_type": "code",
   "source": "del images",
   "id": "1052ea6f99df5034",
   "outputs": [],
   "execution_count": 50
  },
  {
   "metadata": {
    "ExecuteTime": {
     "end_time": "2025-01-12T22:38:57.060141Z",
     "start_time": "2025-01-12T22:38:57.045145Z"
    }
   },
   "cell_type": "code",
   "source": [
    "# Sanity check\n",
    "\n",
    "# train_labels, valid_labels = [], []\n",
    "# \n",
    "# train_hashes = set()\n",
    "# valid_hashes = set()\n",
    "# \n",
    "# optional_computing = False\n",
    "# \n",
    "# # Convert images to hashes for faster comparison\n",
    "# for img, label in train_ds.unbatch().as_numpy_iterator():\n",
    "#     if optional_computing:\n",
    "#         train_hashes.add(hash(img.tobytes()))\n",
    "#     train_labels.append(label)\n",
    "# \n",
    "# for img, label in valid_ds.unbatch().as_numpy_iterator():\n",
    "#     if optional_computing:\n",
    "#         valid_hashes.add(hash(img.tobytes()))\n",
    "#     valid_labels.append(label)\n",
    "# \n",
    "# if optional_computing:\n",
    "#     duplicates = []\n",
    "#     for img_hash in train_hashes.keys():\n",
    "#         if img_hash in valid_hashes:\n",
    "#             duplicates.append((train_hashes[img_hash], valid_hashes[img_hash]))\n",
    "#             \n",
    "#     print(f\"Number of duplicates: {len(duplicates)}\")\n",
    "#     print(duplicates)\n",
    "# \n",
    "# del train_hashes, valid_hashes"
   ],
   "id": "8b71e61a42a97936",
   "outputs": [],
   "execution_count": 51
  },
  {
   "cell_type": "code",
   "id": "f0a3ee31",
   "metadata": {
    "ExecuteTime": {
     "end_time": "2025-01-12T22:38:57.076141Z",
     "start_time": "2025-01-12T22:38:57.061142Z"
    }
   },
   "source": [
    "train_labels = np.array(train_labels)\n",
    "valid_labels = np.array(valid_labels)\n",
    "\n",
    "print(f'Average class probability in training set:   {train_labels.mean():.4f}')\n",
    "print(f'Average class probability in validation set: {valid_labels.mean():.4f}')"
   ],
   "outputs": [
    {
     "name": "stdout",
     "output_type": "stream",
     "text": [
      "Average class probability in training set:   0.1273\n",
      "Average class probability in validation set: 0.1048\n"
     ]
    }
   ],
   "execution_count": 52
  },
  {
   "cell_type": "code",
   "id": "d6daf5ed",
   "metadata": {
    "ExecuteTime": {
     "end_time": "2025-01-12T22:38:57.123140Z",
     "start_time": "2025-01-12T22:38:57.077140Z"
    }
   },
   "source": [
    "METRICS = [\n",
    "      tf.keras.metrics.BinaryCrossentropy(name='cross entropy'),\n",
    "      tf.keras.metrics.MeanSquaredError(name='Brier score'),\n",
    "      tf.keras.metrics.TruePositives(name='tp'),\n",
    "      tf.keras.metrics.FalsePositives(name='fp'),\n",
    "      tf.keras.metrics.TrueNegatives(name='tn'),\n",
    "      tf.keras.metrics.FalseNegatives(name='fn'),\n",
    "      tf.keras.metrics.BinaryAccuracy(name='accuracy'),\n",
    "      tf.keras.metrics.Precision(name='precision'),\n",
    "      tf.keras.metrics.Recall(name='recall'),\n",
    "      tf.keras.metrics.AUC(name='auc'),\n",
    "      tf.keras.metrics.AUC(name='prc', curve='PR'),\n",
    "]"
   ],
   "outputs": [],
   "execution_count": 53
  },
  {
   "cell_type": "code",
   "id": "b11821a2",
   "metadata": {
    "ExecuteTime": {
     "end_time": "2025-01-12T22:38:57.139141Z",
     "start_time": "2025-01-12T22:38:57.124144Z"
    }
   },
   "source": [
    "def recall_m(y_true, y_pred):\n",
    "    y_true = tf.cast(y_true, tf.float32)    \n",
    "    y_pred = tf.cast(y_pred, tf.float32)\n",
    "    true_positives = K.sum(K.round(K.clip(y_true * y_pred, 0, 1)))\n",
    "    possible_positives = K.sum(K.round(K.clip(y_true, 0, 1)))\n",
    "    recall = true_positives / (possible_positives + K.epsilon())\n",
    "    return recall\n",
    "\n",
    "def precision_m(y_true, y_pred):\n",
    "    y_true = tf.cast(y_true, tf.float32)\n",
    "    y_pred = tf.cast(y_pred, tf.float32)\n",
    "    true_positives = K.sum(K.round(K.clip(y_true * y_pred, 0, 1)))\n",
    "    predicted_positives = K.sum(K.round(K.clip(y_pred, 0, 1)))\n",
    "    precision = true_positives / (predicted_positives + K.epsilon())\n",
    "    return precision\n",
    "\n",
    "def f1_m(y_true, y_pred):\n",
    "    y_true = tf.cast(y_true, tf.float32)\n",
    "    y_pred = tf.cast(y_pred, tf.float32)\n",
    "    precision = precision_m(y_true, y_pred)\n",
    "    recall = recall_m(y_true, y_pred)\n",
    "    return 2*((precision*recall)/(precision+recall+K.epsilon()))"
   ],
   "outputs": [],
   "execution_count": 54
  },
  {
   "cell_type": "code",
   "id": "66f66a3312c72691",
   "metadata": {
    "ExecuteTime": {
     "end_time": "2025-01-12T22:38:57.218343Z",
     "start_time": "2025-01-12T22:38:57.140142Z"
    }
   },
   "source": [
    "optimizer = tf.keras.optimizers.Adam(learning_rate=learning_rate, epsilon=1e-5)\n",
    "\n",
    "class Net(tf.keras.Model):\n",
    "    def __init__(self):\n",
    "        super(Net, self).__init__()\n",
    "\n",
    "        self.conv1 = tf.keras.layers.Conv2D(filters=32, kernel_size=(3, 3),\n",
    "                                            input_shape=(batch_size, 384, 384, 3),\n",
    "                                            padding=\"same\",\n",
    "                                            activation=activation_func,\n",
    "                                            data_format=\"channels_last\", # def\n",
    "                                            kernel_initializer=initializer,\n",
    "                                            )\n",
    "        self.conv2 = tf.keras.layers.Conv2D(filters=32, kernel_size=(3, 3), \n",
    "                                            activation=activation_func, \n",
    "                                            padding=\"same\",\n",
    "                                            # strides=(2, 2)\n",
    "                                            kernel_initializer=initializer,\n",
    "                                            )\n",
    "        self.conv25 = tf.keras.layers.Conv2D(filters=32, kernel_size=(3, 3), \n",
    "                                            activation=activation_func, \n",
    "                                            padding=\"same\",\n",
    "                                            # strides=(2, 2)\n",
    "                                            kernel_initializer=initializer,\n",
    "                                            )\n",
    "        self.pool1 = (tf.keras.layers.AveragePooling2D(pool_size=(2, 2), strides=(2, 2)))\n",
    "        \n",
    "        self.conv3 = tf.keras.layers.Conv2D(filters=64, kernel_size=(3, 3),\n",
    "                                            activation=activation_func,\n",
    "                                            # strides=(2, 2),\n",
    "                                            kernel_initializer=initializer,\n",
    "                                            )\n",
    "        self.conv4 = tf.keras.layers.Conv2D(filters=64, kernel_size=(3, 3),\n",
    "                                            activation=activation_func,\n",
    "                                            padding=\"same\",\n",
    "                                            kernel_initializer=initializer,\n",
    "                                            )\n",
    "        self.conv45 = tf.keras.layers.Conv2D(filters=64, kernel_size=(3, 3),\n",
    "                                            activation=activation_func,\n",
    "                                            padding=\"same\",\n",
    "                                            kernel_initializer=initializer,\n",
    "                                            )\n",
    "        self.pool2 = (tf.keras.layers.AveragePooling2D(pool_size=(2, 2), strides=(2, 2)))\n",
    "        \n",
    "        self.conv5 = tf.keras.layers.Conv2D(filters=128, kernel_size=(3, 3),\n",
    "                                            activation=activation_func,\n",
    "                                            padding=\"same\",\n",
    "                                            kernel_initializer=initializer,\n",
    "                                            )\n",
    "        \n",
    "        self.conv55 = tf.keras.layers.Conv2D(filters=128, kernel_size=(3, 3),\n",
    "                                            activation=activation_func,\n",
    "                                            padding=\"same\",\n",
    "                                            kernel_initializer=initializer,\n",
    "                                            )\n",
    "        self.pool3 = (tf.keras.layers.AveragePooling2D(pool_size=(2, 2), strides=(2, 2)))\n",
    "        \n",
    "        self.conv6 = tf.keras.layers.Conv2D(filters=256, kernel_size=(3, 3),\n",
    "                                            activation=activation_func,\n",
    "                                            padding=\"same\",\n",
    "                                            kernel_initializer=initializer,\n",
    "                                            )\n",
    "        self.conv65 = tf.keras.layers.Conv2D(filters=256, kernel_size=(3, 3),\n",
    "                                            activation=activation_func,\n",
    "                                            padding=\"same\",\n",
    "                                            kernel_initializer=initializer,\n",
    "                                             )\n",
    "        self.pool4 = (tf.keras.layers.AveragePooling2D(pool_size=(2, 2), strides=(2, 2)))\n",
    "        \n",
    "        self.conv7 = tf.keras.layers.Conv2D(filters=512, kernel_size=(3, 3),\n",
    "                                            activation=activation_func,\n",
    "                                            padding=\"same\",\n",
    "                                            kernel_initializer=initializer,)\n",
    "        self.conv8 = tf.keras.layers.Conv2D(filters=512, kernel_size=(3, 3),\n",
    "                                            activation=activation_func, \n",
    "                                            padding=\"same\",\n",
    "                                            kernel_initializer=initializer,\n",
    "                                            )\n",
    "        self.pool5 = (tf.keras.layers.AveragePooling2D(pool_size=(2, 2), strides=(2, 2)))\n",
    "        \n",
    "        self.conv9 = tf.keras.layers.Conv2D(filters=512, kernel_size=(3, 3),\n",
    "                                            activation=activation_func,\n",
    "                                            kernel_initializer=initializer,\n",
    "                                            )\n",
    "        \n",
    "        self.conv10 = tf.keras.layers.Conv2D(filters=512, kernel_size=(3, 3),\n",
    "                                            activation=activation_func,\n",
    "                                            kernel_initializer=initializer,\n",
    "        )\n",
    "        self.pool6 = (tf.keras.layers.AveragePooling2D(pool_size=(2, 2), strides=(2, 2)))\n",
    "        \n",
    "        self.conv11 = tf.keras.layers.Conv2D(filters=512, kernel_size=(3, 3),\n",
    "                                            activation=activation_func,\n",
    "                                            kernel_initializer=initializer,\n",
    "                                            )\n",
    "        \n",
    "        self.conv12 = tf.keras.layers.Conv2D(filters=512, kernel_size=(3, 3),\n",
    "                                            activation=activation_func,\n",
    "                                            kernel_initializer=initializer,\n",
    "        )\n",
    "        self.pool7 = (tf.keras.layers.AveragePooling2D(pool_size=(2, 2), strides=(2, 2)))\n",
    "        \n",
    "        self.flatten = tf.keras.layers.Flatten()\n",
    "    \n",
    "        # self.feature_extractor = []\n",
    "        # for i in range(5):\n",
    "        #     self.hidden_layers.append(tf.keras.layers.Dense(2048, activation=activation_func))\n",
    "        #     self.hidden_layers.append(tf.keras.layers.Dropout(0.2))\n",
    "\n",
    "        self.hidden_layers = []\n",
    "        for _ in range(2):\n",
    "            self.hidden_layers.append(tf.keras.layers.Dense(2048, \n",
    "                                                            activation=activation_func, \n",
    "                                                            kernel_initializer=dense_initializer,\n",
    "                                                            # kernel_regularizer=tf.keras.regularizers.L1(0.01)\n",
    "                                                            )\n",
    "                                      )\n",
    "            self.hidden_layers.append(tf.keras.layers.Dropout(0.2, seed=seed))\n",
    "            self.hidden_layers.append(tf.keras.layers.BatchNormalization())\n",
    "\n",
    "\n",
    "        self.fc = []\n",
    "        for _ in range(1):\n",
    "            self.fc.append(tf.keras.layers.Dense(1024, \n",
    "                                                 activation=activation_func,\n",
    "                                                 kernel_initializer=dense_initializer,\n",
    "                                                 # kernel_regularizer=tf.keras.regularizers.L1(0.01)\n",
    "                                                 )\n",
    "                                          )\n",
    "\n",
    "        self.output_layer = tf.keras.layers.Dense(1, activation='sigmoid',\n",
    "                                                #   bias_initializer=tf.keras.initializers.Constant(np.log([pos/neg]))\n",
    "                                                  )\n",
    "        \n",
    "        self.bach_norm_layers = [tf.keras.layers.BatchNormalization() for _ in range(16)]\n",
    "\n",
    "    def call(self, x):\n",
    "        x = self.conv1(x)\n",
    "        x = self.bach_norm_layers[0](x)\n",
    "        x = self.conv2(x)\n",
    "        x = self.bach_norm_layers[1](x)\n",
    "        x = self.conv25(x)\n",
    "        x = self.bach_norm_layers[2](x)\n",
    "        x = self.pool1(x)\n",
    "        \n",
    "        x = self.conv3(x)\n",
    "        x = self.bach_norm_layers[3](x)\n",
    "        x = self.conv4(x)\n",
    "        x = self.bach_norm_layers[4](x)\n",
    "        x = self.conv45(x)\n",
    "        x = self.bach_norm_layers[5](x)\n",
    "        x = self.pool2(x)\n",
    "        \n",
    "        x = self.conv5(x)\n",
    "        # x = self.bach_norm_layers[6](x)\n",
    "        x = self.conv55(x)\n",
    "        # x = self.bach_norm_layers[7](x)\n",
    "        x = self.pool3(x)\n",
    "        \n",
    "        x = self.conv6(x)\n",
    "        # x = self.bach_norm_layers[8](x)\n",
    "        x = self.conv65(x)\n",
    "        # x = self.bach_norm_layers[9](x)\n",
    "        x = self.pool4(x)\n",
    "        \n",
    "        x = self.conv7(x)\n",
    "        # x = self.bach_norm_layers[10](x)\n",
    "        x = self.conv8(x)\n",
    "        # x = self.bach_norm_layers[11](x)\n",
    "        x = self.pool5(x)\n",
    "\n",
    "        x = self.conv9(x)\n",
    "        # x = self.bach_norm_layers[12](x)\n",
    "        x = self.conv10(x)\n",
    "        # x = self.bach_norm_layers[13](x)\n",
    "        x = self.pool6(x)\n",
    "        \n",
    "        x = self.conv11(x)\n",
    "        x = self.bach_norm_layers[14](x)\n",
    "        # x = self.pool7(x)\n",
    "\n",
    "        x = self.flatten(x)\n",
    "        \n",
    "        # for layer in self.feature_extractor:\n",
    "        #     x = layer(x)\n",
    "\n",
    "        for layer in self.hidden_layers:\n",
    "            x = layer(x)\n",
    "\n",
    "        for layer in self.fc:\n",
    "            x = layer(x)\n",
    "\n",
    "        return self.output_layer(x)\n",
    "\n",
    "model = Net()"
   ],
   "outputs": [],
   "execution_count": 55
  },
  {
   "metadata": {},
   "cell_type": "code",
   "outputs": [],
   "execution_count": null,
   "source": [
    "for layer in model.layers:\n",
    "    print(layer.name, layer.built)\n"
   ],
   "id": "5ef504005e11e065"
  },
  {
   "cell_type": "code",
   "id": "6a06b9f8",
   "metadata": {
    "ExecuteTime": {
     "end_time": "2025-01-12T22:38:57.234349Z",
     "start_time": "2025-01-12T22:38:57.219352Z"
    }
   },
   "source": [
    "# Callbacks\n",
    "\n",
    "callbacks = [\n",
    "    tf.keras.callbacks.ModelCheckpoint(\n",
    "        chekpoint_path,\n",
    "        monitor=\"val_accuracy\",\n",
    "        verbose=1,\n",
    "        save_best_only=True,\n",
    "        save_weights_only=False,\n",
    "        mode=\"max\",\n",
    "        save_freq=\"epoch\",\n",
    "        initial_value_threshold=0.85,\n",
    "    ), \n",
    "    tf.keras.callbacks.TensorBoard(\n",
    "        log_path,\n",
    "        histogram_freq=0,\n",
    "        write_steps_per_second=True,\n",
    "        write_images=False,\n",
    "        profile_batch='10, 15',\n",
    "    ), \n",
    "    tf.keras.callbacks.EarlyStopping(\n",
    "        monitor='loss', \n",
    "        patience=10, \n",
    "        restore_best_weights=True,\n",
    "        verbose=1\n",
    "    ),\n",
    "    tf.keras.callbacks.ProgbarLogger()\n",
    "]"
   ],
   "outputs": [],
   "execution_count": 56
  },
  {
   "cell_type": "code",
   "id": "99dc4214",
   "metadata": {
    "ExecuteTime": {
     "end_time": "2025-01-12T22:38:57.249822Z",
     "start_time": "2025-01-12T22:38:57.235350Z"
    }
   },
   "source": [
    "# Class weights by TF (modified)\n",
    "\n",
    "weight_for_0 = (1 / neg) * (total / 2.0)\n",
    "weight_for_1 = (1 / pos) * (total / 2.0) # * (1/32)\n",
    "\n",
    "tf_class_weight = {0: weight_for_0, 1: weight_for_1}\n",
    "\n",
    "print('Weight for class 0: {:.2f}'.format(weight_for_0))\n",
    "print('Weight for class 1: {:.2f}'.format(weight_for_1))"
   ],
   "outputs": [
    {
     "name": "stdout",
     "output_type": "stream",
     "text": [
      "Weight for class 0: 0.50\n",
      "Weight for class 1: 510.25\n"
     ]
    }
   ],
   "execution_count": 57
  },
  {
   "cell_type": "code",
   "id": "2d0c2f6b",
   "metadata": {
    "ExecuteTime": {
     "end_time": "2025-01-12T22:38:57.264824Z",
     "start_time": "2025-01-12T22:38:57.250824Z"
    }
   },
   "source": [
    "from sklearn.utils import class_weight\n",
    "\n",
    "sk_class_weights = dict(enumerate(\n",
    "    class_weight.compute_class_weight('balanced', \n",
    "                                      classes=[0, 1], \n",
    "                                      y=np.concatenate([train_labels, valid_labels])\n",
    "                                      )\n",
    "                                  )\n",
    "                        )\n",
    "sk_class_weights[1] /= 2\n",
    "print(\"SK Weights:\", sk_class_weights)"
   ],
   "outputs": [
    {
     "name": "stdout",
     "output_type": "stream",
     "text": [
      "SK Weights: {0: 0.5714285714285714, 1: 2.0}\n"
     ]
    }
   ],
   "execution_count": 58
  },
  {
   "cell_type": "code",
   "id": "5cfc0b73745ec707",
   "metadata": {
    "ExecuteTime": {
     "end_time": "2025-01-12T22:38:57.280823Z",
     "start_time": "2025-01-12T22:38:57.265825Z"
    }
   },
   "source": [
    "model.compile(optimizer=optimizer, loss=criterion, metrics=['accuracy', \n",
    "                                                            f1_m, \n",
    "                                                            precision_m, recall_m])"
   ],
   "outputs": [],
   "execution_count": 59
  },
  {
   "cell_type": "code",
   "id": "ec21a0858b9e1f64",
   "metadata": {
    "ExecuteTime": {
     "end_time": "2025-01-13T00:15:30.683947Z",
     "start_time": "2025-01-13T00:15:30.675948Z"
    }
   },
   "source": [
    "history = model.fit(train_ds, epochs=num_epochs, validation_data=valid_ds, callbacks=callbacks, \n",
    "                    shuffle=True,\n",
    "                    class_weight=sk_class_weights,\n",
    "                    validation_freq=1,\n",
    "                    use_multiprocessing=True,\n",
    "                    verbose=2\n",
    "                    )   "
   ],
   "outputs": [],
   "execution_count": 83
  },
  {
   "cell_type": "code",
   "id": "aefbac7c",
   "metadata": {
    "ExecuteTime": {
     "end_time": "2025-01-12T23:49:11.678524Z",
     "start_time": "2025-01-12T23:49:11.599523Z"
    }
   },
   "source": [
    "model.summary()"
   ],
   "outputs": [
    {
     "name": "stdout",
     "output_type": "stream",
     "text": [
      "Model: \"net\"\n",
      "_________________________________________________________________\n",
      " Layer (type)                Output Shape              Param #   \n",
      "=================================================================\n",
      " conv2d (Conv2D)             multiple                  896       \n",
      "                                                                 \n",
      " conv2d_1 (Conv2D)           multiple                  9248      \n",
      "                                                                 \n",
      " conv2d_2 (Conv2D)           multiple                  9248      \n",
      "                                                                 \n",
      " average_pooling2d (AverageP  multiple                 0         \n",
      " ooling2D)                                                       \n",
      "                                                                 \n",
      " conv2d_3 (Conv2D)           multiple                  18496     \n",
      "                                                                 \n",
      " conv2d_4 (Conv2D)           multiple                  36928     \n",
      "                                                                 \n",
      " conv2d_5 (Conv2D)           multiple                  36928     \n",
      "                                                                 \n",
      " average_pooling2d_1 (Averag  multiple                 0         \n",
      " ePooling2D)                                                     \n",
      "                                                                 \n",
      " conv2d_6 (Conv2D)           multiple                  73856     \n",
      "                                                                 \n",
      " conv2d_7 (Conv2D)           multiple                  147584    \n",
      "                                                                 \n",
      " average_pooling2d_2 (Averag  multiple                 0         \n",
      " ePooling2D)                                                     \n",
      "                                                                 \n",
      " conv2d_8 (Conv2D)           multiple                  295168    \n",
      "                                                                 \n",
      " conv2d_9 (Conv2D)           multiple                  590080    \n",
      "                                                                 \n",
      " average_pooling2d_3 (Averag  multiple                 0         \n",
      " ePooling2D)                                                     \n",
      "                                                                 \n",
      " conv2d_10 (Conv2D)          multiple                  1180160   \n",
      "                                                                 \n",
      " conv2d_11 (Conv2D)          multiple                  2359808   \n",
      "                                                                 \n",
      " average_pooling2d_4 (Averag  multiple                 0         \n",
      " ePooling2D)                                                     \n",
      "                                                                 \n",
      " conv2d_12 (Conv2D)          multiple                  2359808   \n",
      "                                                                 \n",
      " conv2d_13 (Conv2D)          multiple                  2359808   \n",
      "                                                                 \n",
      " average_pooling2d_5 (Averag  multiple                 0         \n",
      " ePooling2D)                                                     \n",
      "                                                                 \n",
      " conv2d_14 (Conv2D)          multiple                  2359808   \n",
      "                                                                 \n",
      " conv2d_15 (Conv2D)          multiple                  0 (unused)\n",
      "                                                                 \n",
      " average_pooling2d_6 (Averag  multiple                 0 (unused)\n",
      " ePooling2D)                                                     \n",
      "                                                                 \n",
      " flatten (Flatten)           multiple                  0         \n",
      "                                                                 \n",
      " dense (Dense)               multiple                  1050624   \n",
      "                                                                 \n",
      " dropout (Dropout)           multiple                  0         \n",
      "                                                                 \n",
      " batch_normalization (BatchN  multiple                 8192      \n",
      " ormalization)                                                   \n",
      "                                                                 \n",
      " dense_1 (Dense)             multiple                  4196352   \n",
      "                                                                 \n",
      " dropout_1 (Dropout)         multiple                  0         \n",
      "                                                                 \n",
      " batch_normalization_1 (Batc  multiple                 8192      \n",
      " hNormalization)                                                 \n",
      "                                                                 \n",
      " dense_2 (Dense)             multiple                  2098176   \n",
      "                                                                 \n",
      " dense_3 (Dense)             multiple                  1025      \n",
      "                                                                 \n",
      " batch_normalization_2 (Batc  multiple                 128       \n",
      " hNormalization)                                                 \n",
      "                                                                 \n",
      " batch_normalization_3 (Batc  multiple                 128       \n",
      " hNormalization)                                                 \n",
      "                                                                 \n",
      " batch_normalization_4 (Batc  multiple                 128       \n",
      " hNormalization)                                                 \n",
      "                                                                 \n",
      " batch_normalization_5 (Batc  multiple                 256       \n",
      " hNormalization)                                                 \n",
      "                                                                 \n",
      " batch_normalization_6 (Batc  multiple                 256       \n",
      " hNormalization)                                                 \n",
      "                                                                 \n",
      " batch_normalization_7 (Batc  multiple                 256       \n",
      " hNormalization)                                                 \n",
      "                                                                 \n",
      " batch_normalization_8 (Batc  multiple                 0 (unused)\n",
      " hNormalization)                                                 \n",
      "                                                                 \n",
      " batch_normalization_9 (Batc  multiple                 0 (unused)\n",
      " hNormalization)                                                 \n",
      "                                                                 \n",
      " batch_normalization_10 (Bat  multiple                 0 (unused)\n",
      " chNormalization)                                                \n",
      "                                                                 \n",
      " batch_normalization_11 (Bat  multiple                 0 (unused)\n",
      " chNormalization)                                                \n",
      "                                                                 \n",
      " batch_normalization_12 (Bat  multiple                 0 (unused)\n",
      " chNormalization)                                                \n",
      "                                                                 \n",
      " batch_normalization_13 (Bat  multiple                 0 (unused)\n",
      " chNormalization)                                                \n",
      "                                                                 \n",
      " batch_normalization_14 (Bat  multiple                 0 (unused)\n",
      " chNormalization)                                                \n",
      "                                                                 \n",
      " batch_normalization_15 (Bat  multiple                 0 (unused)\n",
      " chNormalization)                                                \n",
      "                                                                 \n",
      " batch_normalization_16 (Bat  multiple                 2048      \n",
      " chNormalization)                                                \n",
      "                                                                 \n",
      " batch_normalization_17 (Bat  multiple                 0 (unused)\n",
      " chNormalization)                                                \n",
      "                                                                 \n",
      "=================================================================\n",
      "Total params: 19,203,585\n",
      "Trainable params: 19,193,793\n",
      "Non-trainable params: 9,792\n",
      "_________________________________________________________________\n"
     ]
    }
   ],
   "execution_count": 61
  },
  {
   "cell_type": "code",
   "id": "10ea6d28",
   "metadata": {
    "ExecuteTime": {
     "end_time": "2025-01-12T23:49:14.694521Z",
     "start_time": "2025-01-12T23:49:11.682523Z"
    }
   },
   "source": [
    "results = model.evaluate(valid_ds)\n",
    "print(\"Loss: {:0.4f}\".format(results[0]))"
   ],
   "outputs": [
    {
     "name": "stdout",
     "output_type": "stream",
     "text": [
      "20/20 [==============================] - 3s 149ms/step - loss: 0.3231 - accuracy: 0.9143 - f1_m: 0.3729 - precision_m: 0.4167 - recall_m: 0.3792\n",
      "Loss: 0.3231\n"
     ]
    }
   ],
   "execution_count": 62
  },
  {
   "cell_type": "code",
   "id": "11eff8fe",
   "metadata": {
    "ExecuteTime": {
     "end_time": "2025-01-12T23:49:14.710523Z",
     "start_time": "2025-01-12T23:49:14.696525Z"
    }
   },
   "source": [
    "initial_bias = np.log([pos/neg])\n",
    "initial_bias"
   ],
   "outputs": [
    {
     "data": {
      "text/plain": [
       "array([-6.92707383])"
      ]
     },
     "execution_count": 63,
     "metadata": {},
     "output_type": "execute_result"
    }
   ],
   "execution_count": 63
  },
  {
   "cell_type": "code",
   "id": "a67d6dae",
   "metadata": {
    "ExecuteTime": {
     "end_time": "2025-01-12T23:49:15.502522Z",
     "start_time": "2025-01-12T23:49:14.711522Z"
    }
   },
   "source": [
    "def plot_loss(history, label, n):\n",
    "  \n",
    "  plt.semilogy(history.epoch, history.history['loss'],\n",
    "               color=colors[n], label='Train ' + label)\n",
    "  \n",
    "  plt.semilogy(history.epoch, history.history['val_loss'],\n",
    "               color=colors[n], label='Val ' + label,\n",
    "               linestyle=\"--\")\n",
    "  plt.xlabel('Epoch')\n",
    "  plt.ylabel('Loss')\n",
    "  plt.legend()\n",
    "  \n",
    "plot_loss(history, \"Binary Crossentropy\", 0)"
   ],
   "outputs": [
    {
     "data": {
      "text/plain": [
       "<Figure size 1200x1000 with 1 Axes>"
      ],
      "image/png": "[encoded data removed]"
     },
     "metadata": {},
     "output_type": "display_data"
    }
   ],
   "execution_count": 64
  },
  {
   "cell_type": "code",
   "id": "5aa0e142",
   "metadata": {
    "ExecuteTime": {
     "end_time": "2025-01-12T23:49:15.926524Z",
     "start_time": "2025-01-12T23:49:15.503522Z"
    }
   },
   "source": [
    "# Plot accuracy\n",
    "\n",
    "def plot_accuracy(history, label, n):\n",
    "  \n",
    "  plt.plot(history.epoch, history.history['accuracy'],\n",
    "               color=colors[n], label='Train ' + label)\n",
    "  \n",
    "  plt.plot(history.epoch, history.history['val_accuracy'],\n",
    "               color=colors[n], label='Val ' + label,\n",
    "               linestyle=\"--\")\n",
    "  plt.xlabel('Epoch')\n",
    "  plt.ylabel('Accuracy')\n",
    "  plt.legend()\n",
    "\n",
    "plot_accuracy(history, \"Accuracy\", 0)"
   ],
   "outputs": [
    {
     "data": {
      "text/plain": [
       "<Figure size 1200x1000 with 1 Axes>"
      ],
      "image/png": "[encoded data removed]"
     },
     "metadata": {},
     "output_type": "display_data"
    }
   ],
   "execution_count": 65
  },
  {
   "cell_type": "code",
   "id": "2fb407a2",
   "metadata": {
    "ExecuteTime": {
     "end_time": "2025-01-12T23:49:15.941522Z",
     "start_time": "2025-01-12T23:49:15.928523Z"
    }
   },
   "source": [
    "print(history.history.keys())"
   ],
   "outputs": [
    {
     "name": "stdout",
     "output_type": "stream",
     "text": [
      "dict_keys(['loss', 'accuracy', 'f1_m', 'precision_m', 'recall_m', 'val_loss', 'val_accuracy', 'val_f1_m', 'val_precision_m', 'val_recall_m'])\n"
     ]
    }
   ],
   "execution_count": 66
  },
  {
   "cell_type": "code",
   "id": "a10a04d1",
   "metadata": {
    "ExecuteTime": {
     "end_time": "2025-01-12T23:49:17.620522Z",
     "start_time": "2025-01-12T23:49:15.943525Z"
    }
   },
   "source": [
    "def plot_metrics(history):\n",
    "  metrics = ['f1_m', 'loss', 'precision_m', 'recall_m']\n",
    "  for n, metric in enumerate(metrics):\n",
    "    name = metric.replace(\"_\",\" \").capitalize()\n",
    "    plt.subplot(2,2,n+1)\n",
    "    plt.plot(history.epoch, history.history[metric], color=colors[0], label='Train')\n",
    "    plt.plot(history.epoch, history.history['val_'+metric],\n",
    "             color=colors[0], linestyle=\"--\", label='Val')\n",
    "    plt.xlabel('Epoch')\n",
    "    plt.ylabel(name)\n",
    "    if metric == 'loss':\n",
    "      plt.ylim([0, plt.ylim()[1]])\n",
    "    elif metric == 'auc':\n",
    "      plt.ylim([0.8,1])\n",
    "    else:\n",
    "      plt.ylim([0,1])\n",
    "\n",
    "    plt.legend()\n",
    "    \n",
    "plot_metrics(history)"
   ],
   "outputs": [
    {
     "data": {
      "text/plain": [
       "<Figure size 1200x1000 with 4 Axes>"
      ],
      "image/png": "[encoded data removed]"
     },
     "metadata": {},
     "output_type": "display_data"
    }
   ],
   "execution_count": 67
  },
  {
   "cell_type": "code",
   "id": "60f581bf",
   "metadata": {
    "ExecuteTime": {
     "end_time": "2025-01-12T23:49:47.042521Z",
     "start_time": "2025-01-12T23:49:17.623525Z"
    }
   },
   "source": [
    "train_predictions_baseline = model.predict(train_ds, batch_size=batch_size)\n",
    "valid_predictions_baseline = model.predict(valid_ds, batch_size=batch_size)\n",
    "\n",
    "def plot_cm(labels, predictions, threshold=0.5):\n",
    "  cm = confusion_matrix(labels, predictions > threshold)\n",
    "  plt.figure(figsize=(5,5))\n",
    "  sns.heatmap(cm, annot=True, fmt=\"d\")\n",
    "  plt.title('Confusion matrix @{:.2f}'.format(threshold))\n",
    "  plt.ylabel('Actual label')\n",
    "  plt.xlabel('Predicted label')\n",
    "\n",
    "  print('(True Negatives): ', cm[0][0])\n",
    "  print('(False Positives): ', cm[0][1])\n",
    "  print('(False Negatives): ', cm[1][0])\n",
    "  print('(True Positives): ', cm[1][1])\n",
    "  print('Total: ', np.sum(cm[1]))"
   ],
   "outputs": [
    {
     "name": "stdout",
     "output_type": "stream",
     "text": [
      "177/177 [==============================] - 26s 148ms/step\n",
      "20/20 [==============================] - 3s 142ms/step\n"
     ]
    }
   ],
   "execution_count": 68
  },
  {
   "cell_type": "code",
   "id": "9b3d3d86",
   "metadata": {
    "ExecuteTime": {
     "end_time": "2025-01-12T23:49:47.058522Z",
     "start_time": "2025-01-12T23:49:47.043523Z"
    }
   },
   "source": [
    "train_pred_bool = np.argmax(train_predictions_baseline, axis=1)\n",
    "\n",
    "print(classification_report(train_labels, train_pred_bool))"
   ],
   "outputs": [
    {
     "name": "stdout",
     "output_type": "stream",
     "text": [
      "              precision    recall  f1-score   support\n",
      "\n",
      "           0       0.87      1.00      0.93      2469\n",
      "           1       0.00      0.00      0.00       360\n",
      "\n",
      "    accuracy                           0.87      2829\n",
      "   macro avg       0.44      0.50      0.47      2829\n",
      "weighted avg       0.76      0.87      0.81      2829\n",
      "\n"
     ]
    }
   ],
   "execution_count": 69
  },
  {
   "cell_type": "code",
   "id": "68e338a3",
   "metadata": {
    "ExecuteTime": {
     "end_time": "2025-01-12T23:49:47.073523Z",
     "start_time": "2025-01-12T23:49:47.059524Z"
    }
   },
   "source": [
    "valid_y_pred_bool = np.argmax(valid_predictions_baseline, axis=1)\n",
    "\n",
    "print(classification_report(valid_labels, valid_y_pred_bool))"
   ],
   "outputs": [
    {
     "name": "stdout",
     "output_type": "stream",
     "text": [
      "              precision    recall  f1-score   support\n",
      "\n",
      "           0       0.90      1.00      0.94       282\n",
      "           1       0.00      0.00      0.00        33\n",
      "\n",
      "    accuracy                           0.90       315\n",
      "   macro avg       0.45      0.50      0.47       315\n",
      "weighted avg       0.80      0.90      0.85       315\n",
      "\n"
     ]
    }
   ],
   "execution_count": 70
  },
  {
   "cell_type": "code",
   "id": "82e26ed8",
   "metadata": {
    "ExecuteTime": {
     "end_time": "2025-01-12T23:49:47.279521Z",
     "start_time": "2025-01-12T23:49:47.074523Z"
    }
   },
   "source": [
    "plot_cm(train_labels, train_predictions_baseline)"
   ],
   "outputs": [
    {
     "name": "stdout",
     "output_type": "stream",
     "text": [
      "(True Negatives):  2426\n",
      "(False Positives):  43\n",
      "(False Negatives):  129\n",
      "(True Positives):  231\n",
      "Total:  360\n"
     ]
    },
    {
     "data": {
      "text/plain": [
       "<Figure size 500x500 with 2 Axes>"
      ],
      "image/png": "[encoded data removed]"
     },
     "metadata": {},
     "output_type": "display_data"
    }
   ],
   "execution_count": 71
  },
  {
   "cell_type": "code",
   "id": "99790254",
   "metadata": {
    "ExecuteTime": {
     "end_time": "2025-01-12T23:49:47.486524Z",
     "start_time": "2025-01-12T23:49:47.280525Z"
    }
   },
   "source": [
    "plot_cm(valid_labels, valid_predictions_baseline)"
   ],
   "outputs": [
    {
     "name": "stdout",
     "output_type": "stream",
     "text": [
      "(True Negatives):  271\n",
      "(False Positives):  11\n",
      "(False Negatives):  16\n",
      "(True Positives):  17\n",
      "Total:  33\n"
     ]
    },
    {
     "data": {
      "text/plain": [
       "<Figure size 500x500 with 2 Axes>"
      ],
      "image/png": "[encoded data removed]"
     },
     "metadata": {},
     "output_type": "display_data"
    }
   ],
   "execution_count": 72
  },
  {
   "cell_type": "code",
   "id": "2408bff1",
   "metadata": {
    "ExecuteTime": {
     "end_time": "2025-01-12T23:52:28.931400Z",
     "start_time": "2025-01-12T23:52:28.706403Z"
    }
   },
   "source": "plot_cm(valid_labels, valid_predictions_baseline, threshold=0.1)",
   "outputs": [
    {
     "name": "stdout",
     "output_type": "stream",
     "text": [
      "(True Negatives):  265\n",
      "(False Positives):  17\n",
      "(False Negatives):  14\n",
      "(True Positives):  19\n",
      "Total:  33\n"
     ]
    },
    {
     "data": {
      "text/plain": [
       "<Figure size 500x500 with 2 Axes>"
      ],
      "image/png": "[encoded data removed]"
     },
     "metadata": {},
     "output_type": "display_data"
    }
   ],
   "execution_count": 79
  },
  {
   "cell_type": "code",
   "id": "6252a843",
   "metadata": {
    "ExecuteTime": {
     "end_time": "2025-01-12T23:49:47.946521Z",
     "start_time": "2025-01-12T23:49:47.693523Z"
    }
   },
   "source": [
    "def plot_roc(name, labels, predictions, **kwargs):\n",
    "  fp, tp, _ = sklearn.metrics.roc_curve(labels, predictions)\n",
    "\n",
    "  plt.plot(100*fp, 100*tp, label=name, linewidth=2, **kwargs)\n",
    "  plt.xlabel('False positives [%]')\n",
    "  plt.ylabel('True positives [%]')\n",
    "  plt.xlim([-1.5,101.5])\n",
    "  plt.ylim([0,101.5])\n",
    "  plt.grid(True)\n",
    "  ax = plt.gca()\n",
    "  ax.set_aspect('equal')\n",
    "  \n",
    "plot_roc(\"Train Baseline\", train_labels, train_predictions_baseline, color=colors[0])\n",
    "plot_roc(\"Test Baseline\", valid_labels, valid_predictions_baseline, color=colors[0], linestyle='--')\n",
    "plt.legend(loc='lower right');"
   ],
   "outputs": [
    {
     "data": {
      "text/plain": [
       "<Figure size 1200x1000 with 1 Axes>"
      ],
      "image/png": "[encoded data removed]"
     },
     "metadata": {},
     "output_type": "display_data"
    }
   ],
   "execution_count": 74
  },
  {
   "cell_type": "code",
   "id": "cd43da36",
   "metadata": {
    "ExecuteTime": {
     "end_time": "2025-01-12T23:49:48.199523Z",
     "start_time": "2025-01-12T23:49:47.947523Z"
    }
   },
   "source": [
    "def plot_prc(name, labels, predictions, **kwargs):\n",
    "    precision, recall, _ = sklearn.metrics.precision_recall_curve(labels, predictions)\n",
    "\n",
    "    plt.plot(precision, recall, label=name, linewidth=2, **kwargs)\n",
    "    plt.xlabel('Precision')\n",
    "    plt.ylabel('Recall')\n",
    "    plt.grid(True)\n",
    "    ax = plt.gca()\n",
    "    ax.set_aspect('equal')\n",
    "    \n",
    "plot_prc(\"Train Baseline\", train_labels, train_predictions_baseline, color=colors[0])\n",
    "plot_prc(\"Test Baseline\", valid_labels, valid_predictions_baseline, color=colors[0], linestyle='--')\n",
    "plt.legend(loc='lower left');"
   ],
   "outputs": [
    {
     "data": {
      "text/plain": [
       "<Figure size 1200x1000 with 1 Axes>"
      ],
      "image/png": "[encoded data removed]"
     },
     "metadata": {},
     "output_type": "display_data"
    }
   ],
   "execution_count": 75
  },
  {
   "cell_type": "code",
   "id": "3dd8783e",
   "metadata": {
    "ExecuteTime": {
     "end_time": "2025-01-13T00:16:16.313309Z",
     "start_time": "2025-01-13T00:16:16.301310Z"
    }
   },
   "source": [
    "# Testing\n",
    "\n",
    "test_hdf5 = h5py.File(f\"{ROOT_DIR}/test-image.hdf5\", 'r')\n",
    "test_df = pd.read_csv(f\"{ROOT_DIR}/test-metadata.csv\")\n",
    "test_ids = test_df.isic_id.values\n",
    "print(test_df)\n",
    "\n",
    "test_images = [None]*len(test_ids)\n",
    "test_labels = [None]*len(test_ids)\n",
    "\n",
    "for i, isic_id in enumerate(test_ids):\n",
    "    if isic_id in test_hdf5:\n",
    "        if test_hdf5[isic_id][()] is not None:\n",
    "            test_images[i] = test_hdf5[isic_id][()]\n",
    "            test_labels[i] = test_df[isic_id].target\n",
    "\n",
    "print(f\"Loaded {len(images)} images.\")\n",
    "\n",
    "test_dataset = tf.data.Dataset.from_tensor_slices(test_images, test_labels)\n",
    "\n",
    "test_dataset = test_dataset.cache()\n",
    "\n",
    "test_dataset = test_dataset.map(image_decoder, num_parallel_calls=AUTOTUNE)\n",
    "\n",
    "test_dataset = test_dataset.batch(batch_size=batch_size, drop_remainder=True)\n",
    "\n",
    "test_dataset = test_dataset.prefetch(buffer_size=AUTOTUNE)\n",
    "\n",
    "print(f\"Testing dataset size: {test_dataset.cardinality().numpy()}\")\n",
    "\n",
    "predictions = model.predict(test_dataset)"
   ],
   "outputs": [],
   "execution_count": 84
  },
  {
   "cell_type": "code",
   "id": "9cc53dd86cba149e",
   "metadata": {
    "ExecuteTime": {
     "end_time": "2025-01-13T00:16:29.976687Z",
     "start_time": "2025-01-13T00:16:29.961692Z"
    }
   },
   "source": [
    "# Submission\n",
    "\n",
    "image_ids = []\n",
    "predictions = []\n",
    "\n",
    "with h5py.File(\"./SIC2024_SkinCancerDetection/data/test-image.hdf5\", 'r') as hdf:\n",
    "    for key in hdf.keys():\n",
    "        dataset = hdf[key]\n",
    "        if isinstance(dataset, h5py.Dataset):\n",
    "\n",
    "            img_data = dataset[()]\n",
    "            img_data = np.frombuffer(img_data, dtype=np.uint8)\n",
    "            img = Image.open(io.BytesIO(img_data))\n",
    "\n",
    "            img = test_transform(img)\n",
    "\n",
    "            img = img.unsqueeze(0).to(data_config['device']) \n",
    "\n",
    "            output = model(img)\n",
    "            # probability = output.squeeze().cpu().item()\n",
    "\n",
    "            image_ids.append(key)\n",
    "            predictions.append(output)\n",
    "\n",
    "submission_df = pd.DataFrame({\n",
    "    'isic_id': image_ids,\n",
    "    'target': predictions \n",
    "})\n",
    "\n",
    "submission_df.to_csv('submission.csv', index=False)"
   ],
   "outputs": [],
   "execution_count": 85
  },
  {
   "cell_type": "code",
   "id": "feca4cc3f5ea2bb6",
   "metadata": {},
   "source": [
    "# TODO: Custom training loop with evaluation"
   ],
   "outputs": [],
   "execution_count": null
  }
 ],
 "metadata": {
  "kernelspec": {
   "display_name": "tfgpu",
   "language": "python",
   "name": "python3"
  },
  "language_info": {
   "codemirror_mode": {
    "name": "ipython",
    "version": 3
   },
   "file_extension": ".py",
   "mimetype": "text/x-python",
   "name": "python",
   "nbconvert_exporter": "python",
   "pygments_lexer": "ipython3",
   "version": "3.8.20"
  }
 },
 "nbformat": 4,
 "nbformat_minor": 5
}
